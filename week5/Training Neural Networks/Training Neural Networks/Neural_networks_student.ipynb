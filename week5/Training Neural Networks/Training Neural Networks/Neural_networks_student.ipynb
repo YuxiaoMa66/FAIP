{
 "cells": [
  {
   "cell_type": "code",
   "execution_count": 2,
   "id": "26ae0979",
   "metadata": {},
   "outputs": [
    {
     "data": {
      "image/png": "[encoded data removed]",
      "text/plain": [
       "<Figure size 72x72 with 1 Axes>"
      ]
     },
     "metadata": {
      "needs_background": "light"
     },
     "output_type": "display_data"
    }
   ],
   "source": [
    "import matplotlib.pyplot as plt\n",
    "import numpy as np\n",
    "x = np.zeros((1,1)) * 255\n",
    "plt.figure(figsize = (1,1))\n",
    "plt.axis('off')\n",
    "plt.imshow(x,  cmap='gray', vmin=0, vmax=255)\n",
    "plt.show()"
   ]
  },
  {
   "cell_type": "markdown",
   "id": "4e32b319",
   "metadata": {},
   "source": [
    "# An Introduction to Neural Networks\n",
    "In this notebook, the goal is to understand the basics of implementing a fully connected neural network in python using the pytorch library. This is done by completing three steps: \n",
    "<ul>\n",
    "  <li>Loading the MNIST data-set and preformatting the data. The MNIST data set consist out of a number of samples of handwirtten numbers, recorded on a 28x28 grid with values between 0 and 1 for each element.</li>\n",
    "  <li>Constructing a deep and fully connected neural network based on some given hyperparameters. </li>\n",
    "  <li>Training and validating this network on the loaded data-set. Here, we will vary some hyperparamters and investigate their influence on the final result.</li>\n",
    "</ul>  "
   ]
  },
  {
   "cell_type": "markdown",
   "id": "916634f9",
   "metadata": {},
   "source": [
    "## Loading required Libraries\n",
    "In a first step, we have to load the packages we want to uses. This includes the numpy package for preprocessing the data, the pytorch package (torch) for constructing and training the neural network, and the matplotlib package for visualizing the results. We also define a function that allows us the easy representation of any sample from the data-set."
   ]
  },
  {
   "cell_type": "code",
   "execution_count": 3,
   "id": "6d7a1fc7",
   "metadata": {},
   "outputs": [
    {
     "name": "stderr",
     "output_type": "stream",
     "text": [
      "d:\\Anaconda\\envs\\tf_torch\\lib\\site-packages\\tqdm\\auto.py:22: TqdmWarning: IProgress not found. Please update jupyter and ipywidgets. See https://ipywidgets.readthedocs.io/en/stable/user_install.html\n",
      "  from .autonotebook import tqdm as notebook_tqdm\n"
     ]
    }
   ],
   "source": [
    "# Load numpy library\n",
    "import numpy as np\n",
    "# Load pytorch libraries\n",
    "import torch\n",
    "import torch.nn as nn\n",
    "import torch.optim as optim\n",
    "import torch.nn.functional as F\n",
    "# Load matplotlib library\n",
    "import matplotlib.pyplot as plt\n",
    "\n",
    "\n",
    "def plot_in_and_out(x, y_true, y_pred = np.array([None, None])):\n",
    "    plt.figure(figsize = (5,5))\n",
    "    plt.axis('off')\n",
    "    plt.imshow(x,  cmap='gray', vmin=0, vmax=255)\n",
    "    if (y_pred == None).any():\n",
    "        plt.title('This figure is labelled as a {}.'.format(y_true))\n",
    "    else:\n",
    "        plt.title('This figure is labelled as a {}, \\n while beeing classified as {} (probability: {:0.3f}).'.format(y_true, int(y_pred[0]), y_pred[1]))\n",
    "    plt.show()"
   ]
  },
  {
   "cell_type": "markdown",
   "id": "ce823ebb",
   "metadata": {},
   "source": [
    "## Loading the data-set\n",
    "After setting up our python file, we have to load the MNIST data set. This consists out of a training set and a testing set. "
   ]
  },
  {
   "cell_type": "code",
   "execution_count": 4,
   "id": "9a04e8c0",
   "metadata": {},
   "outputs": [],
   "source": [
    "import torchvision.datasets as datasets\n",
    "# load the training set\n",
    "mnist_trainset = datasets.MNIST(root='./data', train=True, download=True, transform=None)\n",
    "# load the test set\n",
    "mnist_testset = datasets.MNIST(root='./data', train=False, download=True, transform=None)\n"
   ]
  },
  {
   "cell_type": "markdown",
   "id": "84f5ab12",
   "metadata": {},
   "source": [
    "## Transform the data-set\n",
    "After loading the dataset, we have to load transform it into a better form.\n",
    "Currently, both data set consist out of a list of samples (60 000 training samples and 10 000 testing samples), each sample being a tuple of an image and an integer label. Our goal is to transform those into numpy arrays for input and label of training and testing set each:"
   ]
  },
  {
   "cell_type": "code",
   "execution_count": 5,
   "id": "3313e5b5",
   "metadata": {},
   "outputs": [],
   "source": [
    "# Set up empty numpy arrays:\n",
    "x_train = mnist_trainset.data.numpy() # training input\n",
    "y_train = mnist_trainset.targets.numpy() # training labels\n",
    "\n",
    "x_test = mnist_testset.data.numpy() # testing input\n",
    "y_test = mnist_testset.targets.numpy() # testing labels\n",
    "    \n",
    "# test if data loaded correctly\n",
    "assert x_train.shape == (60000, 28, 28)\n",
    "assert x_test.shape == (10000, 28, 28)\n",
    "assert y_train.shape == (60000,)\n",
    "assert y_test.shape == (10000,)"
   ]
  },
  {
   "cell_type": "markdown",
   "id": "6a0c1c6a",
   "metadata": {},
   "source": [
    "## Showing an example\n",
    "We can show how one sample looks:"
   ]
  },
  {
   "cell_type": "code",
   "execution_count": 6,
   "id": "a385ecdb",
   "metadata": {},
   "outputs": [
    {
     "data": {
      "image/png": "[encoded data removed]",
      "text/plain": [
       "<Figure size 360x360 with 1 Axes>"
      ]
     },
     "metadata": {
      "needs_background": "light"
     },
     "output_type": "display_data"
    }
   ],
   "source": [
    "i_sample = 0\n",
    "plot_in_and_out(x_train[i_sample], y_train[i_sample])"
   ]
  },
  {
   "cell_type": "markdown",
   "id": "c74b23b5",
   "metadata": {},
   "source": [
    "## Transforming the labels\n",
    "The neural network will be constructed to have ten possible outputs, as there are ten possible digits (0,1,...,9). Consequently, the last layer of the network will have ten nodes. Each node here represents the probabilty of the input being the corresponding number. For example, the output [1, 0, 0, 0, 0, 0, 0, 0, 0, 0] will correspond to the network being 100% sure that the input is an 0.\n",
    "\n",
    "To train such a network, our labels of the training set therefore have to be transformed into a so-called one-hot encoding."
   ]
  },
  {
   "cell_type": "code",
   "execution_count": 7,
   "id": "37a03bdd",
   "metadata": {},
   "outputs": [
    {
     "name": "stdout",
     "output_type": "stream",
     "text": [
      "The one-hot encoding corresponding to label 5: [0. 0. 0. 0. 0. 1. 0. 0. 0. 0.]\n"
     ]
    }
   ],
   "source": [
    "# set number of classes\n",
    "num_classes = 10\n",
    "# create array full of zeros\n",
    "y_train_cat = np.zeros((len(y_train), num_classes))\n",
    "# override specific entry in each row with a 1\n",
    "y_train_cat[np.arange(len(y_train)), y_train] = 1\n",
    "\n",
    "print('The one-hot encoding corresponding to label {}:'.format(y_train[i_sample]), y_train_cat[i_sample,:])"
   ]
  },
  {
   "cell_type": "markdown",
   "id": "30956c95",
   "metadata": {},
   "source": [
    "## Example: Constructing a neural network\n",
    "The goal is now to create a dense neural netwrok which can classify a given number according to its input. <br>\n",
    "Such an network consists out of three parts, which are the <span style=\"color: #ff8080\">input layer</span>, the <span style=\"color: #8080ff\">hidden layers</span> and the <span style=\"color: #80ff80\">output layer</span>.\n",
    "\n",
    "![An examplar structure of a feed-forward neural network](Neural_Network.png)\n"
   ]
  },
  {
   "cell_type": "markdown",
   "id": "ee3695ad",
   "metadata": {},
   "source": [
    "In pytorch, such networks are commonly constructed as a model class.\n",
    "For a 3 layer dense neural network, where the input samples have the dimensionality of 28x28, and the hidden layer has 100 nueron, while the output layer has 10, it would be implemented in the following way:"
   ]
  },
  {
   "cell_type": "code",
   "execution_count": 8,
   "id": "c64b0028",
   "metadata": {},
   "outputs": [],
   "source": [
    "class Neural_network(nn.Module): #inherit the nn.Module class for backpropagation and training functionalities\n",
    "    # Build the layers of the network, and initializes the parameters\n",
    "    def __init__(self): \n",
    "        super(Neural_network, self).__init__()\n",
    "        self.fc1 = nn.Linear(784, 100, bias = True)  # fully connected layer from 784 to 100 dimensions\n",
    "        self.fc2 = nn.Linear(100, 10, bias = True) # fully connected layer from 100 to 10 dimensions\n",
    "    \n",
    "    # Build the forward call \n",
    "    def forward(self, x): # x is the input of dimensionality n x 28 x 28\n",
    "        x = torch.flatten(x, start_dim = 1) # x is reshaped into a n x 784 dimensional input \n",
    "        x = self.fc1(x) # apply the first fully connected layer, x now has shape n x 100\n",
    "        x = F.relu(x) # We apply a ReLU activation to the hidden layer\n",
    "        x = self.fc2(x) # We apply the second fully connected layer, x now has shape n x 10\n",
    "        x = F.softmax(x, dim = -1) # We apply the softmax activation function\n",
    "        return x"
   ]
  },
  {
   "cell_type": "markdown",
   "id": "c9b02639",
   "metadata": {},
   "source": [
    "The softmax activation function takes an input x and transforms it into y so that the sum over y is equal to 1. To avoid any influence of the mean of x, one uses the fromula y = exp(x) / sum(exp(x)) "
   ]
  },
  {
   "cell_type": "markdown",
   "id": "a1a28a42",
   "metadata": {},
   "source": [
    "The parts of the model, as well as their respective parameters, can then be displayed:"
   ]
  },
  {
   "cell_type": "code",
   "execution_count": 9,
   "id": "490849f1",
   "metadata": {},
   "outputs": [
    {
     "name": "stdout",
     "output_type": "stream",
     "text": [
      "Neural_network(\n",
      "  (fc1): Linear(in_features=784, out_features=100, bias=True)\n",
      "  (fc2): Linear(in_features=100, out_features=10, bias=True)\n",
      ")\n",
      "\n",
      "Number of parameter arrays: 4\n",
      "The shape of the parameter arrays:\n",
      "torch.Size([100, 784])\n",
      "torch.Size([100])\n",
      "torch.Size([10, 100])\n",
      "torch.Size([10])\n"
     ]
    }
   ],
   "source": [
    "torch.manual_seed(0) # set random seed for variabl initialization\n",
    "net = Neural_network()\n",
    "print(net)\n",
    "print('')\n",
    "params = list(net.parameters())\n",
    "print('Number of parameter arrays: ' + str(len(params)))\n",
    "print('The shape of the parameter arrays:')\n",
    "for param in params:\n",
    "    print(param.shape)"
   ]
  },
  {
   "cell_type": "markdown",
   "id": "ffb01ffd",
   "metadata": {},
   "source": [
    "## Training the model\n",
    "After writing the model class, we now can train the parameters of the model on a data-set. Here, we have to do a number of steps. \n",
    "\n",
    "### Defining a loss function:\n",
    "The network is able to process an input, but to be able to learn, it has to be able to evaluate the input. This is the purpose of the loss function. Here, we will use the mean squared error: "
   ]
  },
  {
   "cell_type": "code",
   "execution_count": 10,
   "id": "634b7966",
   "metadata": {},
   "outputs": [],
   "source": [
    "loss_func = nn.MSELoss()"
   ]
  },
  {
   "cell_type": "markdown",
   "id": "b2c479a0",
   "metadata": {},
   "source": [
    "The we also have to define an optimizer. This takes the gradients of loss function in regard to the parameters and then changes the parameters accordingly. Here, we use the Adam algorithm:"
   ]
  },
  {
   "cell_type": "code",
   "execution_count": 11,
   "id": "8f652acb",
   "metadata": {},
   "outputs": [],
   "source": [
    "# optimizer = optim.SGD(net.parameters(), lr=0.001)\n",
    "optimizer = optim.Adam(net.parameters(), lr=0.001, betas=(0.9, 0.999))"
   ]
  },
  {
   "cell_type": "markdown",
   "id": "50b8d1e0",
   "metadata": {},
   "source": [
    "Finally, we have to normalize the inputs:"
   ]
  },
  {
   "cell_type": "code",
   "execution_count": 12,
   "id": "186a6f26",
   "metadata": {},
   "outputs": [],
   "source": [
    "x_train_norm = x_train.astype('float32')\n",
    "\n",
    "x_mean = x_train_norm.mean(axis = 0, keepdims = True)\n",
    "x_train_norm -= x_mean\n",
    "\n",
    "x_std = (x_train_norm.std(axis = 0, keepdims = True) + 1e-8)\n",
    "x_train_norm /= x_std\n",
    "\n",
    "x_test_norm = (x_test.astype('float32') - x_mean)/x_std"
   ]
  },
  {
   "cell_type": "markdown",
   "id": "69744f66",
   "metadata": {},
   "source": [
    "Now we have to just iterate over a number of epochs and number of batches:"
   ]
  },
  {
   "cell_type": "code",
   "execution_count": 12,
   "id": "a309b43c",
   "metadata": {},
   "outputs": [
    {
     "name": "stdout",
     "output_type": "stream",
     "text": [
      "Loss for epoch 1/100: 1.5230e-02\n",
      "Loss for epoch 2/100: 6.2644e-03\n",
      "Loss for epoch 3/100: 4.5620e-03\n",
      "Loss for epoch 4/100: 3.5355e-03\n",
      "Loss for epoch 5/100: 2.8777e-03\n",
      "Loss for epoch 6/100: 2.3887e-03\n",
      "Loss for epoch 7/100: 1.9574e-03\n",
      "Loss for epoch 8/100: 1.6831e-03\n",
      "Loss for epoch 9/100: 1.4493e-03\n",
      "Loss for epoch 10/100: 1.2732e-03\n",
      "Loss for epoch 11/100: 1.1353e-03\n",
      "Loss for epoch 12/100: 1.0537e-03\n",
      "Loss for epoch 13/100: 9.5033e-04\n",
      "Loss for epoch 14/100: 8.4237e-04\n",
      "Loss for epoch 15/100: 7.8661e-04\n",
      "Loss for epoch 16/100: 7.2439e-04\n",
      "Loss for epoch 17/100: 7.3040e-04\n",
      "Loss for epoch 18/100: 7.4985e-04\n",
      "Loss for epoch 19/100: 6.7398e-04\n",
      "Loss for epoch 20/100: 5.8861e-04\n",
      "Loss for epoch 21/100: 5.3843e-04\n",
      "Loss for epoch 22/100: 6.0082e-04\n",
      "Loss for epoch 23/100: 5.1422e-04\n",
      "Loss for epoch 24/100: 5.1216e-04\n",
      "Loss for epoch 25/100: 5.5640e-04\n",
      "Loss for epoch 26/100: 5.9100e-04\n",
      "Loss for epoch 27/100: 5.7405e-04\n",
      "Loss for epoch 28/100: 4.4670e-04\n",
      "Loss for epoch 29/100: 4.3791e-04\n",
      "Loss for epoch 30/100: 4.5268e-04\n",
      "Loss for epoch 31/100: 5.7979e-04\n",
      "Loss for epoch 32/100: 5.5356e-04\n",
      "Loss for epoch 33/100: 5.8917e-04\n",
      "Loss for epoch 34/100: 6.2661e-04\n",
      "Loss for epoch 35/100: 5.6884e-04\n",
      "Loss for epoch 36/100: 4.5966e-04\n",
      "Loss for epoch 37/100: 4.4895e-04\n",
      "Loss for epoch 38/100: 4.9435e-04\n",
      "Loss for epoch 39/100: 4.2935e-04\n",
      "Loss for epoch 40/100: 4.3530e-04\n",
      "Loss for epoch 41/100: 4.0578e-04\n",
      "Loss for epoch 42/100: 5.0767e-04\n",
      "Loss for epoch 43/100: 4.9093e-04\n",
      "Loss for epoch 44/100: 5.0367e-04\n",
      "Loss for epoch 45/100: 3.8914e-04\n",
      "Loss for epoch 46/100: 4.4272e-04\n",
      "Loss for epoch 47/100: 5.9179e-04\n",
      "Loss for epoch 48/100: 5.4335e-04\n",
      "Loss for epoch 49/100: 4.6527e-04\n",
      "Loss for epoch 50/100: 4.0719e-04\n",
      "Loss for epoch 51/100: 4.2389e-04\n",
      "Loss for epoch 52/100: 4.7559e-04\n",
      "Loss for epoch 53/100: 5.1675e-04\n",
      "Loss for epoch 54/100: 4.5652e-04\n",
      "Loss for epoch 55/100: 4.4011e-04\n",
      "Loss for epoch 56/100: 4.8515e-04\n",
      "Loss for epoch 57/100: 4.3389e-04\n",
      "Loss for epoch 58/100: 4.4142e-04\n",
      "Loss for epoch 59/100: 4.2937e-04\n",
      "Loss for epoch 60/100: 4.8986e-04\n",
      "Loss for epoch 61/100: 4.9478e-04\n",
      "Loss for epoch 62/100: 4.3744e-04\n",
      "Loss for epoch 63/100: 3.6548e-04\n",
      "Loss for epoch 64/100: 3.8170e-04\n",
      "Loss for epoch 65/100: 4.2666e-04\n",
      "Loss for epoch 66/100: 4.9568e-04\n",
      "Loss for epoch 67/100: 5.4109e-04\n",
      "Loss for epoch 68/100: 5.0234e-04\n",
      "Loss for epoch 69/100: 5.3738e-04\n",
      "Loss for epoch 70/100: 4.9315e-04\n",
      "Loss for epoch 71/100: 4.0932e-04\n",
      "Loss for epoch 72/100: 4.1129e-04\n",
      "Loss for epoch 73/100: 4.8051e-04\n",
      "Loss for epoch 74/100: 5.2783e-04\n",
      "Loss for epoch 75/100: 5.0091e-04\n",
      "Loss for epoch 76/100: 4.8684e-04\n",
      "Loss for epoch 77/100: 4.0517e-04\n",
      "Loss for epoch 78/100: 3.8380e-04\n",
      "Loss for epoch 79/100: 4.2881e-04\n",
      "Loss for epoch 80/100: 4.1417e-04\n",
      "Loss for epoch 81/100: 4.3493e-04\n",
      "Loss for epoch 82/100: 4.2801e-04\n",
      "Loss for epoch 83/100: 4.4378e-04\n",
      "Loss for epoch 84/100: 4.7130e-04\n",
      "Loss for epoch 85/100: 4.7655e-04\n",
      "Loss for epoch 86/100: 5.6683e-04\n",
      "Loss for epoch 87/100: 4.5951e-04\n",
      "Loss for epoch 88/100: 4.0713e-04\n",
      "Loss for epoch 89/100: 3.9722e-04\n",
      "Loss for epoch 90/100: 4.4386e-04\n",
      "Loss for epoch 91/100: 4.8236e-04\n",
      "Loss for epoch 92/100: 4.5035e-04\n",
      "Loss for epoch 93/100: 4.7236e-04\n",
      "Loss for epoch 94/100: 4.6784e-04\n",
      "Loss for epoch 95/100: 4.4293e-04\n",
      "Loss for epoch 96/100: 4.6091e-04\n",
      "Loss for epoch 97/100: 4.4455e-04\n",
      "Loss for epoch 98/100: 4.6870e-04\n",
      "Loss for epoch 99/100: 4.2315e-04\n",
      "Loss for epoch 100/100: 3.8297e-04\n"
     ]
    }
   ],
   "source": [
    "epochs = 100 # how many times do we want to go through the whole data set\n",
    "batch_size = 200 # how many samples do we process before updating weights\n",
    "batches = int(np.floor(len(y_train)/batch_size)) # how many batches are there when dividing the whole data set\n",
    "\n",
    "net.train() # set network to training mode\n",
    "Index = np.arange(len(y_train)) #Index, so we can randomly shuffle inputs and outputs\n",
    "\n",
    "np.random.seed(0) # set random seed for shuffling\n",
    "\n",
    "for epoch in range(1, epochs + 1):\n",
    "    np.random.shuffle(Index) # shuffle indices, so we do not circle during optimization\n",
    "    \n",
    "    loss_epoch = 0\n",
    "    \n",
    "    for batch in range(batches):\n",
    "        Index_batch = Index[batch * batch_size:(batch + 1) * batch_size]\n",
    "        x_batch = torch.from_numpy(x_train_norm[Index_batch]) # Get respective input data and transform into torch tensor\n",
    "        y_batch = torch.from_numpy(y_train_cat[Index_batch].astype('float32')) # Get respective output data and transform into torch tensor\n",
    "        \n",
    "        # delete gradients from optimizer (otherwise, gradients are cummulative summed up over all previous batches)\n",
    "        optimizer.zero_grad()\n",
    "        # predict the output for the given inputs (forward pass)\n",
    "        y_batch_pred = net(x_batch)\n",
    "        # calculate the loss of the predicted input (forward pass)\n",
    "        loss = loss_func(y_batch_pred, y_batch)\n",
    "        # get the gradients of the trainable paramters for the given loss (backward pass)\n",
    "        loss.backward()\n",
    "        # apply the gradients and change weights\n",
    "        optimizer.step()\n",
    "        \n",
    "        loss_epoch += loss\n",
    "    \n",
    "    loss_epoch /= batches\n",
    "    print('Loss for epoch {}/{}: {:0.4e}'.format(epoch,epochs, loss_epoch) )\n",
    "        "
   ]
  },
  {
   "cell_type": "markdown",
   "id": "193ca335",
   "metadata": {},
   "source": [
    "## Testing the model\n",
    "Finally, the model has to be tested:"
   ]
  },
  {
   "cell_type": "code",
   "execution_count": 13,
   "id": "5f25e4f1",
   "metadata": {},
   "outputs": [],
   "source": [
    "net.eval() # Set model inot evaluation mode\n",
    "with torch.no_grad(): # Only build forwards graph => faster method\n",
    "    y_test_pred = net(torch.from_numpy(x_test_norm))\n",
    "y_test_pred = y_test_pred.detach().numpy()"
   ]
  },
  {
   "cell_type": "markdown",
   "id": "d2b9bdf8",
   "metadata": {},
   "source": [
    "To get a prediction, we now have to find the label with the highest probability:"
   ]
  },
  {
   "cell_type": "code",
   "execution_count": 14,
   "id": "166afefe",
   "metadata": {},
   "outputs": [],
   "source": [
    "y_pred = np.concatenate((y_test_pred.argmax(axis = 1)[:,np.newaxis],          # Get the number with the highest probability\n",
    "                         y_test_pred.max(axis = 1)[:,np.newaxis]), axis = 1)  # Get the corresponding probability"
   ]
  },
  {
   "cell_type": "markdown",
   "id": "3b89c7ed",
   "metadata": {},
   "source": [
    "We can now visualize the predictions:"
   ]
  },
  {
   "cell_type": "code",
   "execution_count": 15,
   "id": "a92a093b",
   "metadata": {},
   "outputs": [
    {
     "data": {
      "image/png": "[encoded data removed]",
      "text/plain": [
       "<Figure size 360x360 with 1 Axes>"
      ]
     },
     "metadata": {
      "needs_background": "light"
     },
     "output_type": "display_data"
    }
   ],
   "source": [
    "i_sample_test = 0\n",
    "plot_in_and_out(x_test[i_sample_test], y_test[i_sample_test], y_pred[i_sample_test])"
   ]
  },
  {
   "cell_type": "markdown",
   "id": "e83eabe1",
   "metadata": {},
   "source": [
    "### Determine Accuracy\n",
    "Finally, one can determine the accuracy of the model on the test set"
   ]
  },
  {
   "cell_type": "code",
   "execution_count": 16,
   "id": "9a2e195d",
   "metadata": {},
   "outputs": [
    {
     "name": "stdout",
     "output_type": "stream",
     "text": [
      "The accuracy of the model on the test set is 97.43%\n"
     ]
    }
   ],
   "source": [
    "accuracy = np.mean(y_test == y_pred[:,0])\n",
    "print('The accuracy of the model on the test set is {:0.2f}%'.format(100*accuracy))"
   ]
  },
  {
   "cell_type": "code",
   "execution_count": 17,
   "id": "b65bf5e1",
   "metadata": {},
   "outputs": [
    {
     "data": {
      "image/png": "[encoded data removed]",
      "text/plain": [
       "<Figure size 360x360 with 1 Axes>"
      ]
     },
     "metadata": {
      "needs_background": "light"
     },
     "output_type": "display_data"
    }
   ],
   "source": [
    "failures = np.where(y_test != y_pred[:,0])[0]\n",
    "\n",
    "i_sample_failure = failures[-1]\n",
    "plot_in_and_out(x_test[i_sample_failure], y_test[i_sample_failure], y_pred[i_sample_failure])"
   ]
  },
  {
   "cell_type": "markdown",
   "id": "7253a176",
   "metadata": {},
   "source": [
    "## Varying the hyperparamters\n",
    "After seeing the example, we now have the goal of building a function which allows us to evaluate the performance for a certain implementation of a neural network, given a number of hyperparamters. The goal is to implement a neural network with two hidden layers, using relu activation in all but the last layers.\n",
    "The following things are to be varied:\n",
    "<ul>\n",
    "  <li>The optimizer: Use Adam as well as SDG</li>\n",
    "  <li>The batch size: Use 10, 100, 1000, 10000 </li>\n",
    "  <li>The number of neuron in the second hidden layer: Use 10, 50, 100 </li>\n",
    "</ul>  \n",
    "Meanwhile, 100 epochs are to be used for training, and the first hidden layer should have 100 neurons.\n",
    "<br>\n",
    "The accuracy of the trained models on the test has to be calculated for a comparison."
   ]
  },
  {
   "cell_type": "code",
   "execution_count": 17,
   "id": "b446298f",
   "metadata": {},
   "outputs": [],
   "source": [
    "# TODO:\n",
    "# Implement a neural network with two hidden layers and use the ReLU activation function in all but the last layer.\n",
    "class Neural_network(nn.Module): \n",
    "    def __init__(self, second_hidden_layer_size):\n",
    "        super(Neural_network, self).__init__()\n",
    "        self.fc1 = nn.Linear(784, 100, bias = True)  \n",
    "        self.fc2 = nn.Linear(100, second_hidden_layer_size, bias = True) \n",
    "        self.fc3 = nn.Linear(second_hidden_layer_size, 10, bias = True) \n",
    "    \n",
    "    def forward(self, x): \n",
    "        x = torch.flatten(x, start_dim = 1) \n",
    "        x = self.fc1(x) \n",
    "        x = F.relu(x) \n",
    "        x = self.fc2(x) \n",
    "        x = F.relu(x) \n",
    "        x = self.fc3(x) \n",
    "        x = F.softmax(x, dim = -1) \n",
    "        return x\n",
    "\n"
   ]
  },
  {
   "cell_type": "code",
   "execution_count": 33,
   "id": "127e5aca",
   "metadata": {},
   "outputs": [
    {
     "name": "stdout",
     "output_type": "stream",
     "text": [
      "True\n"
     ]
    }
   ],
   "source": [
    "import torch\n",
    "print(torch.cuda.is_available())"
   ]
  },
  {
   "cell_type": "code",
   "execution_count": 34,
   "id": "f4d20776",
   "metadata": {},
   "outputs": [
    {
     "name": "stdout",
     "output_type": "stream",
     "text": [
      "Device: cuda\n",
      "Neural_network(\n",
      "  (fc1): Linear(in_features=784, out_features=100, bias=True)\n",
      "  (fc2): Linear(in_features=100, out_features=50, bias=True)\n",
      "  (fc3): Linear(in_features=50, out_features=10, bias=True)\n",
      ")\n",
      "\n",
      "Number of parameter arrays: 6\n",
      "The shape of the parameter arrays:\n",
      "torch.Size([100, 784])\n",
      "torch.Size([100])\n",
      "torch.Size([50, 100])\n",
      "torch.Size([50])\n",
      "torch.Size([10, 50])\n",
      "torch.Size([10])\n"
     ]
    }
   ],
   "source": [
    "# Check if GPU is available and set the device\n",
    "device = torch.device('cuda' if torch.cuda.is_available() else 'cpu')\n",
    "print('Device: ' + str(device))\n",
    "\n",
    "# Set random seed for variable initialization\n",
    "torch.manual_seed(0)\n",
    "if device.type == 'cuda':\n",
    "    torch.cuda.manual_seed(0)\n",
    "\n",
    "# Initialize the neural network and move it to the GPU\n",
    "net = Neural_network(50).to(device)\n",
    "print(net)\n",
    "print('')\n",
    "params = list(net.parameters())\n",
    "print('Number of parameter arrays: ' + str(len(params)))\n",
    "print('The shape of the parameter arrays:')\n",
    "for param in params:\n",
    "    print(param.shape)"
   ]
  },
  {
   "cell_type": "code",
   "execution_count": 37,
   "id": "f3dd6202",
   "metadata": {},
   "outputs": [
    {
     "name": "stdout",
     "output_type": "stream",
     "text": [
      "Training with Adam, batch size 10, and 10 neurons in the second hidden layer.\n"
     ]
    },
    {
     "name": "stderr",
     "output_type": "stream",
     "text": [
      "Epochs for Adam | Batch size 10 | Neurons 10: 100%|██████████| 100/100 [17:13<00:00, 10.33s/it]\n"
     ]
    },
    {
     "name": "stdout",
     "output_type": "stream",
     "text": [
      "The accuracy of the model on the test set with Adam, batch size 10, and 10 neurons is 95.48%\n",
      "Training with Adam, batch size 10, and 50 neurons in the second hidden layer.\n"
     ]
    },
    {
     "name": "stderr",
     "output_type": "stream",
     "text": [
      "Epochs for Adam | Batch size 10 | Neurons 50: 100%|██████████| 100/100 [18:51<00:00, 11.31s/it]\n"
     ]
    },
    {
     "name": "stdout",
     "output_type": "stream",
     "text": [
      "The accuracy of the model on the test set with Adam, batch size 10, and 50 neurons is 95.73%\n",
      "Training with Adam, batch size 10, and 100 neurons in the second hidden layer.\n"
     ]
    },
    {
     "name": "stderr",
     "output_type": "stream",
     "text": [
      "Epochs for Adam | Batch size 10 | Neurons 100: 100%|██████████| 100/100 [19:35<00:00, 11.76s/it]\n"
     ]
    },
    {
     "name": "stdout",
     "output_type": "stream",
     "text": [
      "The accuracy of the model on the test set with Adam, batch size 10, and 100 neurons is 94.79%\n",
      "Training with Adam, batch size 100, and 10 neurons in the second hidden layer.\n"
     ]
    },
    {
     "name": "stderr",
     "output_type": "stream",
     "text": [
      "Epochs for Adam | Batch size 100 | Neurons 10: 100%|██████████| 100/100 [02:07<00:00,  1.28s/it]\n"
     ]
    },
    {
     "name": "stdout",
     "output_type": "stream",
     "text": [
      "The accuracy of the model on the test set with Adam, batch size 100, and 10 neurons is 97.12%\n",
      "Training with Adam, batch size 100, and 50 neurons in the second hidden layer.\n"
     ]
    },
    {
     "name": "stderr",
     "output_type": "stream",
     "text": [
      "Epochs for Adam | Batch size 100 | Neurons 50: 100%|██████████| 100/100 [02:05<00:00,  1.26s/it]\n"
     ]
    },
    {
     "name": "stdout",
     "output_type": "stream",
     "text": [
      "The accuracy of the model on the test set with Adam, batch size 100, and 50 neurons is 97.20%\n",
      "Training with Adam, batch size 100, and 100 neurons in the second hidden layer.\n"
     ]
    },
    {
     "name": "stderr",
     "output_type": "stream",
     "text": [
      "Epochs for Adam | Batch size 100 | Neurons 100: 100%|██████████| 100/100 [02:06<00:00,  1.27s/it]\n"
     ]
    },
    {
     "name": "stdout",
     "output_type": "stream",
     "text": [
      "The accuracy of the model on the test set with Adam, batch size 100, and 100 neurons is 97.08%\n",
      "Training with Adam, batch size 1000, and 10 neurons in the second hidden layer.\n"
     ]
    },
    {
     "name": "stderr",
     "output_type": "stream",
     "text": [
      "Epochs for Adam | Batch size 1000 | Neurons 10: 100%|██████████| 100/100 [00:24<00:00,  4.15it/s]\n"
     ]
    },
    {
     "name": "stdout",
     "output_type": "stream",
     "text": [
      "The accuracy of the model on the test set with Adam, batch size 1000, and 10 neurons is 97.14%\n",
      "Training with Adam, batch size 1000, and 50 neurons in the second hidden layer.\n"
     ]
    },
    {
     "name": "stderr",
     "output_type": "stream",
     "text": [
      "Epochs for Adam | Batch size 1000 | Neurons 50: 100%|██████████| 100/100 [00:24<00:00,  4.09it/s]\n"
     ]
    },
    {
     "name": "stdout",
     "output_type": "stream",
     "text": [
      "The accuracy of the model on the test set with Adam, batch size 1000, and 50 neurons is 97.24%\n",
      "Training with Adam, batch size 1000, and 100 neurons in the second hidden layer.\n"
     ]
    },
    {
     "name": "stderr",
     "output_type": "stream",
     "text": [
      "Epochs for Adam | Batch size 1000 | Neurons 100: 100%|██████████| 100/100 [00:24<00:00,  4.06it/s]\n"
     ]
    },
    {
     "name": "stdout",
     "output_type": "stream",
     "text": [
      "The accuracy of the model on the test set with Adam, batch size 1000, and 100 neurons is 96.99%\n",
      "Training with Adam, batch size 10000, and 10 neurons in the second hidden layer.\n"
     ]
    },
    {
     "name": "stderr",
     "output_type": "stream",
     "text": [
      "Epochs for Adam | Batch size 10000 | Neurons 10: 100%|██████████| 100/100 [00:10<00:00,  9.75it/s]\n"
     ]
    },
    {
     "name": "stdout",
     "output_type": "stream",
     "text": [
      "The accuracy of the model on the test set with Adam, batch size 10000, and 10 neurons is 96.30%\n",
      "Training with Adam, batch size 10000, and 50 neurons in the second hidden layer.\n"
     ]
    },
    {
     "name": "stderr",
     "output_type": "stream",
     "text": [
      "Epochs for Adam | Batch size 10000 | Neurons 50: 100%|██████████| 100/100 [00:10<00:00,  9.74it/s]\n"
     ]
    },
    {
     "name": "stdout",
     "output_type": "stream",
     "text": [
      "The accuracy of the model on the test set with Adam, batch size 10000, and 50 neurons is 96.63%\n",
      "Training with Adam, batch size 10000, and 100 neurons in the second hidden layer.\n"
     ]
    },
    {
     "name": "stderr",
     "output_type": "stream",
     "text": [
      "Epochs for Adam | Batch size 10000 | Neurons 100: 100%|██████████| 100/100 [00:10<00:00,  9.70it/s]\n"
     ]
    },
    {
     "name": "stdout",
     "output_type": "stream",
     "text": [
      "The accuracy of the model on the test set with Adam, batch size 10000, and 100 neurons is 96.89%\n",
      "Training with SGD, batch size 10, and 10 neurons in the second hidden layer.\n"
     ]
    },
    {
     "name": "stderr",
     "output_type": "stream",
     "text": [
      "Epochs for SGD | Batch size 10 | Neurons 10: 100%|██████████| 100/100 [13:36<00:00,  8.16s/it]\n"
     ]
    },
    {
     "name": "stdout",
     "output_type": "stream",
     "text": [
      "The accuracy of the model on the test set with SGD, batch size 10, and 10 neurons is 96.08%\n",
      "Training with SGD, batch size 10, and 50 neurons in the second hidden layer.\n"
     ]
    },
    {
     "name": "stderr",
     "output_type": "stream",
     "text": [
      "Epochs for SGD | Batch size 10 | Neurons 50: 100%|██████████| 100/100 [13:42<00:00,  8.23s/it]\n"
     ]
    },
    {
     "name": "stdout",
     "output_type": "stream",
     "text": [
      "The accuracy of the model on the test set with SGD, batch size 10, and 50 neurons is 96.32%\n",
      "Training with SGD, batch size 10, and 100 neurons in the second hidden layer.\n"
     ]
    },
    {
     "name": "stderr",
     "output_type": "stream",
     "text": [
      "Epochs for SGD | Batch size 10 | Neurons 100: 100%|██████████| 100/100 [14:53<00:00,  8.93s/it]\n"
     ]
    },
    {
     "name": "stdout",
     "output_type": "stream",
     "text": [
      "The accuracy of the model on the test set with SGD, batch size 10, and 100 neurons is 96.04%\n",
      "Training with SGD, batch size 100, and 10 neurons in the second hidden layer.\n"
     ]
    },
    {
     "name": "stderr",
     "output_type": "stream",
     "text": [
      "Epochs for SGD | Batch size 100 | Neurons 10: 100%|██████████| 100/100 [01:41<00:00,  1.02s/it]\n"
     ]
    },
    {
     "name": "stdout",
     "output_type": "stream",
     "text": [
      "The accuracy of the model on the test set with SGD, batch size 100, and 10 neurons is 84.94%\n",
      "Training with SGD, batch size 100, and 50 neurons in the second hidden layer.\n"
     ]
    },
    {
     "name": "stderr",
     "output_type": "stream",
     "text": [
      "Epochs for SGD | Batch size 100 | Neurons 50: 100%|██████████| 100/100 [01:48<00:00,  1.08s/it]\n"
     ]
    },
    {
     "name": "stdout",
     "output_type": "stream",
     "text": [
      "The accuracy of the model on the test set with SGD, batch size 100, and 50 neurons is 84.74%\n",
      "Training with SGD, batch size 100, and 100 neurons in the second hidden layer.\n"
     ]
    },
    {
     "name": "stderr",
     "output_type": "stream",
     "text": [
      "Epochs for SGD | Batch size 100 | Neurons 100: 100%|██████████| 100/100 [01:40<00:00,  1.00s/it]\n"
     ]
    },
    {
     "name": "stdout",
     "output_type": "stream",
     "text": [
      "The accuracy of the model on the test set with SGD, batch size 100, and 100 neurons is 83.85%\n",
      "Training with SGD, batch size 1000, and 10 neurons in the second hidden layer.\n"
     ]
    },
    {
     "name": "stderr",
     "output_type": "stream",
     "text": [
      "Epochs for SGD | Batch size 1000 | Neurons 10: 100%|██████████| 100/100 [00:21<00:00,  4.56it/s]\n"
     ]
    },
    {
     "name": "stdout",
     "output_type": "stream",
     "text": [
      "The accuracy of the model on the test set with SGD, batch size 1000, and 10 neurons is 16.70%\n",
      "Training with SGD, batch size 1000, and 50 neurons in the second hidden layer.\n"
     ]
    },
    {
     "name": "stderr",
     "output_type": "stream",
     "text": [
      "Epochs for SGD | Batch size 1000 | Neurons 50: 100%|██████████| 100/100 [00:22<00:00,  4.44it/s]\n"
     ]
    },
    {
     "name": "stdout",
     "output_type": "stream",
     "text": [
      "The accuracy of the model on the test set with SGD, batch size 1000, and 50 neurons is 13.83%\n",
      "Training with SGD, batch size 1000, and 100 neurons in the second hidden layer.\n"
     ]
    },
    {
     "name": "stderr",
     "output_type": "stream",
     "text": [
      "Epochs for SGD | Batch size 1000 | Neurons 100: 100%|██████████| 100/100 [00:22<00:00,  4.48it/s]\n"
     ]
    },
    {
     "name": "stdout",
     "output_type": "stream",
     "text": [
      "The accuracy of the model on the test set with SGD, batch size 1000, and 100 neurons is 34.84%\n",
      "Training with SGD, batch size 10000, and 10 neurons in the second hidden layer.\n"
     ]
    },
    {
     "name": "stderr",
     "output_type": "stream",
     "text": [
      "Epochs for SGD | Batch size 10000 | Neurons 10: 100%|██████████| 100/100 [00:10<00:00,  9.61it/s]\n"
     ]
    },
    {
     "name": "stdout",
     "output_type": "stream",
     "text": [
      "The accuracy of the model on the test set with SGD, batch size 10000, and 10 neurons is 8.57%\n",
      "Training with SGD, batch size 10000, and 50 neurons in the second hidden layer.\n"
     ]
    },
    {
     "name": "stderr",
     "output_type": "stream",
     "text": [
      "Epochs for SGD | Batch size 10000 | Neurons 50: 100%|██████████| 100/100 [00:10<00:00,  9.56it/s]\n"
     ]
    },
    {
     "name": "stdout",
     "output_type": "stream",
     "text": [
      "The accuracy of the model on the test set with SGD, batch size 10000, and 50 neurons is 11.86%\n",
      "Training with SGD, batch size 10000, and 100 neurons in the second hidden layer.\n"
     ]
    },
    {
     "name": "stderr",
     "output_type": "stream",
     "text": [
      "Epochs for SGD | Batch size 10000 | Neurons 100: 100%|██████████| 100/100 [00:10<00:00,  9.31it/s]"
     ]
    },
    {
     "name": "stdout",
     "output_type": "stream",
     "text": [
      "The accuracy of the model on the test set with SGD, batch size 10000, and 100 neurons is 10.31%\n"
     ]
    },
    {
     "name": "stderr",
     "output_type": "stream",
     "text": [
      "\n"
     ]
    }
   ],
   "source": [
    "# The optimizer: Use Adam as well as SDG\n",
    "#  The batch size: Use 10, 100, 1000, 10000 \n",
    "#  The number of neuron in the second hidden layer: Use 10, 50, 100\n",
    "from tqdm import tqdm\n",
    "\n",
    "np.random.seed(0)\n",
    "\n",
    "# Loss function\n",
    "loss_func = torch.nn.CrossEntropyLoss()\n",
    "\n",
    "# Define batch sizes and second hidden layer neuron counts\n",
    "batch_sizes = [10, 100, 1000, 10000]\n",
    "hidden_layer_sizes = [10, 50, 100]\n",
    "optimizers = ['Adam', 'SGD']\n",
    "epochs = 100\n",
    "\n",
    "for optimizer_type in optimizers:\n",
    "    for batch_size in batch_sizes:\n",
    "        for hidden_layer_size in hidden_layer_sizes:\n",
    "            # Initialize the network with the current hidden layer size and move to device\n",
    "            net = Neural_network(hidden_layer_size).to(device)\n",
    "\n",
    "            # Select the optimizer: either Adam or SGD\n",
    "            if optimizer_type == 'Adam':\n",
    "                optimizer = optim.Adam(net.parameters(), lr=0.001, betas=(0.9, 0.999))\n",
    "            elif optimizer_type == 'SGD':\n",
    "                optimizer = optim.SGD(net.parameters(), lr=0.001)\n",
    "\n",
    "            batches = int(np.floor(len(y_train) / batch_size))  # Calculate number of batches\n",
    "            \n",
    "            print(f\"Training with {optimizer_type}, batch size {batch_size}, and {hidden_layer_size} neurons in the second hidden layer.\")\n",
    "            \n",
    "            net.train()  # Set the network to training mode\n",
    "            Index = np.arange(len(y_train))  # Index for shuffling\n",
    "\n",
    "            # Initialize the progress bar for epochs\n",
    "            for epoch in tqdm(range(1, epochs + 1), desc=f\"Epochs for {optimizer_type} | Batch size {batch_size} | Neurons {hidden_layer_size}\"):\n",
    "                np.random.shuffle(Index)  # Shuffle indices before each epoch\n",
    "                loss_epoch = 0\n",
    "                \n",
    "                for batch in range(batches):\n",
    "                    # Get the indices for this batch\n",
    "                    Index_batch = Index[batch * batch_size:(batch + 1) * batch_size]\n",
    "                    \n",
    "                    # Convert numpy arrays to PyTorch tensors and move them to the device\n",
    "                    x_batch = torch.from_numpy(x_train_norm[Index_batch]).float().to(device)\n",
    "                    y_batch = torch.from_numpy(y_train_cat[Index_batch].astype('float32')).to(device)\n",
    "                    \n",
    "                    # Clear gradients from the optimizer\n",
    "                    optimizer.zero_grad()\n",
    "                    \n",
    "                    # Forward pass: compute predicted y\n",
    "                    y_batch_pred = net(x_batch)\n",
    "                    \n",
    "                    # Compute loss\n",
    "                    loss = loss_func(y_batch_pred, y_batch)\n",
    "                    \n",
    "                    # Backward pass: compute gradient of the loss with respect to model parameters\n",
    "                    loss.backward()\n",
    "                    \n",
    "                    # Update weights\n",
    "                    optimizer.step()\n",
    "                    \n",
    "                    loss_epoch += loss.item()  # Accumulate loss for this epoch\n",
    "                \n",
    "                # Compute average loss for this epoch\n",
    "                loss_epoch /= batches\n",
    "\n",
    "            # After training, set the model in evaluation mode and compute accuracy on the test set\n",
    "            net.eval()  # Set model to evaluation mode\n",
    "            with torch.no_grad():  # Disable gradient computation for faster evaluation\n",
    "                # Perform prediction on the test set\n",
    "                y_test_pred = net(torch.from_numpy(x_test_norm).float().to(device))\n",
    "                y_test_pred = y_test_pred.detach().cpu().numpy()  # Move predictions back to CPU and convert to numpy\n",
    "\n",
    "            # Get predicted labels and corresponding probabilities\n",
    "            y_pred = np.concatenate((y_test_pred.argmax(axis=1)[:, np.newaxis],  # Get the predicted class\n",
    "                                     y_test_pred.max(axis=1)[:, np.newaxis]), axis=1)  # Get the corresponding probability\n",
    "\n",
    "            # Compute accuracy by comparing predicted labels to true labels\n",
    "            accuracy = np.mean(y_test == y_pred[:, 0])\n",
    "            \n",
    "            # Print the accuracy for this configuration\n",
    "            print(f'The accuracy of the model on the test set with {optimizer_type}, batch size {batch_size}, and {hidden_layer_size} neurons is {100 * accuracy:.2f}%')"
   ]
  },
  {
   "cell_type": "code",
   "execution_count": null,
   "id": "7bcd04e2",
   "metadata": {},
   "outputs": [],
   "source": []
  }
 ],
 "metadata": {
  "kernelspec": {
   "display_name": "Python 3 (ipykernel)",
   "language": "python",
   "name": "python3"
  },
  "language_info": {
   "codemirror_mode": {
    "name": "ipython",
    "version": 3
   },
   "file_extension": ".py",
   "mimetype": "text/x-python",
   "name": "python",
   "nbconvert_exporter": "python",
   "pygments_lexer": "ipython3",
   "version": "3.7.13"
  }
 },
 "nbformat": 4,
 "nbformat_minor": 5
}
