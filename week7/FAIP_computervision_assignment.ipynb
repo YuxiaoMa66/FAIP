{
 "cells": [
  {
   "cell_type": "markdown",
   "metadata": {
    "cellIdentifier": "cnaxf5hbn47p4hmg1613g",
    "id": "aNgTYB1kr89q"
   },
   "source": [
    "# **Introduction to Computer Vision - Assignment**\n",
    "\n",
    "---\n",
    "---\n",
    "This is an assignment notebook for computer vision as part of the Fundamentals of Artificial Intelligence Programme. The objective of the assignment is to\n",
    "\n",
    "*   Apply convolutional neural networks (CNN) to custom data for classification task  \n",
    "*   Analyse the output of the pre-trained model\n",
    "*   Adjust the test data to the training data\n",
    "*   Adjust the CNN architecture to improve the accuracy   \n",
    "*   Re-train a simple CNN model on the MNIST dataset\n",
    "\n",
    "## **Instructions**\n",
    "* Explore the tutorial notebook before doing the assignment. You need to reuse the codes explained in the tutorial, for your assignment.   \n",
    "* Insert code cells you need, in this notebook and execute them to see the results.\n",
    "* Create text cells to explain each step in the assignment.\n",
    "* Print the notebook as a pdf file and save it with your group id/name for the submission as \"FAIP_computervision_assignment_groupid\".\n"
   ]
  },
  {
   "cell_type": "markdown",
   "metadata": {
    "cellIdentifier": "06mcb6djo4xv310dqv1i7vp",
    "id": "Ltfp1gIT7JAq"
   },
   "source": [
    " # **Assignment**\n",
    " ---\n",
    "  \n",
    "\n",
    "1.  Take a pen and paper and write 10 digits on the paper (try to write carelessly!).\n",
    "2.  Take a photo of the written digits separately to create MNIST-like data samples.\n",
    "3.  Upload the 10-digit images into your google drive or publicly available storage space.\n",
    "4. Use our trained MNIST model (from the tutorial) to predict your handwritten digits.\n",
    "5. Calculate the accuracy of the model on your 10 samples.\n",
    "6. Are the accuracy comparable with the validation accuracy on the MNIST test set?\n",
    "7. Re-train the model with more epochs\n",
    "8. Recalculate the accuracy of your generated data. Does it make a difference?\n",
    "9. Add another convolutional layer before the fully connected layer and retrain the model.\n",
    "10. repeat step 8\n",
    "\n",
    "## **Tips**:\n",
    "- The model is trained on images with values between 0 and 1, make sure to normalize your images to this range\n",
    "- Try to preprocess your images so that they look similar to an MNIST image for better matching of test data to the training data\n",
    "\n"
   ]
  },
  {
   "cell_type": "code",
   "execution_count": 6,
   "metadata": {},
   "outputs": [],
   "source": [
    "import torchvision\n",
    "import torch.nn.functional as F\n",
    "import torch.nn as nn\n",
    "\n",
    "# Define a neural network model.\n",
    "def create_model():\n",
    "  # nn.Sequential takes multiple neural network modules and sequentially passes \n",
    "  # the input through the modules.\n",
    "  model = nn.Sequential(\n",
    "              # MNIST image has dimension 28 x 28 (height x width)\n",
    "              nn.Conv2d(1, 28, kernel_size=3, padding=1), # output: 28 x 28 x 28\n",
    "              nn.ReLU(),\n",
    "              \n",
    "              nn.Conv2d(28, 32, kernel_size=3, stride=1, padding=1), # output: 32 x 28 x 28\n",
    "              nn.ReLU(),\n",
    "              nn.MaxPool2d(2, 2), # output: 32 x 14 x 14\n",
    "              nn.BatchNorm2d(32),\n",
    "              \n",
    "              nn.Conv2d(32, 64, kernel_size=3, stride=1, padding=1), # output: 64 x 14 x 14\n",
    "              nn.ReLU(),\n",
    "              nn.MaxPool2d(2, 2), # output: 64 x 7 x 7\n",
    "              nn.BatchNorm2d(64),\n",
    "\n",
    "              nn.Flatten(), # Flattens the 64 x 7 x 7 tensor into a one dimensional array of length 64*7*7\n",
    "\n",
    "              nn.Linear(64*7*7, 10) # output: one dimensional array of size 10\n",
    "          )\n",
    "  \n",
    "  return model"
   ]
  },
  {
   "cell_type": "code",
   "execution_count": 1,
   "metadata": {},
   "outputs": [
    {
     "name": "stderr",
     "output_type": "stream",
     "text": [
      "d:\\Anaconda\\envs\\tf_torch\\lib\\site-packages\\tqdm\\auto.py:22: TqdmWarning: IProgress not found. Please update jupyter and ipywidgets. See https://ipywidgets.readthedocs.io/en/stable/user_install.html\n",
      "  from .autonotebook import tqdm as notebook_tqdm\n"
     ]
    },
    {
     "name": "stdout",
     "output_type": "stream",
     "text": [
      "Dataset MNIST\n",
      "    Number of datapoints: 60000\n",
      "    Root location: C:\\Users\\20123/mnist_data\n",
      "    Split: Train\n",
      "    StandardTransform\n",
      "Transform: ToTensor()\n"
     ]
    }
   ],
   "source": [
    "# Import MNIST\n",
    "from torchvision.datasets import MNIST\n",
    "from torchvision.transforms import ToTensor\n",
    "\n",
    "# Download and Save MNIST \n",
    "data_train = MNIST('~/mnist_data', train=True, download=True, transform=ToTensor())\n",
    "data_test = MNIST('~/mnist_data', train=False, download=True, transform=ToTensor())\n",
    "\n",
    "# Print Data\n",
    "print(data_train)"
   ]
  },
  {
   "cell_type": "code",
   "execution_count": 3,
   "metadata": {},
   "outputs": [
    {
     "data": {
      "text/plain": [
       "{'train': <torch.utils.data.dataloader.DataLoader at 0x1cfb51ad6c8>,\n",
       " 'test': <torch.utils.data.dataloader.DataLoader at 0x1cfb51ad748>}"
      ]
     },
     "execution_count": 3,
     "metadata": {},
     "output_type": "execute_result"
    }
   ],
   "source": [
    "from torch.utils.data import DataLoader\n",
    "import torch\n",
    "from torchvision import transforms\n",
    "\n",
    "# DataLoaders allow you to iterate through the data in randomized batches.\n",
    "loaders = {\n",
    "    'train' : torch.utils.data.DataLoader(data_train, \n",
    "                                          batch_size=100, \n",
    "                                          shuffle=True, \n",
    "                                          num_workers=1),\n",
    "    \n",
    "    'test'  : torch.utils.data.DataLoader(data_test, \n",
    "                                          batch_size=100, \n",
    "                                          shuffle=True, \n",
    "                                          num_workers=1),\n",
    "}\n",
    "\n",
    "loaders"
   ]
  },
  {
   "cell_type": "code",
   "execution_count": 4,
   "metadata": {},
   "outputs": [
    {
     "name": "stdout",
     "output_type": "stream",
     "text": [
      "torch.Size([100, 1, 28, 28]) torch.Size([100])\n"
     ]
    }
   ],
   "source": [
    "example_batch = None\n",
    "\n",
    "# A batch from the dataloader consists of a tensor of 100 images, and \n",
    "# a tensor of 100 labels\n",
    "for images, labels in loaders[\"train\"]:\n",
    "  print(images.shape, labels.shape)\n",
    "\n",
    "  example_batch = images, labels\n",
    "\n",
    "  break"
   ]
  },
  {
   "cell_type": "code",
   "execution_count": 7,
   "metadata": {},
   "outputs": [],
   "source": [
    "# Initialize the model\n",
    "model = create_model()"
   ]
  },
  {
   "cell_type": "code",
   "execution_count": 8,
   "metadata": {},
   "outputs": [],
   "source": [
    "import torch.optim as optim\n",
    "\n",
    "# Define the loss function\n",
    "loss_fn = nn.CrossEntropyLoss()\n",
    "\n",
    "# Define the optimizer\n",
    "# model.parameters() are the weights that should be updated during training\n",
    "optimizer = optim.SGD(model.parameters(), lr=0.001, momentum=0.9)"
   ]
  },
  {
   "cell_type": "code",
   "execution_count": 9,
   "metadata": {},
   "outputs": [],
   "source": [
    "# Setup tensorboard to log training results\n",
    "from torch.utils.tensorboard import SummaryWriter\n",
    "\n",
    "# Change the comment to something else to identify the run in tensorboard\n",
    "writer = SummaryWriter(comment=\"mnist_run\")\n",
    "\n",
    "# Adds a graph of the model to tensorboard.\n",
    "# In the graph tab you can see the computional graph of the model.\n",
    "writer.add_graph(model, example_batch[0])\n",
    "\n",
    "writer.flush()"
   ]
  },
  {
   "cell_type": "code",
   "execution_count": 10,
   "metadata": {},
   "outputs": [
    {
     "data": {
      "text/plain": [
       "device(type='cuda', index=0)"
      ]
     },
     "execution_count": 10,
     "metadata": {},
     "output_type": "execute_result"
    }
   ],
   "source": [
    "import torch\n",
    "device=torch.device('cuda:0' if torch.cuda.is_available() else 'cpu')\n",
    "\n",
    "# device = \"cpu\"\n",
    "\n",
    "device"
   ]
  },
  {
   "cell_type": "code",
   "execution_count": 11,
   "metadata": {},
   "outputs": [
    {
     "data": {
      "text/plain": [
       "Sequential(\n",
       "  (0): Conv2d(1, 28, kernel_size=(3, 3), stride=(1, 1), padding=(1, 1))\n",
       "  (1): ReLU()\n",
       "  (2): Conv2d(28, 32, kernel_size=(3, 3), stride=(1, 1), padding=(1, 1))\n",
       "  (3): ReLU()\n",
       "  (4): MaxPool2d(kernel_size=2, stride=2, padding=0, dilation=1, ceil_mode=False)\n",
       "  (5): BatchNorm2d(32, eps=1e-05, momentum=0.1, affine=True, track_running_stats=True)\n",
       "  (6): Conv2d(32, 64, kernel_size=(3, 3), stride=(1, 1), padding=(1, 1))\n",
       "  (7): ReLU()\n",
       "  (8): MaxPool2d(kernel_size=2, stride=2, padding=0, dilation=1, ceil_mode=False)\n",
       "  (9): BatchNorm2d(64, eps=1e-05, momentum=0.1, affine=True, track_running_stats=True)\n",
       "  (10): Flatten(start_dim=1, end_dim=-1)\n",
       "  (11): Linear(in_features=3136, out_features=10, bias=True)\n",
       ")"
      ]
     },
     "execution_count": 11,
     "metadata": {},
     "output_type": "execute_result"
    }
   ],
   "source": [
    "# Move the model to the GPU to train faster\n",
    "# If you get an error, choose gpu as hardware accelerator under Runtime -> Change runtime type\n",
    "# model.cuda()\n",
    "model.to(device)"
   ]
  },
  {
   "cell_type": "code",
   "execution_count": 57,
   "metadata": {},
   "outputs": [
    {
     "name": "stdout",
     "output_type": "stream",
     "text": [
      "Epoch:1 Train Loss:0.0103 valid Loss:0.0271; train Acc:0.9982 valid Acc:0.9914\n",
      "Epoch:2 Train Loss:0.0095 valid Loss:0.0270; train Acc:0.9987 valid Acc:0.9914\n",
      "Epoch:3 Train Loss:0.0088 valid Loss:0.0261; train Acc:0.9988 valid Acc:0.9913\n",
      "Epoch:4 Train Loss:0.0081 valid Loss:0.0260; train Acc:0.9991 valid Acc:0.9910\n",
      "Epoch:5 Train Loss:0.0075 valid Loss:0.0267; train Acc:0.9991 valid Acc:0.9911\n"
     ]
    }
   ],
   "source": [
    "# The number of epochs to train for.\n",
    "# During each epoch, the model is trained on all of the training data\n",
    "num_epoch = 5\n",
    "\n",
    "for epoch in range(1, num_epoch+1):\n",
    "  train_loss=0.0\n",
    "  valid_loss=0.0\n",
    "\n",
    "  train_correct = 0\n",
    "  valid_correct = 0\n",
    "\n",
    "  # Set the model to train mode\n",
    "  model.train()\n",
    "\n",
    "  # Go through all the mini-batches in the train loader\n",
    "  for img, lbl in loaders['train']:\n",
    "\n",
    "    # Put the data on the gpu\n",
    "    img=img.to(device)\n",
    "    lbl=lbl.to(device)\n",
    "\n",
    "    # Set the accumaleted gradients to zero\n",
    "    optimizer.zero_grad()\n",
    "\n",
    "    # Get the output of the model\n",
    "    predict = model(img)\n",
    "    \n",
    "    # Compute the loss\n",
    "    loss=loss_fn(predict,lbl)\n",
    "    \n",
    "    # Compute the gradients and update the weigths\n",
    "    loss.backward()\n",
    "    optimizer.step()\n",
    "    \n",
    "    # Update the cumulative train loss of this epoch\n",
    "    train_loss += loss.item() * img.size(0)\n",
    "\n",
    "    # Compute accuracy\n",
    "    predicted_labels = predict.argmax(dim=1)\n",
    "\n",
    "    train_correct += torch.sum(predicted_labels == lbl)\n",
    "\n",
    "\n",
    "  # Evaluate the model on the test data\n",
    "  model.eval()\n",
    "  for img,lbl in loaders['test']:\n",
    "    img=img.to(device)\n",
    "    lbl=lbl.to(device)\n",
    "\n",
    "    predict=model(img)\n",
    "    loss=loss_fn(predict,lbl)\n",
    "\n",
    "    # Update the test loss for this epoch\n",
    "    valid_loss+=loss.item()*img.size(0)\n",
    "\n",
    "    # Compute accuracy\n",
    "    predicted_labels = predict.argmax(dim=1)\n",
    "\n",
    "    valid_correct += torch.sum(predicted_labels == lbl)\n",
    "  \n",
    "  # Compute the loss and accuracy metrics for this epoch\n",
    "  train_loss=train_loss/len(loaders['train'].sampler) \n",
    "  valid_loss=valid_loss/len(loaders['test'].sampler)\n",
    "\n",
    "  train_acc = train_correct / len(loaders['train'].sampler) \n",
    "  valid_acc = valid_correct / len(loaders['test'].sampler)\n",
    "\n",
    "  print('Epoch:{} Train Loss:{:.4f} valid Loss:{:.4f}; train Acc:{:.4f} valid Acc:{:.4f}'.format(epoch,train_loss,valid_loss, train_acc, valid_acc))\n",
    "\n",
    "  # Log results to tensorboard\n",
    "  writer.add_scalar('Loss/train', train_loss, epoch)\n",
    "  writer.add_scalar('Loss/test', valid_loss, epoch)\n",
    "\n",
    "  writer.add_scalar('Accuracy/train', train_acc, epoch)\n",
    "  writer.add_scalar('Accuracy/test', valid_acc, epoch)\n",
    "\n",
    "  writer.flush()"
   ]
  },
  {
   "cell_type": "code",
   "execution_count": 58,
   "metadata": {},
   "outputs": [
    {
     "data": {
      "image/png": "[encoded data removed]",
      "text/plain": [
       "<Figure size 432x288 with 2 Axes>"
      ]
     },
     "metadata": {
      "needs_background": "light"
     },
     "output_type": "display_data"
    }
   ],
   "source": [
    "import cv2\n",
    "import matplotlib.pyplot as plt\n",
    "\n",
    "# List of image paths for your 10 handwritten digit images\n",
    "image_paths = [f\"IMG-20241017-WA000{i}.jpg\" for i in range(1,11)]\n",
    "# image_paths = [f'/Users/penglee/Desktop/FAIP/CVassignment/{i}.jpeg' for i in range(10)]\n",
    "\n",
    "# Function to load and preprocess each image\n",
    "def preprocess_image(image_path):\n",
    "    # Load the image in grayscale\n",
    "    img = cv2.imread(image_path, cv2.IMREAD_GRAYSCALE)\n",
    "\n",
    "    # Check if the image was loaded correctly\n",
    "    if img is None:\n",
    "        print(f\"Error: Could not load image at {image_path}\")\n",
    "        return None\n",
    "\n",
    "    # Resize the image to 28x28 pixels (same as MNIST)\n",
    "    img_resized = cv2.resize(img, (28, 28))\n",
    "    # Normalize pixel values to [0, 1] range\n",
    "    img_normalized = img_resized / 255.0\n",
    "    # Reshape the image to match the input shape expected by the model: (1, 28, 28, 1)\n",
    "    img_reshaped = img_normalized.reshape(1, 28, 28, 1)\n",
    "    return img_reshaped\n",
    "\n",
    "# Loop through the image paths, load, preprocess, and display each one\n",
    "for image_path in image_paths:\n",
    "    # Preprocess the image\n",
    "    preprocessed_image = preprocess_image(image_path)\n",
    "\n",
    "    # If preprocessing failed, skip to the next image\n",
    "    if preprocessed_image is None:\n",
    "        continue\n",
    "\n",
    "    # Display the original image\n",
    "    img_original = cv2.imread(image_path, cv2.IMREAD_GRAYSCALE)\n",
    "\n",
    "    # Display the original and preprocessed images\n",
    "    plt.subplot(1, 2, 1)\n",
    "    plt.imshow(img_original, cmap='gray')\n",
    "    plt.title('Original Image')\n",
    "\n",
    "    plt.subplot(1, 2, 2)\n",
    "    plt.imshow(preprocessed_image[0, :, :, 0], cmap='gray')  # Display the preprocessed image\n",
    "    plt.title('Preprocessed Image (28x28)')\n",
    "\n",
    "    # plt.show()\n",
    "\n",
    "#label\n",
    "preprocessed_labels = [3,0,8,2,8,0,6,2,0,4]  # These are the true digit labels for each image"
   ]
  },
  {
   "cell_type": "code",
   "execution_count": 56,
   "metadata": {},
   "outputs": [
    {
     "data": {
      "image/png": "[encoded data removed]",
      "text/plain": [
       "<Figure size 432x288 with 1 Axes>"
      ]
     },
     "metadata": {
      "needs_background": "light"
     },
     "output_type": "display_data"
    },
    {
     "data": {
      "image/png": "[encoded data removed]",
      "text/plain": [
       "<Figure size 432x288 with 1 Axes>"
      ]
     },
     "metadata": {
      "needs_background": "light"
     },
     "output_type": "display_data"
    },
    {
     "data": {
      "image/png": "[encoded data removed]",
      "text/plain": [
       "<Figure size 432x288 with 1 Axes>"
      ]
     },
     "metadata": {
      "needs_background": "light"
     },
     "output_type": "display_data"
    },
    {
     "data": {
      "image/png": "[encoded data removed]",
      "text/plain": [
       "<Figure size 432x288 with 1 Axes>"
      ]
     },
     "metadata": {
      "needs_background": "light"
     },
     "output_type": "display_data"
    },
    {
     "data": {
      "image/png": "[encoded data removed]",
      "text/plain": [
       "<Figure size 432x288 with 1 Axes>"
      ]
     },
     "metadata": {
      "needs_background": "light"
     },
     "output_type": "display_data"
    },
    {
     "data": {
      "image/png": "[encoded data removed]",
      "text/plain": [
       "<Figure size 432x288 with 1 Axes>"
      ]
     },
     "metadata": {
      "needs_background": "light"
     },
     "output_type": "display_data"
    },
    {
     "data": {
      "image/png": "[encoded data removed]",
      "text/plain": [
       "<Figure size 432x288 with 1 Axes>"
      ]
     },
     "metadata": {
      "needs_background": "light"
     },
     "output_type": "display_data"
    },
    {
     "data": {
      "image/png": "[encoded data removed]",
      "text/plain": [
       "<Figure size 432x288 with 1 Axes>"
      ]
     },
     "metadata": {
      "needs_background": "light"
     },
     "output_type": "display_data"
    },
    {
     "data": {
      "image/png": "[encoded data removed]",
      "text/plain": [
       "<Figure size 432x288 with 1 Axes>"
      ]
     },
     "metadata": {
      "needs_background": "light"
     },
     "output_type": "display_data"
    },
    {
     "data": {
      "image/png": "[encoded data removed]",
      "text/plain": [
       "<Figure size 432x288 with 1 Axes>"
      ]
     },
     "metadata": {
      "needs_background": "light"
     },
     "output_type": "display_data"
    },
    {
     "name": "stdout",
     "output_type": "stream",
     "text": [
      "Correct Predictions: 7/10\n"
     ]
    }
   ],
   "source": [
    "import torch\n",
    "import matplotlib.pyplot as plt\n",
    "import cv2\n",
    "import numpy as np\n",
    "\n",
    "# Set the model to evaluation mode\n",
    "model.eval()\n",
    "\n",
    "# Counter for correct predictions\n",
    "correct = 0\n",
    "\n",
    "# Define the list of custom image paths\n",
    "image_paths = [f\"IMG-20241017-WA000{i}.jpg\" for i in range(1, 11)]\n",
    "preprocessed_images = []\n",
    "\n",
    "# Preprocess image function\n",
    "def preprocess_image(image_path):\n",
    "    # Load image in grayscale mode\n",
    "    img = cv2.imread(image_path, cv2.IMREAD_GRAYSCALE)\n",
    "\n",
    "    # Check if the image was loaded successfully\n",
    "    if img is None:\n",
    "        print(f\"Failed to load image {image_path}\")\n",
    "        return None\n",
    "\n",
    "    # Resize the image to 28x28\n",
    "    img = cv2.resize(img, (28, 28))\n",
    "\n",
    "    # Invert the colors (white background to black background)\n",
    "    img = 255 - img\n",
    "\n",
    "    # Normalize pixel values to range 0-1\n",
    "    img = img.astype(np.float32) / 255.0\n",
    "\n",
    "    # Set all values below 0.5 to 0\n",
    "    img[img < 0.5] = 0\n",
    "\n",
    "    return img\n",
    "\n",
    "# Loop through each image, preprocess, and predict\n",
    "for i, image_path in enumerate(image_paths):\n",
    "    img = preprocess_image(image_path)\n",
    "\n",
    "    if img is None:\n",
    "        continue\n",
    "\n",
    "    preprocessed_images.append(img)\n",
    "    label = preprocessed_labels[i]  # Corresponding label\n",
    "\n",
    "    # Reshape image to (1, 1, 28, 28) to match input dimensions\n",
    "    img = img.reshape(1, 1, 28, 28)\n",
    "\n",
    "    # Convert image to a PyTorch tensor and move to the correct device\n",
    "    input = torch.tensor(img, dtype=torch.float32).to(device)\n",
    "\n",
    "    # Perform inference without computing gradients\n",
    "    with torch.no_grad():\n",
    "        prediction = model(input)\n",
    "        predicted_label = prediction.argmax(dim=1).item()\n",
    "\n",
    "    # Check if prediction is correct\n",
    "    is_correct = (label == predicted_label)\n",
    "    correct += is_correct\n",
    "\n",
    "    # Display the image and prediction result\n",
    "    plt.figure()\n",
    "    plt.title(f\"Correct: {is_correct}, Actual: {label}, Predicted: {predicted_label}\",\n",
    "              color=\"black\" if is_correct else \"red\")\n",
    "    plt.imshow(img.squeeze(0).squeeze(0), cmap=\"gray\")\n",
    "    plt.show()\n",
    "\n",
    "# Print the total number of correct predictions\n",
    "print(f\"Correct Predictions: {correct}/10\")\n"
   ]
  },
  {
   "cell_type": "code",
   "execution_count": 55,
   "metadata": {},
   "outputs": [
    {
     "data": {
      "text/plain": [
       "array([[[[0.30588236, 0.30980393, 0.30588236, 0.29411766, 0.3019608 ,\n",
       "          0.30588236, 0.31764707, 0.3137255 , 0.3019608 , 0.30980393,\n",
       "          0.30980393, 0.30980393, 0.32941177, 0.30980393, 0.29803923,\n",
       "          0.3019608 , 0.3137255 , 0.29803923, 0.30588236, 0.2901961 ,\n",
       "          0.2901961 , 0.3137255 , 0.28235295, 0.2901961 , 0.31764707,\n",
       "          0.29411766, 0.2901961 , 0.28627452],\n",
       "         [0.29803923, 0.3019608 , 0.3019608 , 0.3254902 , 0.3019608 ,\n",
       "          0.30980393, 0.30588236, 0.29411766, 0.30980393, 0.3137255 ,\n",
       "          0.29411766, 0.3019608 , 0.3254902 , 0.32156864, 0.3019608 ,\n",
       "          0.3137255 , 0.2784314 , 0.29803923, 0.3137255 , 0.3019608 ,\n",
       "          0.29411766, 0.3137255 , 0.29803923, 0.2901961 , 0.2784314 ,\n",
       "          0.29803923, 0.2901961 , 0.28627452],\n",
       "         [0.30588236, 0.32156864, 0.30980393, 0.30588236, 0.3137255 ,\n",
       "          0.30980393, 0.31764707, 0.31764707, 0.30980393, 0.30980393,\n",
       "          0.31764707, 0.30588236, 0.28235295, 0.28627452, 0.29803923,\n",
       "          0.2901961 , 0.28235295, 0.3019608 , 0.29411766, 0.29803923,\n",
       "          0.29411766, 0.2901961 , 0.30980393, 0.3019608 , 0.27450982,\n",
       "          0.3019608 , 0.2901961 , 0.27450982],\n",
       "         [0.31764707, 0.30588236, 0.30588236, 0.3019608 , 0.30980393,\n",
       "          0.3137255 , 0.30588236, 0.30980393, 0.32941177, 0.3019608 ,\n",
       "          0.31764707, 0.32156864, 0.30588236, 0.29411766, 0.28235295,\n",
       "          0.29411766, 0.30980393, 0.30588236, 0.3137255 , 0.3019608 ,\n",
       "          0.29411766, 0.3137255 , 0.28235295, 0.30980393, 0.2901961 ,\n",
       "          0.28235295, 0.29411766, 0.2901961 ],\n",
       "         [0.3019608 , 0.30980393, 0.30980393, 0.3254902 , 0.30980393,\n",
       "          0.3137255 , 0.3137255 , 0.30980393, 0.32156864, 0.32156864,\n",
       "          0.29803923, 0.29411766, 0.30980393, 0.30588236, 0.3019608 ,\n",
       "          0.30980393, 0.3019608 , 0.29411766, 0.31764707, 0.29803923,\n",
       "          0.28235295, 0.2901961 , 0.28627452, 0.2901961 , 0.2901961 ,\n",
       "          0.28235295, 0.28235295, 0.3254902 ],\n",
       "         [0.29803923, 0.3019608 , 0.3137255 , 0.3019608 , 0.30980393,\n",
       "          0.30980393, 0.29411766, 0.29803923, 0.30588236, 0.30588236,\n",
       "          0.30588236, 0.30588236, 0.30588236, 0.2784314 , 0.3254902 ,\n",
       "          0.29411766, 0.30980393, 0.29803923, 0.3019608 , 0.30588236,\n",
       "          0.2901961 , 0.30980393, 0.2901961 , 0.30980393, 0.27450982,\n",
       "          0.3019608 , 0.30588236, 0.26666668],\n",
       "         [0.30588236, 0.30980393, 0.30980393, 0.3019608 , 0.3019608 ,\n",
       "          0.29803923, 0.30588236, 0.30588236, 0.30588236, 0.29803923,\n",
       "          0.30980393, 0.4117647 , 0.37254903, 0.3254902 , 0.30588236,\n",
       "          0.28627452, 0.28627452, 0.3019608 , 0.30980393, 0.29803923,\n",
       "          0.29411766, 0.30980393, 0.3137255 , 0.3137255 , 0.29803923,\n",
       "          0.27058825, 0.28627452, 0.29803923],\n",
       "         [0.31764707, 0.30588236, 0.3137255 , 0.29411766, 0.3019608 ,\n",
       "          0.30588236, 0.30588236, 0.3137255 , 0.31764707, 0.30980393,\n",
       "          0.34901962, 0.67058825, 0.56078434, 0.36862746, 0.3137255 ,\n",
       "          0.30588236, 0.30980393, 0.27450982, 0.29411766, 0.30588236,\n",
       "          0.30588236, 0.30980393, 0.30588236, 0.29803923, 0.2784314 ,\n",
       "          0.28235295, 0.2784314 , 0.29803923],\n",
       "         [0.3137255 , 0.3019608 , 0.30588236, 0.30588236, 0.30588236,\n",
       "          0.29803923, 0.28627452, 0.29803923, 0.3019608 , 0.30980393,\n",
       "          0.61960787, 0.8235294 , 0.74509805, 0.6156863 , 0.41568628,\n",
       "          0.28627452, 0.30980393, 0.28235295, 0.29411766, 0.3019608 ,\n",
       "          0.30980393, 0.2901961 , 0.2901961 , 0.28235295, 0.28235295,\n",
       "          0.29803923, 0.28235295, 0.29411766],\n",
       "         [0.30980393, 0.3137255 , 0.30980393, 0.29803923, 0.3019608 ,\n",
       "          0.3019608 , 0.3019608 , 0.30588236, 0.30588236, 0.5254902 ,\n",
       "          0.76862746, 0.8235294 , 0.76862746, 0.85490197, 0.54509807,\n",
       "          0.3137255 , 0.28627452, 0.27450982, 0.28627452, 0.29803923,\n",
       "          0.3254902 , 0.3019608 , 0.30588236, 0.2901961 , 0.2901961 ,\n",
       "          0.2784314 , 0.26666668, 0.2901961 ],\n",
       "         [0.30980393, 0.30588236, 0.30980393, 0.30588236, 0.30588236,\n",
       "          0.30980393, 0.30588236, 0.3019608 , 0.49411765, 0.7490196 ,\n",
       "          0.8745098 , 0.5411765 , 0.59607846, 0.8352941 , 0.6745098 ,\n",
       "          0.34901962, 0.30588236, 0.29411766, 0.29411766, 0.29803923,\n",
       "          0.2784314 , 0.2901961 , 0.29803923, 0.30588236, 0.28235295,\n",
       "          0.2784314 , 0.29803923, 0.28235295],\n",
       "         [0.30980393, 0.30980393, 0.30588236, 0.3254902 , 0.30588236,\n",
       "          0.30588236, 0.30588236, 0.34509805, 0.7176471 , 0.8980392 ,\n",
       "          0.5882353 , 0.37254903, 0.47058824, 0.8       , 0.7490196 ,\n",
       "          0.37254903, 0.2784314 , 0.27058825, 0.27058825, 0.29411766,\n",
       "          0.29803923, 0.31764707, 0.29411766, 0.29803923, 0.2784314 ,\n",
       "          0.3019608 , 0.2901961 , 0.2901961 ],\n",
       "         [0.3137255 , 0.31764707, 0.30980393, 0.32156864, 0.30588236,\n",
       "          0.30980393, 0.30980393, 0.6117647 , 0.85490197, 0.64705884,\n",
       "          0.37254903, 0.29803923, 0.36862746, 0.7647059 , 0.78431374,\n",
       "          0.39215687, 0.3137255 , 0.32156864, 0.30588236, 0.2901961 ,\n",
       "          0.29803923, 0.28627452, 0.30980393, 0.29411766, 0.29411766,\n",
       "          0.28235295, 0.28235295, 0.30980393],\n",
       "         [0.31764707, 0.31764707, 0.31764707, 0.30980393, 0.30588236,\n",
       "          0.30980393, 0.31764707, 0.67058825, 0.8745098 , 0.68235296,\n",
       "          0.44313726, 0.34509805, 0.33333334, 0.74509805, 0.81960785,\n",
       "          0.5803922 , 0.6039216 , 0.654902  , 0.38039216, 0.30980393,\n",
       "          0.2901961 , 0.27058825, 0.2901961 , 0.30980393, 0.29411766,\n",
       "          0.3019608 , 0.3019608 , 0.26666668],\n",
       "         [0.3137255 , 0.31764707, 0.3137255 , 0.30980393, 0.30980393,\n",
       "          0.3019608 , 0.3254902 , 0.50980395, 0.7607843 , 0.8117647 ,\n",
       "          0.7372549 , 0.6745098 , 0.6509804 , 0.80784315, 0.88235295,\n",
       "          0.8235294 , 0.74509805, 0.5058824 , 0.3254902 , 0.32156864,\n",
       "          0.29803923, 0.2901961 , 0.3019608 , 0.2784314 , 0.2901961 ,\n",
       "          0.3019608 , 0.28235295, 0.3019608 ],\n",
       "         [0.31764707, 0.32156864, 0.3137255 , 0.32156864, 0.3137255 ,\n",
       "          0.30980393, 0.31764707, 0.34117648, 0.49411765, 0.6862745 ,\n",
       "          0.8       , 0.80784315, 0.8039216 , 0.7764706 , 0.8627451 ,\n",
       "          0.75686276, 0.4745098 , 0.32156864, 0.28627452, 0.3019608 ,\n",
       "          0.28235295, 0.28627452, 0.29803923, 0.31764707, 0.30588236,\n",
       "          0.29803923, 0.31764707, 0.29411766],\n",
       "         [0.3254902 , 0.32156864, 0.31764707, 0.3137255 , 0.3019608 ,\n",
       "          0.3137255 , 0.30588236, 0.30588236, 0.30980393, 0.39215687,\n",
       "          0.46666667, 0.4745098 , 0.44705883, 0.53333336, 0.8       ,\n",
       "          0.72156864, 0.34901962, 0.28235295, 0.3019608 , 0.27058825,\n",
       "          0.2901961 , 0.27450982, 0.28627452, 0.28627452, 0.3372549 ,\n",
       "          0.3019608 , 0.30980393, 0.3137255 ],\n",
       "         [0.32941177, 0.32156864, 0.32156864, 0.31764707, 0.3137255 ,\n",
       "          0.3137255 , 0.30980393, 0.29803923, 0.30980393, 0.29803923,\n",
       "          0.31764707, 0.3019608 , 0.30588236, 0.37254903, 0.7372549 ,\n",
       "          0.76862746, 0.3882353 , 0.30588236, 0.30588236, 0.30588236,\n",
       "          0.29803923, 0.29803923, 0.2901961 , 0.3019608 , 0.2901961 ,\n",
       "          0.30980393, 0.29803923, 0.29411766],\n",
       "         [0.3254902 , 0.31764707, 0.3137255 , 0.30588236, 0.31764707,\n",
       "          0.3137255 , 0.31764707, 0.32156864, 0.3019608 , 0.3019608 ,\n",
       "          0.3019608 , 0.3019608 , 0.30588236, 0.31764707, 0.6313726 ,\n",
       "          0.8117647 , 0.4509804 , 0.3137255 , 0.29411766, 0.2784314 ,\n",
       "          0.29803923, 0.28627452, 0.3019608 , 0.30588236, 0.29803923,\n",
       "          0.29411766, 0.29803923, 0.28235295],\n",
       "         [0.32156864, 0.32156864, 0.31764707, 0.3254902 , 0.3137255 ,\n",
       "          0.3137255 , 0.31764707, 0.3137255 , 0.3019608 , 0.30980393,\n",
       "          0.30980393, 0.3137255 , 0.3019608 , 0.30980393, 0.49803922,\n",
       "          0.8039216 , 0.50980395, 0.30980393, 0.3019608 , 0.3019608 ,\n",
       "          0.31764707, 0.28627452, 0.2901961 , 0.3019608 , 0.29411766,\n",
       "          0.29803923, 0.28235295, 0.2901961 ],\n",
       "         [0.3254902 , 0.3254902 , 0.32156864, 0.32941177, 0.32156864,\n",
       "          0.31764707, 0.31764707, 0.3137255 , 0.30980393, 0.3137255 ,\n",
       "          0.30588236, 0.30588236, 0.29803923, 0.3137255 , 0.36862746,\n",
       "          0.7529412 , 0.63529414, 0.32941177, 0.30980393, 0.2901961 ,\n",
       "          0.29803923, 0.29411766, 0.30980393, 0.29411766, 0.2901961 ,\n",
       "          0.3137255 , 0.3019608 , 0.28235295],\n",
       "         [0.3254902 , 0.3372549 , 0.3254902 , 0.32156864, 0.31764707,\n",
       "          0.31764707, 0.32156864, 0.3137255 , 0.30980393, 0.30980393,\n",
       "          0.30588236, 0.29803923, 0.30588236, 0.2901961 , 0.34901962,\n",
       "          0.7019608 , 0.69803923, 0.34117648, 0.30588236, 0.29803923,\n",
       "          0.3019608 , 0.28235295, 0.29411766, 0.3137255 , 0.30980393,\n",
       "          0.3019608 , 0.30980393, 0.29803923],\n",
       "         [0.32941177, 0.32941177, 0.3137255 , 0.31764707, 0.32156864,\n",
       "          0.3137255 , 0.31764707, 0.30980393, 0.30980393, 0.3137255 ,\n",
       "          0.30588236, 0.30588236, 0.29411766, 0.31764707, 0.3137255 ,\n",
       "          0.5882353 , 0.7490196 , 0.3882353 , 0.30588236, 0.29411766,\n",
       "          0.2901961 , 0.30588236, 0.3019608 , 0.31764707, 0.29411766,\n",
       "          0.3137255 , 0.30588236, 0.28627452],\n",
       "         [0.3372549 , 0.3372549 , 0.32156864, 0.3137255 , 0.3137255 ,\n",
       "          0.32156864, 0.31764707, 0.3254902 , 0.3137255 , 0.3137255 ,\n",
       "          0.32941177, 0.30980393, 0.30980393, 0.3137255 , 0.31764707,\n",
       "          0.42352942, 0.6392157 , 0.3647059 , 0.31764707, 0.3019608 ,\n",
       "          0.3254902 , 0.30980393, 0.29803923, 0.31764707, 0.3019608 ,\n",
       "          0.30980393, 0.29411766, 0.2627451 ],\n",
       "         [0.33333334, 0.34117648, 0.33333334, 0.31764707, 0.32156864,\n",
       "          0.3254902 , 0.32156864, 0.32156864, 0.3137255 , 0.3137255 ,\n",
       "          0.31764707, 0.31764707, 0.3137255 , 0.30980393, 0.30588236,\n",
       "          0.31764707, 0.36078432, 0.30588236, 0.30980393, 0.3019608 ,\n",
       "          0.29411766, 0.29411766, 0.2901961 , 0.28235295, 0.2901961 ,\n",
       "          0.29411766, 0.29411766, 0.30980393],\n",
       "         [0.32941177, 0.33333334, 0.32941177, 0.32941177, 0.31764707,\n",
       "          0.30588236, 0.3137255 , 0.3137255 , 0.3137255 , 0.31764707,\n",
       "          0.32156864, 0.3137255 , 0.3137255 , 0.31764707, 0.30980393,\n",
       "          0.30980393, 0.3019608 , 0.26666668, 0.3137255 , 0.29411766,\n",
       "          0.29803923, 0.30980393, 0.29803923, 0.30588236, 0.30980393,\n",
       "          0.2901961 , 0.31764707, 0.30980393],\n",
       "         [0.33333334, 0.33333334, 0.32941177, 0.33333334, 0.3254902 ,\n",
       "          0.32156864, 0.31764707, 0.31764707, 0.31764707, 0.3137255 ,\n",
       "          0.32156864, 0.3137255 , 0.3137255 , 0.3254902 , 0.3137255 ,\n",
       "          0.3019608 , 0.28627452, 0.30588236, 0.30588236, 0.29803923,\n",
       "          0.30980393, 0.3019608 , 0.3019608 , 0.29803923, 0.28627452,\n",
       "          0.30980393, 0.28235295, 0.3019608 ],\n",
       "         [0.33333334, 0.33333334, 0.3254902 , 0.33333334, 0.33333334,\n",
       "          0.3254902 , 0.3137255 , 0.30980393, 0.32156864, 0.31764707,\n",
       "          0.30980393, 0.3137255 , 0.3137255 , 0.30980393, 0.3019608 ,\n",
       "          0.31764707, 0.29803923, 0.3254902 , 0.2901961 , 0.30588236,\n",
       "          0.30588236, 0.30588236, 0.32156864, 0.28627452, 0.28627452,\n",
       "          0.29411766, 0.2901961 , 0.30980393]]]], dtype=float32)"
      ]
     },
     "execution_count": 55,
     "metadata": {},
     "output_type": "execute_result"
    }
   ],
   "source": [
    "# img.shape\n",
    "# plt.imshow(img,cmap='gray')\n",
    "import numpy as np\n",
    "# np.array(input.cpu())\n",
    "np.max(img)\n",
    "# count the nu\n",
    "img"
   ]
  },
  {
   "cell_type": "code",
   "execution_count": 59,
   "metadata": {},
   "outputs": [
    {
     "name": "stdout",
     "output_type": "stream",
     "text": [
      "Epoch:1 Train Loss:0.0070 valid Loss:0.0256; train Acc:0.9993 valid Acc:0.9914\n",
      "Epoch:2 Train Loss:0.0065 valid Loss:0.0262; train Acc:0.9994 valid Acc:0.9907\n",
      "Epoch:3 Train Loss:0.0061 valid Loss:0.0266; train Acc:0.9994 valid Acc:0.9914\n",
      "Epoch:4 Train Loss:0.0056 valid Loss:0.0256; train Acc:0.9996 valid Acc:0.9918\n",
      "Epoch:5 Train Loss:0.0053 valid Loss:0.0259; train Acc:0.9997 valid Acc:0.9912\n",
      "Epoch:6 Train Loss:0.0050 valid Loss:0.0254; train Acc:0.9998 valid Acc:0.9919\n",
      "Epoch:7 Train Loss:0.0048 valid Loss:0.0252; train Acc:0.9998 valid Acc:0.9916\n",
      "Epoch:8 Train Loss:0.0045 valid Loss:0.0258; train Acc:0.9998 valid Acc:0.9912\n",
      "Epoch:9 Train Loss:0.0042 valid Loss:0.0255; train Acc:0.9999 valid Acc:0.9915\n",
      "Epoch:10 Train Loss:0.0040 valid Loss:0.0254; train Acc:0.9999 valid Acc:0.9920\n",
      "Epoch:11 Train Loss:0.0038 valid Loss:0.0254; train Acc:0.9999 valid Acc:0.9918\n",
      "Epoch:12 Train Loss:0.0036 valid Loss:0.0266; train Acc:0.9999 valid Acc:0.9912\n",
      "Epoch:13 Train Loss:0.0035 valid Loss:0.0250; train Acc:1.0000 valid Acc:0.9918\n",
      "Epoch:14 Train Loss:0.0033 valid Loss:0.0255; train Acc:1.0000 valid Acc:0.9919\n",
      "Epoch:15 Train Loss:0.0031 valid Loss:0.0257; train Acc:1.0000 valid Acc:0.9917\n"
     ]
    },
    {
     "data": {
      "image/png": "[encoded data removed]",
      "text/plain": [
       "<Figure size 432x288 with 1 Axes>"
      ]
     },
     "metadata": {
      "needs_background": "light"
     },
     "output_type": "display_data"
    },
    {
     "data": {
      "image/png": "[encoded data removed]",
      "text/plain": [
       "<Figure size 432x288 with 1 Axes>"
      ]
     },
     "metadata": {
      "needs_background": "light"
     },
     "output_type": "display_data"
    },
    {
     "data": {
      "image/png": "[encoded data removed]",
      "text/plain": [
       "<Figure size 432x288 with 1 Axes>"
      ]
     },
     "metadata": {
      "needs_background": "light"
     },
     "output_type": "display_data"
    },
    {
     "data": {
      "image/png": "[encoded data removed]",
      "text/plain": [
       "<Figure size 432x288 with 1 Axes>"
      ]
     },
     "metadata": {
      "needs_background": "light"
     },
     "output_type": "display_data"
    },
    {
     "data": {
      "image/png": "[encoded data removed]",
      "text/plain": [
       "<Figure size 432x288 with 1 Axes>"
      ]
     },
     "metadata": {
      "needs_background": "light"
     },
     "output_type": "display_data"
    },
    {
     "data": {
      "image/png": "[encoded data removed]",
      "text/plain": [
       "<Figure size 432x288 with 1 Axes>"
      ]
     },
     "metadata": {
      "needs_background": "light"
     },
     "output_type": "display_data"
    },
    {
     "data": {
      "image/png": "[encoded data removed]",
      "text/plain": [
       "<Figure size 432x288 with 1 Axes>"
      ]
     },
     "metadata": {
      "needs_background": "light"
     },
     "output_type": "display_data"
    },
    {
     "data": {
      "image/png": "[encoded data removed]",
      "text/plain": [
       "<Figure size 432x288 with 1 Axes>"
      ]
     },
     "metadata": {
      "needs_background": "light"
     },
     "output_type": "display_data"
    },
    {
     "data": {
      "image/png": "[encoded data removed]",
      "text/plain": [
       "<Figure size 432x288 with 1 Axes>"
      ]
     },
     "metadata": {
      "needs_background": "light"
     },
     "output_type": "display_data"
    },
    {
     "data": {
      "image/png": "[encoded data removed]",
      "text/plain": [
       "<Figure size 432x288 with 1 Axes>"
      ]
     },
     "metadata": {
      "needs_background": "light"
     },
     "output_type": "display_data"
    },
    {
     "name": "stdout",
     "output_type": "stream",
     "text": [
      "Correct Predictions: 7/10\n"
     ]
    }
   ],
   "source": [
    "# The number of epochs to train for.\n",
    "# During each epoch, the model is trained on all of the training data\n",
    "num_epoch = 15\n",
    "\n",
    "for epoch in range(1, num_epoch+1):\n",
    "  train_loss=0.0\n",
    "  valid_loss=0.0\n",
    "\n",
    "  train_correct = 0\n",
    "  valid_correct = 0\n",
    "\n",
    "  # Set the model to train mode\n",
    "  model.train()\n",
    "\n",
    "  # Go through all the mini-batches in the train loader\n",
    "  for img, lbl in loaders['train']:\n",
    "\n",
    "    # Put the data on the gpu\n",
    "    img=img.to(device)\n",
    "    lbl=lbl.to(device)\n",
    "\n",
    "    # Set the accumaleted gradients to zero\n",
    "    optimizer.zero_grad()\n",
    "\n",
    "    # Get the output of the model\n",
    "    predict = model(img)\n",
    "    \n",
    "    # Compute the loss\n",
    "    loss=loss_fn(predict,lbl)\n",
    "    \n",
    "    # Compute the gradients and update the weigths\n",
    "    loss.backward()\n",
    "    optimizer.step()\n",
    "    \n",
    "    # Update the cumulative train loss of this epoch\n",
    "    train_loss += loss.item() * img.size(0)\n",
    "\n",
    "    # Compute accuracy\n",
    "    predicted_labels = predict.argmax(dim=1)\n",
    "\n",
    "    train_correct += torch.sum(predicted_labels == lbl)\n",
    "\n",
    "\n",
    "  # Evaluate the model on the test data\n",
    "  model.eval()\n",
    "  for img,lbl in loaders['test']:\n",
    "    img=img.to(device)\n",
    "    lbl=lbl.to(device)\n",
    "\n",
    "    predict=model(img)\n",
    "    loss=loss_fn(predict,lbl)\n",
    "\n",
    "    # Update the test loss for this epoch\n",
    "    valid_loss+=loss.item()*img.size(0)\n",
    "\n",
    "    # Compute accuracy\n",
    "    predicted_labels = predict.argmax(dim=1)\n",
    "\n",
    "    valid_correct += torch.sum(predicted_labels == lbl)\n",
    "  \n",
    "  # Compute the loss and accuracy metrics for this epoch\n",
    "  train_loss=train_loss/len(loaders['train'].sampler) \n",
    "  valid_loss=valid_loss/len(loaders['test'].sampler)\n",
    "\n",
    "  train_acc = train_correct / len(loaders['train'].sampler) \n",
    "  valid_acc = valid_correct / len(loaders['test'].sampler)\n",
    "\n",
    "  print('Epoch:{} Train Loss:{:.4f} valid Loss:{:.4f}; train Acc:{:.4f} valid Acc:{:.4f}'.format(epoch,train_loss,valid_loss, train_acc, valid_acc))\n",
    "\n",
    "  # Log results to tensorboard\n",
    "  writer.add_scalar('Loss/train', train_loss, epoch)\n",
    "  writer.add_scalar('Loss/test', valid_loss, epoch)\n",
    "\n",
    "  writer.add_scalar('Accuracy/train', train_acc, epoch)\n",
    "  writer.add_scalar('Accuracy/test', valid_acc, epoch)\n",
    "\n",
    "  writer.flush()\n",
    "  \n",
    "  \n",
    "import torch\n",
    "import matplotlib.pyplot as plt\n",
    "import cv2\n",
    "import numpy as np\n",
    "\n",
    "# Set the model to evaluation mode\n",
    "model.eval()\n",
    "\n",
    "# Counter for correct predictions\n",
    "correct = 0\n",
    "\n",
    "# Define the list of custom image paths\n",
    "image_paths = [f\"IMG-20241017-WA000{i}.jpg\" for i in range(1, 11)]\n",
    "preprocessed_images = []\n",
    "\n",
    "# Preprocess image function\n",
    "def preprocess_image(image_path):\n",
    "    # Load image in grayscale mode\n",
    "    img = cv2.imread(image_path, cv2.IMREAD_GRAYSCALE)\n",
    "\n",
    "    # Check if the image was loaded successfully\n",
    "    if img is None:\n",
    "        print(f\"Failed to load image {image_path}\")\n",
    "        return None\n",
    "\n",
    "    # Resize the image to 28x28\n",
    "    img = cv2.resize(img, (28, 28))\n",
    "\n",
    "    # Invert the colors (white background to black background)\n",
    "    img = 255 - img\n",
    "\n",
    "    # Normalize pixel values to range 0-1\n",
    "    img = img.astype(np.float32) / 255.0\n",
    "\n",
    "    # Set all values below 0.5 to 0\n",
    "    img[img < 0.5] = 0\n",
    "\n",
    "    return img\n",
    "\n",
    "# Loop through each image, preprocess, and predict\n",
    "for i, image_path in enumerate(image_paths):\n",
    "    img = preprocess_image(image_path)\n",
    "\n",
    "    if img is None:\n",
    "        continue\n",
    "\n",
    "    preprocessed_images.append(img)\n",
    "    label = preprocessed_labels[i]  # Corresponding label\n",
    "\n",
    "    # Reshape image to (1, 1, 28, 28) to match input dimensions\n",
    "    img = img.reshape(1, 1, 28, 28)\n",
    "\n",
    "    # Convert image to a PyTorch tensor and move to the correct device\n",
    "    input = torch.tensor(img, dtype=torch.float32).to(device)\n",
    "\n",
    "    # Perform inference without computing gradients\n",
    "    with torch.no_grad():\n",
    "        prediction = model(input)\n",
    "        predicted_label = prediction.argmax(dim=1).item()\n",
    "\n",
    "    # Check if prediction is correct\n",
    "    is_correct = (label == predicted_label)\n",
    "    correct += is_correct\n",
    "\n",
    "    # Display the image and prediction result\n",
    "    plt.figure()\n",
    "    plt.title(f\"Correct: {is_correct}, Actual: {label}, Predicted: {predicted_label}\",\n",
    "              color=\"black\" if is_correct else \"red\")\n",
    "    plt.imshow(img.squeeze(0).squeeze(0), cmap=\"gray\")\n",
    "    plt.show()\n",
    "\n",
    "# Print the total number of correct predictions\n",
    "print(f\"Correct Predictions: {correct}/10\")\n"
   ]
  },
  {
   "cell_type": "code",
   "execution_count": 75,
   "metadata": {},
   "outputs": [],
   "source": [
    "import torchvision\n",
    "import torch.nn.functional as F\n",
    "import torch.nn as nn\n",
    "\n",
    "# Define a neural network model.\n",
    "def create_model():\n",
    "  # nn.Sequential takes multiple neural network modules and sequentially passes \n",
    "  # the input through the modules.\n",
    "  model = nn.Sequential(\n",
    "              # MNIST image has dimension 28 x 28 (height x width)\n",
    "              nn.Conv2d(1, 28, kernel_size=3, padding=1), # output: 28 x 28 x 28\n",
    "              nn.ReLU(),\n",
    "              \n",
    "              nn.Conv2d(28, 32, kernel_size=3, stride=1, padding=1), # output: 32 x 28 x 28\n",
    "              nn.ReLU(),\n",
    "              nn.MaxPool2d(2, 2), # output: 32 x 14 x 14\n",
    "              nn.BatchNorm2d(32),\n",
    "              \n",
    "              nn.Conv2d(32, 64, kernel_size=3, stride=1, padding=1), # output: 64 x 14 x 14\n",
    "              nn.ReLU(),\n",
    "              nn.MaxPool2d(2, 2), # output: 64 x 7 x 7\n",
    "              nn.BatchNorm2d(64),\n",
    "              \n",
    "              nn.Conv2d(64, 128, kernel_size=3, stride=1, padding=1), # output: 128 x 14 x 14\n",
    "              nn.ReLU(),\n",
    "              # nn.MaxPool2d(2, 2), # output: 256 x 3 x 3\n",
    "              nn.BatchNorm2d(128),\n",
    "              \n",
    "\n",
    "              nn.Flatten(), # Flattens the 64 x 7 x 7 tensor into a one dimensional array of length 64*7*7\n",
    "\n",
    "              nn.Linear(128*7*7, 10) # output: one dimensional array of size 10\n",
    "          )\n",
    "  \n",
    "  return model"
   ]
  },
  {
   "cell_type": "code",
   "execution_count": 76,
   "metadata": {},
   "outputs": [
    {
     "data": {
      "text/plain": [
       "Sequential(\n",
       "  (0): Conv2d(1, 28, kernel_size=(3, 3), stride=(1, 1), padding=(1, 1))\n",
       "  (1): ReLU()\n",
       "  (2): Conv2d(28, 32, kernel_size=(3, 3), stride=(1, 1), padding=(1, 1))\n",
       "  (3): ReLU()\n",
       "  (4): MaxPool2d(kernel_size=2, stride=2, padding=0, dilation=1, ceil_mode=False)\n",
       "  (5): BatchNorm2d(32, eps=1e-05, momentum=0.1, affine=True, track_running_stats=True)\n",
       "  (6): Conv2d(32, 64, kernel_size=(3, 3), stride=(1, 1), padding=(1, 1))\n",
       "  (7): ReLU()\n",
       "  (8): MaxPool2d(kernel_size=2, stride=2, padding=0, dilation=1, ceil_mode=False)\n",
       "  (9): BatchNorm2d(64, eps=1e-05, momentum=0.1, affine=True, track_running_stats=True)\n",
       "  (10): Conv2d(64, 128, kernel_size=(3, 3), stride=(1, 1), padding=(1, 1))\n",
       "  (11): ReLU()\n",
       "  (12): BatchNorm2d(128, eps=1e-05, momentum=0.1, affine=True, track_running_stats=True)\n",
       "  (13): Flatten(start_dim=1, end_dim=-1)\n",
       "  (14): Linear(in_features=6272, out_features=10, bias=True)\n",
       ")"
      ]
     },
     "execution_count": 76,
     "metadata": {},
     "output_type": "execute_result"
    }
   ],
   "source": [
    "# Initialize the model\n",
    "model = create_model()\n",
    "device=torch.device('cuda:0' if torch.cuda.is_available() else 'cpu')\n",
    "\n",
    "# Define the loss function\n",
    "loss_fn = nn.CrossEntropyLoss()\n",
    "\n",
    "# Define the optimizer\n",
    "# model.parameters() are the weights that should be updated during training\n",
    "optimizer = optim.SGD(model.parameters(), lr=0.001, momentum=0.9)\n",
    "\n",
    "# Setup tensorboard to log training results\n",
    "from torch.utils.tensorboard import SummaryWriter\n",
    "\n",
    "# Change the comment to something else to identify the run in tensorboard\n",
    "writer = SummaryWriter(comment=\"mnist_run\")\n",
    "\n",
    "# Adds a graph of the model to tensorboard.\n",
    "# In the graph tab you can see the computional graph of the model.\n",
    "writer.add_graph(model, example_batch[0])\n",
    "\n",
    "writer.flush()\n",
    "\n",
    "# device = \"cpu\"\n",
    "model.to(device)\n",
    "\n",
    "\n",
    "\n",
    "\n"
   ]
  },
  {
   "cell_type": "code",
   "execution_count": 77,
   "metadata": {},
   "outputs": [
    {
     "name": "stdout",
     "output_type": "stream",
     "text": [
      "Epoch:1 Train Loss:0.1278 valid Loss:0.0481; train Acc:0.9633 valid Acc:0.9858\n",
      "Epoch:2 Train Loss:0.0407 valid Loss:0.0358; train Acc:0.9886 valid Acc:0.9889\n",
      "Epoch:3 Train Loss:0.0290 valid Loss:0.0340; train Acc:0.9921 valid Acc:0.9892\n",
      "Epoch:4 Train Loss:0.0222 valid Loss:0.0288; train Acc:0.9942 valid Acc:0.9903\n",
      "Epoch:5 Train Loss:0.0173 valid Loss:0.0258; train Acc:0.9956 valid Acc:0.9923\n",
      "Epoch:6 Train Loss:0.0143 valid Loss:0.0243; train Acc:0.9970 valid Acc:0.9918\n",
      "Epoch:7 Train Loss:0.0116 valid Loss:0.0242; train Acc:0.9980 valid Acc:0.9918\n",
      "Epoch:8 Train Loss:0.0095 valid Loss:0.0228; train Acc:0.9985 valid Acc:0.9928\n",
      "Epoch:9 Train Loss:0.0081 valid Loss:0.0232; train Acc:0.9989 valid Acc:0.9925\n",
      "Epoch:10 Train Loss:0.0069 valid Loss:0.0226; train Acc:0.9992 valid Acc:0.9931\n",
      "Epoch:11 Train Loss:0.0059 valid Loss:0.0230; train Acc:0.9995 valid Acc:0.9924\n",
      "Epoch:12 Train Loss:0.0052 valid Loss:0.0224; train Acc:0.9996 valid Acc:0.9925\n",
      "Epoch:13 Train Loss:0.0046 valid Loss:0.0230; train Acc:0.9998 valid Acc:0.9920\n",
      "Epoch:14 Train Loss:0.0040 valid Loss:0.0230; train Acc:0.9998 valid Acc:0.9924\n",
      "Epoch:15 Train Loss:0.0036 valid Loss:0.0221; train Acc:0.9999 valid Acc:0.9928\n"
     ]
    },
    {
     "data": {
      "image/png": "[encoded data removed]",
      "text/plain": [
       "<Figure size 432x288 with 1 Axes>"
      ]
     },
     "metadata": {
      "needs_background": "light"
     },
     "output_type": "display_data"
    },
    {
     "data": {
      "image/png": "[encoded data removed]",
      "text/plain": [
       "<Figure size 432x288 with 1 Axes>"
      ]
     },
     "metadata": {
      "needs_background": "light"
     },
     "output_type": "display_data"
    },
    {
     "data": {
      "image/png": "[encoded data removed]",
      "text/plain": [
       "<Figure size 432x288 with 1 Axes>"
      ]
     },
     "metadata": {
      "needs_background": "light"
     },
     "output_type": "display_data"
    },
    {
     "data": {
      "image/png": "[encoded data removed]",
      "text/plain": [
       "<Figure size 432x288 with 1 Axes>"
      ]
     },
     "metadata": {
      "needs_background": "light"
     },
     "output_type": "display_data"
    },
    {
     "data": {
      "image/png": "[encoded data removed]",
      "text/plain": [
       "<Figure size 432x288 with 1 Axes>"
      ]
     },
     "metadata": {
      "needs_background": "light"
     },
     "output_type": "display_data"
    },
    {
     "data": {
      "image/png": "[encoded data removed]",
      "text/plain": [
       "<Figure size 432x288 with 1 Axes>"
      ]
     },
     "metadata": {
      "needs_background": "light"
     },
     "output_type": "display_data"
    },
    {
     "data": {
      "image/png": "[encoded data removed]",
      "text/plain": [
       "<Figure size 432x288 with 1 Axes>"
      ]
     },
     "metadata": {
      "needs_background": "light"
     },
     "output_type": "display_data"
    },
    {
     "data": {
      "image/png": "[encoded data removed]",
      "text/plain": [
       "<Figure size 432x288 with 1 Axes>"
      ]
     },
     "metadata": {
      "needs_background": "light"
     },
     "output_type": "display_data"
    },
    {
     "data": {
      "image/png": "[encoded data removed]",
      "text/plain": [
       "<Figure size 432x288 with 1 Axes>"
      ]
     },
     "metadata": {
      "needs_background": "light"
     },
     "output_type": "display_data"
    },
    {
     "data": {
      "image/png": "[encoded data removed]",
      "text/plain": [
       "<Figure size 432x288 with 1 Axes>"
      ]
     },
     "metadata": {
      "needs_background": "light"
     },
     "output_type": "display_data"
    },
    {
     "name": "stdout",
     "output_type": "stream",
     "text": [
      "Correct Predictions: 7/10\n"
     ]
    }
   ],
   "source": [
    "# The number of epochs to train for.\n",
    "# During each epoch, the model is trained on all of the training data\n",
    "num_epoch = 15\n",
    "\n",
    "for epoch in range(1, num_epoch+1):\n",
    "  train_loss=0.0\n",
    "  valid_loss=0.0\n",
    "\n",
    "  train_correct = 0\n",
    "  valid_correct = 0\n",
    "\n",
    "  # Set the model to train mode\n",
    "  model.train()\n",
    "\n",
    "  # Go through all the mini-batches in the train loader\n",
    "  for img, lbl in loaders['train']:\n",
    "\n",
    "    # Put the data on the gpu\n",
    "    img=img.to(device)\n",
    "    lbl=lbl.to(device)\n",
    "\n",
    "    # Set the accumaleted gradients to zero\n",
    "    optimizer.zero_grad()\n",
    "\n",
    "    # Get the output of the model\n",
    "    predict = model(img)\n",
    "    \n",
    "    # Compute the loss\n",
    "    loss=loss_fn(predict,lbl)\n",
    "    \n",
    "    # Compute the gradients and update the weigths\n",
    "    loss.backward()\n",
    "    optimizer.step()\n",
    "    \n",
    "    # Update the cumulative train loss of this epoch\n",
    "    train_loss += loss.item() * img.size(0)\n",
    "\n",
    "    # Compute accuracy\n",
    "    predicted_labels = predict.argmax(dim=1)\n",
    "\n",
    "    train_correct += torch.sum(predicted_labels == lbl)\n",
    "\n",
    "\n",
    "  # Evaluate the model on the test data\n",
    "  model.eval()\n",
    "  for img,lbl in loaders['test']:\n",
    "    img=img.to(device)\n",
    "    lbl=lbl.to(device)\n",
    "\n",
    "    predict=model(img)\n",
    "    loss=loss_fn(predict,lbl)\n",
    "\n",
    "    # Update the test loss for this epoch\n",
    "    valid_loss+=loss.item()*img.size(0)\n",
    "\n",
    "    # Compute accuracy\n",
    "    predicted_labels = predict.argmax(dim=1)\n",
    "\n",
    "    valid_correct += torch.sum(predicted_labels == lbl)\n",
    "  \n",
    "  # Compute the loss and accuracy metrics for this epoch\n",
    "  train_loss=train_loss/len(loaders['train'].sampler) \n",
    "  valid_loss=valid_loss/len(loaders['test'].sampler)\n",
    "\n",
    "  train_acc = train_correct / len(loaders['train'].sampler) \n",
    "  valid_acc = valid_correct / len(loaders['test'].sampler)\n",
    "\n",
    "  print('Epoch:{} Train Loss:{:.4f} valid Loss:{:.4f}; train Acc:{:.4f} valid Acc:{:.4f}'.format(epoch,train_loss,valid_loss, train_acc, valid_acc))\n",
    "\n",
    "  # Log results to tensorboard\n",
    "  writer.add_scalar('Loss/train', train_loss, epoch)\n",
    "  writer.add_scalar('Loss/test', valid_loss, epoch)\n",
    "\n",
    "  writer.add_scalar('Accuracy/train', train_acc, epoch)\n",
    "  writer.add_scalar('Accuracy/test', valid_acc, epoch)\n",
    "\n",
    "  writer.flush()\n",
    "  \n",
    "  \n",
    "import torch\n",
    "import matplotlib.pyplot as plt\n",
    "import cv2\n",
    "import numpy as np\n",
    "\n",
    "# Set the model to evaluation mode\n",
    "model.eval()\n",
    "\n",
    "# Counter for correct predictions\n",
    "correct = 0\n",
    "\n",
    "# Define the list of custom image paths\n",
    "image_paths = [f\"IMG-20241017-WA000{i}.jpg\" for i in range(1, 11)]\n",
    "preprocessed_images = []\n",
    "\n",
    "# Preprocess image function\n",
    "def preprocess_image(image_path):\n",
    "    # Load image in grayscale mode\n",
    "    img = cv2.imread(image_path, cv2.IMREAD_GRAYSCALE)\n",
    "\n",
    "    # Check if the image was loaded successfully\n",
    "    if img is None:\n",
    "        print(f\"Failed to load image {image_path}\")\n",
    "        return None\n",
    "\n",
    "    # Resize the image to 28x28\n",
    "    img = cv2.resize(img, (28, 28))\n",
    "\n",
    "    # Invert the colors (white background to black background)\n",
    "    img = 255 - img\n",
    "\n",
    "    # Normalize pixel values to range 0-1\n",
    "    img = img.astype(np.float32) / 255.0\n",
    "\n",
    "    # Set all values below 0.5 to 0\n",
    "    img[img < 0.5] = 0\n",
    "\n",
    "    return img\n",
    "\n",
    "# Loop through each image, preprocess, and predict\n",
    "for i, image_path in enumerate(image_paths):\n",
    "    img = preprocess_image(image_path)\n",
    "\n",
    "    if img is None:\n",
    "        continue\n",
    "\n",
    "    preprocessed_images.append(img)\n",
    "    label = preprocessed_labels[i]  # Corresponding label\n",
    "\n",
    "    # Reshape image to (1, 1, 28, 28) to match input dimensions\n",
    "    img = img.reshape(1, 1, 28, 28)\n",
    "\n",
    "    # Convert image to a PyTorch tensor and move to the correct device\n",
    "    input = torch.tensor(img, dtype=torch.float32).to(device)\n",
    "\n",
    "    # Perform inference without computing gradients\n",
    "    with torch.no_grad():\n",
    "        prediction = model(input)\n",
    "        predicted_label = prediction.argmax(dim=1).item()\n",
    "\n",
    "    # Check if prediction is correct\n",
    "    is_correct = (label == predicted_label)\n",
    "    correct += is_correct\n",
    "\n",
    "    # Display the image and prediction result\n",
    "    plt.figure()\n",
    "    plt.title(f\"Correct: {is_correct}, Actual: {label}, Predicted: {predicted_label}\",\n",
    "              color=\"black\" if is_correct else \"red\")\n",
    "    plt.imshow(img.squeeze(0).squeeze(0), cmap=\"gray\")\n",
    "    plt.show()\n",
    "\n",
    "# Print the total number of correct predictions\n",
    "print(f\"Correct Predictions: {correct}/10\")"
   ]
  },
  {
   "cell_type": "code",
   "execution_count": null,
   "metadata": {},
   "outputs": [],
   "source": []
  }
 ],
 "metadata": {
  "colab": {
   "provenance": []
  },
  "kernelspec": {
   "display_name": "osm",
   "language": "python",
   "name": "python3"
  },
  "language_info": {
   "codemirror_mode": {
    "name": "ipython",
    "version": 3
   },
   "file_extension": ".py",
   "mimetype": "text/x-python",
   "name": "python",
   "nbconvert_exporter": "python",
   "pygments_lexer": "ipython3",
   "version": "3.12.6"
  }
 },
 "nbformat": 4,
 "nbformat_minor": 4
}
