{
 "cells": [
  {
   "cell_type": "markdown",
   "id": "214e28a3",
   "metadata": {
    "cellIdentifier": "wjm98iza1wruwkg5mt2rss"
   },
   "source": [
    "# Fundamentals of Artificial Intelligence Programme (2024/25 Q1)\n",
    "## SVMs and Decision Trees\n",
    "\n",
    "### Part 1: SVMs\n",
    "Author: Tom Viering and Aleksander Buszydlik                         \n",
    "Revised by Akash Amalan"
   ]
  },
  {
   "cell_type": "markdown",
   "id": "fa25c139",
   "metadata": {
    "cellIdentifier": "7cx1n1ukurrrezpim80x6d"
   },
   "source": [
    "**WHAT** This nonmandatory lab consists of several programming tasks and pen-and-paper questions. Successful completion of the assignment and handing it in for grading can reward you with a bonus point.\n",
    "\n",
    "**WHY** The exercises are meant to help you learn about the concept of support vector machines. \n",
    "\n",
    "**HOW** Follow the exercises in the notebook on your own. For questions and feedback please consult the TAs during the lab session.\n",
    "\n",
    "**Questions 1 and 2 are graded.**"
   ]
  },
  {
   "cell_type": "markdown",
   "id": "436308f7",
   "metadata": {
    "cellIdentifier": "kkeh69cc14otqzqncbp0n"
   },
   "source": [
    "**Exercise 1** Below, you can see 3 SVM models - analyze them and answer the questions for each of them."
   ]
  },
  {
   "cell_type": "markdown",
   "id": "99dffd35",
   "metadata": {
    "cellIdentifier": "s2rxxbm3ka89yhw8m4kmml"
   },
   "source": [
    "$(1)$ ![SVM_1](images/support_vectors_1.png)\n",
    "\n",
    "$(2)$ ![SVM_2](images/support_vectors_2.png)\n",
    "\n",
    "$(3)$ ![SVM_3](images/support_vectors_3.png)\n"
   ]
  },
  {
   "cell_type": "markdown",
   "id": "8a29ff74",
   "metadata": {
    "cellIdentifier": "c8jn24v3pqh4bsem1y5ohc"
   },
   "source": [
    "<div style=\"background-color:#c2eafa\">\n",
    "\n",
    "**Question 1.1** Give the respective numbers of the support vectors for all three graphs.\n"
   ]
  },
  {
   "cell_type": "markdown",
   "id": "f83e22ac",
   "metadata": {
    "cellIdentifier": "9uoqbgxyxuwmzbe67h24l"
   },
   "source": [
    "<div style=\"background-color:#f1be3e\">\n",
    "    \n",
    "[//]: # (START ANSWER)    \n",
    "1. _Write your answer here._\n",
    " \n",
    "[//]: # (END ANSWER)"
   ]
  },
  {
   "cell_type": "markdown",
   "id": "1bf72df0",
   "metadata": {
    "cellIdentifier": "slfuskhlwetwothh88ahn"
   },
   "source": [
    "<div style=\"background-color:#c2eafa\">\n",
    "   \n",
    "**Question 1.2** Estimate (from the pictures) the width of the margins. You can take the width as the distance from the boundary to the support vector.\n",
    "   "
   ]
  },
  {
   "cell_type": "markdown",
   "id": "4df80142",
   "metadata": {
    "cellIdentifier": "9dw17wf805qmwilloes1oo"
   },
   "source": [
    "<div style=\"background-color:#f1be3e\">\n",
    "\n",
    "[//]: # (START ANSWER)\n",
    "1. _Write your answer here._\n",
    "\n",
    "[//]: # (END ANSWER)"
   ]
  },
  {
   "cell_type": "markdown",
   "id": "3dc8e7d5",
   "metadata": {
    "cellIdentifier": "1zgb6489rh9l52srwdwe7"
   },
   "source": [
    "<div style=\"background-color:#c2eafa\">\n",
    "\n",
    "**Question 1.3** In which graph does the SVM suffer from not properly scaled features? Why can it be important to scale the features before training the SVM?"
   ]
  },
  {
   "cell_type": "markdown",
   "id": "3b859bd0",
   "metadata": {
    "cellIdentifier": "wop6phvjnqw3qm274wxo"
   },
   "source": [
    "\n",
    "\n",
    "<div style=\"background-color:#f1be3e\">\n",
    "\n",
    "[//]: # (START ANSWER)\n",
    "_Write your answer here._\n",
    "\n",
    "[//]: # (END ANSWER)"
   ]
  },
  {
   "cell_type": "markdown",
   "id": "4f672f17",
   "metadata": {
    "cellIdentifier": "kzcwqzxuczr3zv0xwmc5yd"
   },
   "source": [
    "**Exercise 2** In this exercise you will start by creating a pen-and-paper SVM model for linearly separable data (i.e. a *hard margin SVM*). Our dataset is as follows:\n",
    "\n",
    "1. object of class A at $(0, 0)$\n",
    "2. object of class B at $(1, 0)$\n",
    "3. object of class B at $(1, 1)$\n",
    "\n"
   ]
  },
  {
   "cell_type": "markdown",
   "id": "f66ccaa3",
   "metadata": {
    "cellIdentifier": "5b7rqrk54r7b6l77ew906w"
   },
   "source": [
    "<div style=\"background-color:#c2eafa\">\n",
    "\n",
    "**Question 2.1** Draw the points in a Cartesian coordinate system and fit a decision boundary of the support vector classifier."
   ]
  },
  {
   "cell_type": "markdown",
   "id": "2e9f7bde",
   "metadata": {
    "cellIdentifier": "ulla5sftij7p5wo0qljy3j"
   },
   "source": [
    "<div style=\"background-color:#c2eafa\">\n",
    "\n",
    "**Question 2.2** Indicate which of the objects are the support vectors."
   ]
  },
  {
   "cell_type": "markdown",
   "id": "a7c1a87d",
   "metadata": {
    "cellIdentifier": "kubaw3cxaidiqovwh7rubl"
   },
   "source": [
    "<div style=\"background-color:#f1be3e\">\n",
    "    \n",
    "[//]: # (START ANSWER)\n",
    "_Write your answer here._\n",
    "\n",
    "[//]: # (END ANSWER)\n"
   ]
  },
  {
   "cell_type": "markdown",
   "id": "e3cc572e",
   "metadata": {
    "cellIdentifier": "am1fdo19f6cfxguhjjdv8u"
   },
   "source": [
    "<div style=\"background-color:#c2eafa\">\n",
    "\n",
    "\n",
    "**Question 2.3** Indicate how large is the margin."
   ]
  },
  {
   "cell_type": "markdown",
   "id": "a3594aa1",
   "metadata": {
    "cellIdentifier": "v09t5vng7attpclgif0u"
   },
   "source": [
    "<div style=\"background-color:#f1be3e\">\n",
    "\n",
    "[//]: # (START ANSWER)\n",
    "_Write your answer here._\n",
    " \n",
    "[//]: # (END ANSWER)"
   ]
  },
  {
   "cell_type": "markdown",
   "id": "84cf82e5",
   "metadata": {
    "cellIdentifier": "lebci2a16gxssjvddqju"
   },
   "source": [
    "<div style=\"background-color:#c2eafa\">\n",
    "\n",
    "**Question 2.4** Suppose we have obtained a new observation of class B located at $(2, 0)$. What will the decision boundary look like after we add this new object? What about the margin?"
   ]
  },
  {
   "cell_type": "markdown",
   "id": "a8e71841",
   "metadata": {
    "cellIdentifier": "wf69nbjs2hmdg1cibp5wa"
   },
   "source": [
    "<div style=\"background-color:#f1be3e\">\n",
    "\n",
    "\n",
    "[//]: # (START ANSWER)\n",
    "_Write your answer here._\n",
    "\n",
    "[//]: # (END ANSWER)\n"
   ]
  },
  {
   "cell_type": "markdown",
   "id": "7ef95e1d",
   "metadata": {
    "cellIdentifier": "fogkixgl60rt0w35szmui"
   },
   "source": [
    "<div style=\"background-color:#c2eafa\">\n",
    "\n",
    "\n",
    "**Question 2.5** Suppose we have obtained a new observation of class A located at $(0, 1)$. What will the decision boundary look like after we add this new object? What about the margin? What if the object belonged to class B?"
   ]
  },
  {
   "cell_type": "markdown",
   "id": "538eadb1",
   "metadata": {
    "cellIdentifier": "joq06nkv3dqt4sw7h5mt3d"
   },
   "source": [
    "<div style=\"background-color:#f1be3e\">\n",
    "\n",
    "[//]: # (START ANSWER)\n",
    "_Write your answer here._\n",
    "\n",
    "[//]: # (END ANSWER)\n"
   ]
  },
  {
   "cell_type": "markdown",
   "id": "5c3163bb",
   "metadata": {
    "cellIdentifier": "edoratj2hcqcubnmhzcezq"
   },
   "source": [
    "Now, we will verify your answers by training a [`SVC` model](https://scikit-learn.org/stable/modules/generated/sklearn.svm.SVC.html) from Scikit. We will also define a function to plot the decision boundary of the classifier."
   ]
  },
  {
   "cell_type": "code",
   "execution_count": null,
   "id": "b0eb17c7",
   "metadata": {
    "cellIdentifier": "v3rb8a6u8tc1jymksf5dv",
    "lines_to_next_cell": 2
   },
   "outputs": [],
   "source": [
    "# Here is some plotting code that we will use in this exercise\n",
    "import matplotlib.pyplot as plt\n",
    "\n",
    "def plot_svm(model):\n",
    "    ax = plt.gca()\n",
    "    x_lim = ax.get_xlim()\n",
    "    y_lim = ax.get_ylim()\n",
    "    \n",
    "    xs, ys = np.meshgrid(np.linspace(x_lim[0], x_lim[1], 50),\n",
    "                         np.linspace(y_lim[0], y_lim[1], 50))\n",
    "    Z = model.decision_function(np.c_[xs.ravel(), ys.ravel()]).reshape(xs.shape)\n",
    "    \n",
    "    plt.contour(xs, ys, Z, colors='k', levels=[-1, 0, 1], alpha=0.5,\n",
    "               linestyles=['--', '-', '--']) \n",
    "    plt.scatter(model.support_vectors_[:, 0], model.support_vectors_[:, 1],\n",
    "                s=200, linewidth=1, facecolors='none')\n",
    "    plt.tight_layout()"
   ]
  },
  {
   "cell_type": "markdown",
   "id": "395569ed",
   "metadata": {
    "cellIdentifier": "7xprdzbe7gx8glrwn8st"
   },
   "source": [
    "<div style=\"background-color:#c2eafa\">\n",
    "\n",
    "**Question 2.6** Finish the function which will train an `SVC()` classifier given an array of features and the labels. Make sure to set `kernel='linear'`, `C=1e10` (this will effectively make our classifier a hard-margin SVC, and pass the `random_state` hyper-parameter. Also, define the arrays `X` and `y` describing the first three points.  \n",
    "**Note:** Make sure to encode class A as `0` and class B as `1`"
   ]
  },
  {
   "cell_type": "code",
   "execution_count": null,
   "id": "60207461",
   "metadata": {
    "cellIdentifier": "y866sghvdchnfzj5nhlcdq",
    "lines_to_next_cell": 2
   },
   "outputs": [],
   "source": [
    "import numpy as np\n",
    "from sklearn.svm import SVC\n",
    "from sklearn.metrics import accuracy_score\n",
    "from sklearn.preprocessing import StandardScaler\n",
    "\n",
    "X_1 = []\n",
    "y_1 = []\n",
    "# Define the X and y arrays\n",
    "# START ANSWER\n",
    "# END ANSWER\n",
    "\n",
    "svm = None\n",
    "predictions = []\n",
    "# Create an SVC classifier\n",
    "# START ANSWER\n",
    "# END ANSWER\n",
    "\n",
    "print(\"Model accuracy: {}\".format(accuracy_score(predictions_1, y_1)))\n",
    "plt.scatter(X_1[:, 0], X_1[:, 1], c=y_1, s=50, cmap='viridis')\n",
    "plot_svm(model_linear_1)\n",
    "plt.show()\n"
   ]
  },
  {
   "cell_type": "markdown",
   "id": "675c7873",
   "metadata": {
    "cellIdentifier": "0060i50bbcg2wz5yzfglfnh"
   },
   "source": [
    "<div style=\"background-color:#c2eafa\">\n",
    "    \n",
    "**Question 2.7** Now add the observation of class B at $(2, 0)$ and retrain the model."
   ]
  },
  {
   "cell_type": "code",
   "execution_count": null,
   "id": "1aed1472",
   "metadata": {
    "cellIdentifier": "nnx1aecrxistfkmm8zizk"
   },
   "outputs": [],
   "source": [
    "X_2 = []\n",
    "y_2 = []\n",
    "model_linear_2 = None\n",
    "predictions = []\n",
    "\n",
    "# First define the X and y arrays\n",
    "# START ANSWER\n",
    "# END ANSWER\n",
    "\n",
    "print(\"Model accuracy: {}\".format(accuracy_score(predictions_2, y_2)))\n",
    "plt.scatter(X_2[:, 0], X_2[:, 1], c=y_2, s=50, cmap='viridis')\n",
    "plot_svm(model_linear_2)\n",
    "plt.show()"
   ]
  },
  {
   "cell_type": "markdown",
   "id": "9c317915",
   "metadata": {
    "cellIdentifier": "6ceifnlycjrb1xoo32o6gj"
   },
   "source": [
    "<div style=\"background-color:#c2eafa\">\n",
    "    \n",
    "**Question 2.8** Finally, verify what happens when we add an object of class A at $(0, 1)$. Also check what happens if we make that sample belong to class B."
   ]
  },
  {
   "cell_type": "code",
   "execution_count": null,
   "id": "5cc27db7",
   "metadata": {
    "cellIdentifier": "qm7tvj0d47egwig8j81ard"
   },
   "outputs": [],
   "source": [
    "X = []\n",
    "y = []\n",
    "model = None\n",
    "predictions = []\n",
    "\n",
    "# First define the X and y arrays\n",
    "# START ANSWER\n",
    "# END ANSWER\n",
    "\n",
    "print(\"Model accuracy: {}\".format(accuracy_score(predictions, y)))\n",
    "plt.scatter(X[:, 0], X[:, 1], c=y, s=50, cmap='viridis')\n",
    "plot_svm(model_linear_3)\n",
    "plt.show()"
   ]
  },
  {
   "cell_type": "markdown",
   "id": "303b27be",
   "metadata": {
    "cellIdentifier": "oleo2ursq1f0wc2cystlq"
   },
   "source": [
    "**Exercise 3** Often our classes will not be linearly separable and in such cases we will need to train a _soft-margin SVM_. These classifiers allow for misclassifications, and as such they can be used for non-seperable problems."
   ]
  },
  {
   "cell_type": "markdown",
   "id": "0aef84e6",
   "metadata": {
    "cellIdentifier": "y95mf7edk19dtbn93rgoli"
   },
   "source": [
    "<div style=\"background-color:#c2eafa\">\n",
    "    \n",
    "**Question 3.1** Give another reason why we may want to opt for a soft-margin SVM even in case the problem is linearly seperable."
   ]
  },
  {
   "cell_type": "markdown",
   "id": "8f55f214",
   "metadata": {
    "cellIdentifier": "3q14lgm457xnxl2b965a"
   },
   "source": [
    "<div style=\"background-color:#f1be3e\">\n",
    "\n",
    "[//]: # (START ANSWER)\n",
    "_Write your answer here._\n",
    "\n",
    "[//]: # (END ANSWER)"
   ]
  },
  {
   "cell_type": "markdown",
   "id": "be19f847",
   "metadata": {
    "cellIdentifier": "z8or04bnh7twf54d0kwk"
   },
   "source": [
    "We will now practice with soft-margin SVMs. We have prepared a dataset of two classes, we would like to train an SVM model to classify the samples as well as possible. We will train a linear SVM model and plot its predictions."
   ]
  },
  {
   "cell_type": "code",
   "execution_count": null,
   "id": "2aa82773",
   "metadata": {
    "cellIdentifier": "r51lcil117bhg8xz2ie7sa"
   },
   "outputs": [],
   "source": [
    "import numpy as np\n",
    "import matplotlib.pyplot as plt\n",
    "\n",
    "dataset = np.genfromtxt('data/mystery_dataset_1.csv', delimiter=',')\n",
    "\n",
    "model_soft= SVC(kernel='linear', C=1e10)\n",
    "model_soft.fit(dataset[:, :2], dataset[:, 2])\n",
    "predictions_soft = model_soft.predict(dataset[:, :2])\n",
    "\n",
    "print(\"Model accuracy: {}\".format(accuracy_score(predictions_soft, dataset[:, 2])))\n",
    "plt.scatter(dataset[:, 0], dataset[:, 1], c=dataset[:, 2], cmap='viridis')\n",
    "plot_svm(model_soft)\n",
    "plt.show()"
   ]
  },
  {
   "cell_type": "markdown",
   "id": "8afbd468",
   "metadata": {
    "cellIdentifier": "uz7wgwnqwr3ynelshwppz",
    "lines_to_next_cell": 2
   },
   "source": [
    "<div style=\"background-color:#c2eafa\">\n",
    "\n",
    "\n",
    "**Question 3.2** Our model seems to have a very small margin. How should we set the `C` parameter to make the margin larger and increase the accuracy of the classifier? Why does the value of `C` make a difference?"
   ]
  },
  {
   "cell_type": "markdown",
   "id": "52ff9687",
   "metadata": {
    "cellIdentifier": "ux6ns5o5wc2kixksnv9eq"
   },
   "source": [
    "<div style=\"background-color:#f1be3e\">\n",
    "\n",
    "[//]: # (START ANSWER)\n",
    "_Write your answer here._\n",
    "\n",
    "[//]: # (END ANSWER)"
   ]
  },
  {
   "cell_type": "markdown",
   "id": "248c2d21",
   "metadata": {
    "cellIdentifier": "6fwcgjc2inqi3yclpgud0q"
   },
   "source": [
    "To continue our exploration of SVM margins we will load another dataset and train a model."
   ]
  },
  {
   "cell_type": "code",
   "execution_count": null,
   "id": "2fb36174",
   "metadata": {
    "cellIdentifier": "wi7ongh93qjh49y4erzago"
   },
   "outputs": [],
   "source": [
    "dataset = np.genfromtxt('data/mystery_dataset_2.csv', delimiter=',')\n",
    "\n",
    "svm_with_c = SVC(kernel='linear', C=0.0001)\n",
    "svm_with_c.fit(dataset[:, :2], dataset[:, 2])\n",
    "predictions_with_c = svm_with_c.predict(dataset[:, :2])\n",
    "\n",
    "print(\"Model accuracy: {}\".format(accuracy_score(predictions_with_c, dataset[:, 2])))\n",
    "plt.scatter(dataset[:, 0], dataset[:, 1], c=dataset[:, 2], cmap='viridis')\n",
    "plot_svm(svm_with_c)\n",
    "plt.show()"
   ]
  },
  {
   "cell_type": "markdown",
   "id": "4ac6c719",
   "metadata": {
    "cellIdentifier": "0vqpb4nsd4q0p0suzvsc8ge"
   },
   "source": [
    "<div style=\"background-color:#c2eafa\">\n",
    "    \n",
    "**Question 3.3** Again, something went wrong with the classifier and we are achieving suboptimal results. Explain how we should tune the model to improve it. Why does your suggested change make a difference?\n",
    "\n"
   ]
  },
  {
   "cell_type": "markdown",
   "id": "84d352aa",
   "metadata": {
    "cellIdentifier": "f7h1hqpiorwy27u23rqv0m"
   },
   "source": [
    "<div style=\"background-color:#f1be3e\">\n",
    "\n",
    "[//]: # (START ANSWER)\n",
    "_Write your answer here._\n",
    "\n",
    "[//]: # (END ANSWER)"
   ]
  },
  {
   "cell_type": "markdown",
   "id": "d4f88bf6",
   "metadata": {
    "cellIdentifier": "r7dtsavl5kdhvfxdmo7hd"
   },
   "source": [
    "<div style=\"background-color:#c2eafa\">\n",
    "\n",
    "**Question 3.4** For these questions we were luckily working in 2D so we could visually see what is the problem. In practice, we might work with 10 or more features, and it is harder to figure out what is the appropiate value for C. In that case, how should we determine the hyperparameter C?\n"
   ]
  },
  {
   "cell_type": "markdown",
   "id": "9c70d834",
   "metadata": {
    "cellIdentifier": "ridkfujlxvgh0zmq9kdrj"
   },
   "source": [
    "<div style=\"background-color:#f1be3e\">\n",
    "\n",
    "[//]: # (START ANSWER)\n",
    "_Write your answer here._\n",
    "\n",
    "[//]: # (END ANSWER)"
   ]
  },
  {
   "cell_type": "markdown",
   "id": "934efc35",
   "metadata": {
    "cellIdentifier": "t94rocoemu6o4gyysuzza"
   },
   "source": [
    "**Exercise 4** Computing some losses and the cost function on pen and paper. \n",
    "\n",
    "We have trained an SVM on some data. It will classify objects to the top as purple, and below as yellow. Look at the plot below and answer the questions.\n",
    "\n",
    "![SVM misclassifications](images/misclassifications.png)"
   ]
  },
  {
   "cell_type": "markdown",
   "id": "3a17222e",
   "metadata": {
    "cellIdentifier": "yhwtcah9pvwsyuah8iw1"
   },
   "source": [
    "<div style=\"background-color:#c2eafa\">\n",
    "\n",
    "**Question 4.1** Give the respective numbers of the point(s) that constitute margin violations.\n"
   ]
  },
  {
   "cell_type": "markdown",
   "id": "cf9c6c98",
   "metadata": {
    "cellIdentifier": "xyqqh1g1wjk3nys88f17jz"
   },
   "source": [
    "<div style=\"background-color:#f1be3e\">\n",
    "\n",
    "[//]: # (START ANSWER)\n",
    "_Write your answer here._\n",
    " \n",
    "[//]: # (END ANSWER)"
   ]
  },
  {
   "cell_type": "markdown",
   "id": "64e0d7b5",
   "metadata": {
    "cellIdentifier": "fjhqw9l5dfgoy71wsiivpj"
   },
   "source": [
    "<div style=\"background-color:#c2eafa\">\n",
    "\n",
    "**Question 4.2** Calculate the size of the margin violation for  point 6.\n"
   ]
  },
  {
   "cell_type": "markdown",
   "id": "234dada8",
   "metadata": {
    "cellIdentifier": "sbk6piztrc92qy84if31tu"
   },
   "source": [
    "<div style=\"background-color:#f1be3e\">\n",
    "\n",
    "[//]: # (START ANSWER)\n",
    "_Write your answer here._\n",
    "\n",
    "[//]: # (END ANSWER)\n"
   ]
  },
  {
   "cell_type": "markdown",
   "id": "f733a7e9",
   "metadata": {
    "cellIdentifier": "8bshspd55vol72l3oj513k"
   },
   "source": [
    "<div style=\"background-color:#c2eafa\">\n",
    "    \n",
    "**Question 4.3** Calculate the hinge loss for the point 6.\n",
    "\n"
   ]
  },
  {
   "cell_type": "markdown",
   "id": "5c8ab4f3",
   "metadata": {
    "cellIdentifier": "au9fc8p9o97thp1uazv7t"
   },
   "source": [
    "<div style=\"background-color:#f1be3e\">\n",
    "\n",
    "[//]: # (START ANSWER)\n",
    "_Write your answer here._\n",
    " \n",
    "[//]: # (END ANSWER)\n"
   ]
  },
  {
   "cell_type": "markdown",
   "id": "b49a99ac",
   "metadata": {
    "cellIdentifier": "1o8km0jptmgr7b5p4udma9"
   },
   "source": [
    "<div style=\"background-color:#c2eafa\">\n",
    "    \n",
    "**Question 4.4** Knowing that the model was trained with `C=100` calculate the cost function of this SVM.\n",
    "\n",
    "**Hint:** $\\frac{1}{||w||}$ is equal to the size of the margin. \n"
   ]
  },
  {
   "cell_type": "markdown",
   "id": "f873dceb",
   "metadata": {
    "cellIdentifier": "vvd3n4yi7lcb3elvy1e6qm"
   },
   "source": [
    "<div style=\"background-color:#f1be3e\">\n",
    "\n",
    "[//]: # (START ANSWER)\n",
    "_Write your answer here._\n",
    "\n",
    "[//]: # (END ANSWER)"
   ]
  },
  {
   "cell_type": "markdown",
   "id": "cf138cc4",
   "metadata": {
    "cellIdentifier": "8z5b5jkexe9lzlo88n849a"
   },
   "source": [
    "**Exercise 5** In this exercise we will work with a (part of) the iris dataset. It is a very famous machine learning dataset consisting of measurements of petals and sepals taken for three species of iris flowers. For our purposes we will only classify whether a flower belongs to the *versicolor* or *virginica* species based on the width and length of its petals. We will load the dataset and plot the classes."
   ]
  },
  {
   "cell_type": "code",
   "execution_count": null,
   "id": "870e8515",
   "metadata": {
    "cellIdentifier": "cqh550w5x3scsmzecc6tcc"
   },
   "outputs": [],
   "source": [
    "iris_dataset = np.genfromtxt('data/iris.csv', delimiter=',')\n",
    "\n",
    "plt.scatter(iris_dataset[:, 0], iris_dataset[:, 1], c=iris_dataset[:, 2], cmap='viridis')\n",
    "plt.show()"
   ]
  },
  {
   "cell_type": "markdown",
   "id": "854b0c4f",
   "metadata": {
    "cellIdentifier": "uuro7jsco3wiunh7tybfp"
   },
   "source": [
    "<div style=\"background-color:#c2eafa\">\n",
    "    \n",
    "**Question 5.1** Are the classes linearly separable? Could we use a hard-margin SVM to give predictions?\n"
   ]
  },
  {
   "cell_type": "markdown",
   "id": "258054e6",
   "metadata": {
    "cellIdentifier": "yw6iar04v72xg19b8k65x"
   },
   "source": [
    "\n",
    "\n",
    "<div style=\"background-color:#f1be3e\">\n",
    "\n",
    "[//]: # (START ANSWER)\n",
    "_Write your answer here._\n",
    "\n",
    "[//]: # (END ANSWER)\n"
   ]
  },
  {
   "cell_type": "markdown",
   "id": "3e500ce1",
   "metadata": {
    "cellIdentifier": "mifx7iqyi3g60tca8s3qpc"
   },
   "source": [
    "<div style=\"background-color:#c2eafa\">\n",
    "\n",
    "**Question 5.2** We will create several SVM models with varying values of `C`. Finish the code below using [the model](https://scikit-learn.org/stable/modules/generated/sklearn.svm.SVC.html) from Scikit library."
   ]
  },
  {
   "cell_type": "code",
   "execution_count": null,
   "id": "c2bd4365",
   "metadata": {
    "cellIdentifier": "c4e4szudbftv7sis0g5aw",
    "lines_to_next_cell": 2
   },
   "outputs": [],
   "source": [
    "Cs = [0.01, 0.1, 1, 10, 100]\n",
    "\n",
    "for i, C in enumerate(Cs):\n",
    "    predictions = []\n",
    "    # Train an SVM model passing it C as hyper-parameter\n",
    "    # START ANSWER\n",
    "    # END ANSWER\n",
    "    \n",
    "    print(\"Model {} accuracy: {} C:{}\".format(i + 1, accuracy_score(predictions, iris_dataset[:, 2]),C))\n",
    "    \n",
    "    # Plot the decision boundary of our model.\n",
    "    # START ANSWER\n",
    "    # END ANSWER"
   ]
  },
  {
   "cell_type": "markdown",
   "id": "fc1ca04b",
   "metadata": {
    "cellIdentifier": "xpkokk0fsxhke8jrgzn01s"
   },
   "source": [
    "<div style=\"background-color:#c2eafa\">\n",
    "\n",
    "**Question 5.3** Explain in 3-4 sentences what happens to the SVM margin as we vary the value of `C`. Why does this happen?\n"
   ]
  },
  {
   "cell_type": "markdown",
   "id": "338d61d6",
   "metadata": {
    "cellIdentifier": "yn7kdm0hz2o8ylq6wmr8"
   },
   "source": [
    "<div style=\"background-color:#f1be3e\">\n",
    "    \n",
    "[//]: # (START ANSWER)\n",
    "_Write your answer here._\n",
    "\n",
    "[//]: # (END ANSWER)"
   ]
  },
  {
   "cell_type": "markdown",
   "id": "b6ef0aff",
   "metadata": {
    "cellIdentifier": "8ur95ga4elh3pnxrecbjdp"
   },
   "source": [
    "### Part 2: Decision Trees\n",
    "Author: Tom Viering and Juan Molano  \n",
    "Revised by: Prajit Bhaskaran"
   ]
  },
  {
   "cell_type": "markdown",
   "id": "a6326994",
   "metadata": {
    "cellIdentifier": "ntibulu0jlfb5ro4338h4"
   },
   "source": [
    "**WHAT** This lab consists of some programming and insight exercises/questions.\n",
    "\n",
    "**WHY** The exercises are meant to familiarize you with the basic concepts of decision trees.\n",
    "\n",
    "**HOW** Follow the exercises in the notebook on your own or with a fellow student. For questions and feedback please\n",
    "consult the TA's during the lab session.\n",
    "\n",
    "**Questions 2 and 5 are graded.**"
   ]
  },
  {
   "cell_type": "markdown",
   "id": "15a167fa",
   "metadata": {
    "cellIdentifier": "v1qma75szbke1tbcfsx4"
   },
   "source": [
    "<div style=\"background-color:#c2eafa\">\n",
    "    \n",
    "**Exercise 1** When to use Decision Trees\n",
    "\n",
    "Consider the following scenarios:\n",
    "\n",
    "1. Predicting the weather\n",
    "2. Calculating the amount of tax to pay\n",
    "3. Predicting whether someone receives a loan from a bank\n",
    "4. Predicting the delay of an airplane flight\n",
    "5. Predicting whether someone is eligible to be released on bail\n",
    "\n",
    "For which of these scenarios would you use a Decision Tree? Give a small argument for each scenario.\n",
    "\n"
   ]
  },
  {
   "cell_type": "code",
   "execution_count": null,
   "id": "a8efbbf4-3ba3-4346-9b3a-33940b9f81f2",
   "metadata": {},
   "outputs": [],
   "source": [
    "Predicting the Weather: No, too many variables.\n",
    "Calculating the Amount of Tax to Pay: Again no, these are fixed rules.\n",
    "Predicting Whether Someone Receives a Loan from a Bank: Yes, Decision Trees are effective for this classification task.\n",
    "Predicting the Delay of an Airplane Flight: No, there are many possible scenarios. I will be confusing.\n",
    "Predicting Whether Someone is Eligible to Be Released on Bail: Yes, Decision Trees are suitable for this classification and are interpretable for legal applications.\n",
    "In summary, Decision Trees work well for tasks where interpretability is important."
   ]
  },
  {
   "cell_type": "markdown",
   "id": "71d8da97",
   "metadata": {
    "cellIdentifier": "go4xi7rhs8r58elqtj6d8p"
   },
   "source": [
    "**Exercise 2** Calculations with Decision Trees\n",
    "\n",
    "Say that we have a classification problem with two different classes (Class 1 and Class 2). We want to classify\n",
    " the following 2-dimensional dataset using the decision tree model also shown below.\n",
    "\n",
    "![points](images/exercise_2_points.png)\n",
    "\n",
    "![decision_tree](images/exercise_2_decision_tree.png)\n",
    "\n",
    "Note: an arrow to the left means that the question (feature_1 <= threshold) was answered with Yes, and if the arrow goes to the right the answer is No. \n",
    "\n",
    "<div style=\"background-color:#c2eafa\">\n",
    "\n",
    "**Question 2.1** Compute the prediction of object $(6, 5)$.\n"
   ]
  },
  {
   "cell_type": "markdown",
   "id": "7c4850a0",
   "metadata": {
    "cellIdentifier": "nwym8nrve0run8tyny9s7c"
   },
   "source": [
    "<div style=\"background-color:#f1be3e\">\n",
    "\n",
    "[//]: # (START ANSWER)\n",
    "Leaf 3, class 1\n",
    "\n",
    "[//]: # (END ANSWER)"
   ]
  },
  {
   "cell_type": "markdown",
   "id": "08f76029",
   "metadata": {
    "cellIdentifier": "xsbgs77npi8quc05ztoeao"
   },
   "source": [
    "<div style=\"background-color:#c2eafa\">\n",
    "\n",
    "**Question 2.2** Compute the posterior probabilities in leaf 3 (from top to bottom).\n"
   ]
  },
  {
   "cell_type": "markdown",
   "id": "e4128acb",
   "metadata": {
    "cellIdentifier": "0qt2iazsldu0pgnhetgxhkl"
   },
   "source": [
    "<div style=\"background-color:#f1be3e\">\n",
    "\n",
    "[//]: # (START ANSWER)\n",
    "[//]: # (END ANSWER)"
   ]
  },
  {
   "cell_type": "code",
   "execution_count": 13,
   "id": "bb78cea4-5395-4712-88b5-ebaca1c0eea4",
   "metadata": {},
   "outputs": [],
   "source": [
    "# (START ANSWER)\n",
    "# Posterior Probability for Class 1: 3/3 = 1\n",
    "# Posterior Probability for Class 2: 0/3 = 0 \n",
    "# (END ANSWER)"
   ]
  },
  {
   "cell_type": "markdown",
   "id": "2b1e8c8c",
   "metadata": {
    "cellIdentifier": "fvdnzo3eb0a89z9htxbbe8"
   },
   "source": [
    "<div style=\"background-color:#c2eafa\">\n",
    "\n",
    "**Question 2.3** Compute the Gini purity for leaf 2 (from top to bottom).\n"
   ]
  },
  {
   "cell_type": "markdown",
   "id": "4c084139",
   "metadata": {
    "cellIdentifier": "uh8dej9fic7nsr8mwdbdj"
   },
   "source": [
    "<div style=\"background-color:#f1be3e\">\n",
    "\n",
    "[//]: # (START ANSWER)\n",
    "[//]: # (END ANSWER)\n"
   ]
  },
  {
   "cell_type": "code",
   "execution_count": 10,
   "id": "9fc38084-6bc1-49bb-9936-50c0c1fc3502",
   "metadata": {},
   "outputs": [],
   "source": [
    "## Proportion of Class 1: 3/4 = 0.75\n",
    "## Proportion of Class 2: 1/4 = 0.25\n",
    "# Gini = 1-((0.75)^2 + (0.25)^2) = 0.375"
   ]
  },
  {
   "cell_type": "markdown",
   "id": "e6e5cb11",
   "metadata": {
    "cellIdentifier": "2s3hifi9qbvcrjbs6rrj9"
   },
   "source": [
    "<div style=\"background-color:#c2eafa\">\n",
    "\n",
    "**Question 2.4** For the leaf 2 (from top to bottom) should a split be made on `feature 1` <= 6.5 or\n",
    "`feature 2` <= 4.5? Include a computation of the cost function for both options."
   ]
  },
  {
   "cell_type": "markdown",
   "id": "7a55149e",
   "metadata": {
    "cellIdentifier": "7vvdjwrest1oe0k48rjee"
   },
   "source": [
    "<div style=\"background-color:#f1be3e\">\n",
    "\n",
    "[//]: # (START ANSWER)\n",
    "[//]: # (END ANSWER)"
   ]
  },
  {
   "cell_type": "code",
   "execution_count": 16,
   "id": "f060b81a-7f56-4dd4-934e-2e655d1fd0e2",
   "metadata": {},
   "outputs": [],
   "source": [
    "#Gini Now: 0.375\n",
    "\n",
    "# Split 1\n",
    "# Gini Left Group: 1 - ((2/3)^2 + (1/3)^2) = 0.444 (3 samples)\n",
    "# Gini Right Group: 1 -(1 +0) = 0 (1 sample)\n",
    "# Weighted Gini: 3/4 x 0.444 + 1/4 * 0 = 0.333\n",
    "\n",
    "# Split 2\n",
    "# Gini Left Group: 1 - ((1/2)^2 + (1/2)^2) = 0.5 (2 samples)\n",
    "# Gini Right Group: 1 -(1 +0) = 0 (2 samples)\n",
    "# Weighted Gini: 2/4 x 0.5 + 2/4 * 0 = 0.25\n",
    "\n",
    "# The split on feature 2 <= 4.5 has a lower gini compared to the split on feature 1 <= 6.5\n",
    "# So, splitting on feature 2 is preferred."
   ]
  },
  {
   "cell_type": "markdown",
   "id": "ec72fae9",
   "metadata": {
    "cellIdentifier": "w8twhz21865m3i1gecn09",
    "pycharm": {
     "name": "#%% md\n"
    }
   },
   "source": [
    "**Exercise 3** Drawing Trees\n",
    "\n",
    "<div style=\"background-color:#c2eafa\">\n",
    "\n",
    "**Question 3.1** Given the following Tree, draw a 2D plot of the predictions by this regression tree.\n",
    "\n",
    "\n",
    "\n",
    "\n",
    "\n",
    "\n",
    "\n"
   ]
  },
  {
   "cell_type": "markdown",
   "id": "7c4161fb",
   "metadata": {
    "cellIdentifier": "6c1mfoxek9r6j86kysq3ba"
   },
   "source": [
    "![decision](images/exercise_3_decision_tree.png)"
   ]
  },
  {
   "cell_type": "markdown",
   "id": "fac2f8a9",
   "metadata": {
    "cellIdentifier": "vbk7g5l5mxf41pn8syjm"
   },
   "source": [
    "<div style=\"background-color:#f1be3e\">\n",
    "\n",
    "[//]: # (START ANSWER)\n",
    "_Write your answer here._\n",
    "\n",
    "[//]: # (END ANSWER)"
   ]
  },
  {
   "cell_type": "markdown",
   "id": "fd4e11ed",
   "metadata": {
    "cellIdentifier": "r7cx27shl5pdmr6cs9tfho"
   },
   "source": [
    "<div style=\"background-color:#c2eafa\">\n",
    "\n",
    "**Question 3.2** Given the following 2D plot of a regression Tree, draw the Regression Decision Tree.\n",
    "\n",
    "\n"
   ]
  },
  {
   "cell_type": "markdown",
   "id": "2ba1d7e0",
   "metadata": {
    "cellIdentifier": "49iiodj5rmwr3tzp15v8m8"
   },
   "source": [
    "![grid](images/exercise_3_grid.png)\n"
   ]
  },
  {
   "cell_type": "markdown",
   "id": "f81be33e",
   "metadata": {
    "cellIdentifier": "qz1fskagi3g1exe6f62me0g"
   },
   "source": [
    "<div style=\"background-color:#f1be3e\">\n",
    "\n",
    "[//]: # (START ANSWER)\n",
    "_Write your answer here._\n",
    "\n",
    "[//]: # (END ANSWER)"
   ]
  },
  {
   "cell_type": "markdown",
   "id": "608f4780",
   "metadata": {
    "cellIdentifier": "bykl09kdulch6ncgku92j"
   },
   "source": [
    "**Exercise 4** Decision Trees as non-linear classifiers\n",
    "\n",
    "<div style=\"background-color:#c2eafa\">\n",
    "\n",
    "**Question 4.1** Given the XOR-problem as pictured below:\n",
    "\n"
   ]
  },
  {
   "cell_type": "markdown",
   "id": "3bcf5a67",
   "metadata": {
    "cellIdentifier": "0v4qt6rzpw1qb07thlprmk"
   },
   "source": [
    "![points](images/exercise_4_points_new.png)\n",
    "\n",
    "<div style=\"background-color:#c2eafa\">\n",
    "\n",
    "Draw a decision tree that solves the problem perfectly."
   ]
  },
  {
   "cell_type": "markdown",
   "id": "d34fbf54",
   "metadata": {
    "cellIdentifier": "7nfxs5wxq6y7d8eipih5cb"
   },
   "source": [
    "[//]: # (START ANSWER)\n",
    "[//]: # (END ANSWER)"
   ]
  },
  {
   "cell_type": "markdown",
   "id": "382d7f0a",
   "metadata": {
    "cellIdentifier": "miy5g9s584r90urhrg1q4n"
   },
   "source": [
    "**Exercise 5** Predictions using Decision Trees\n",
    "\n",
    "Imagine we are working at a credit card company. We are interested to build a machine learning model that can determine\n",
    "whether a credit card application should be approved. To this end, we have some historical data of credit card applicants that were either accepted or rejected.\n",
    "\n",
    "Let's load the credit card data using pandas into the variable `cc_data`."
   ]
  },
  {
   "cell_type": "code",
   "execution_count": 19,
   "id": "6470356e",
   "metadata": {
    "cellIdentifier": "g4yye6atnxhx4w0g5pr8cs",
    "pycharm": {
     "name": "#%%\n"
    }
   },
   "outputs": [],
   "source": [
    "import pandas as pd\n",
    "import numpy as np\n",
    "from sklearn.model_selection import train_test_split\n",
    "from sklearn import tree\n",
    "import matplotlib.pyplot as plt\n",
    "np.random.seed(42)\n",
    "\n",
    "cc_data = pd.read_csv(\"data/AER_credit_card_data.csv\")"
   ]
  },
  {
   "cell_type": "markdown",
   "id": "a9efa24e",
   "metadata": {
    "cellIdentifier": "cb9kounhv5viea7f04hzml",
    "pycharm": {
     "name": "#%% md\n"
    }
   },
   "source": [
    "<div style=\"background-color:#c2eafa\">\n",
    "\n",
    "**Question 5.1** Have a look at the data and see if it is correctly loaded. How many rows and how many columns are there?"
   ]
  },
  {
   "cell_type": "code",
   "execution_count": 23,
   "id": "c2e33c33",
   "metadata": {
    "cellIdentifier": "d0zz6kaq12so1o4opozy5"
   },
   "outputs": [
    {
     "name": "stdout",
     "output_type": "stream",
     "text": [
      "<class 'pandas.core.frame.DataFrame'>\n",
      "RangeIndex: 1319 entries, 0 to 1318\n",
      "Data columns (total 12 columns):\n",
      " #   Column       Non-Null Count  Dtype  \n",
      "---  ------       --------------  -----  \n",
      " 0   card         1319 non-null   object \n",
      " 1   reports      1319 non-null   int64  \n",
      " 2   age          1319 non-null   float64\n",
      " 3   income       1319 non-null   float64\n",
      " 4   share        1319 non-null   float64\n",
      " 5   expenditure  1319 non-null   float64\n",
      " 6   owner        1319 non-null   object \n",
      " 7   selfemp      1319 non-null   object \n",
      " 8   dependents   1319 non-null   int64  \n",
      " 9   months       1319 non-null   int64  \n",
      " 10  majorcards   1319 non-null   int64  \n",
      " 11  active       1319 non-null   int64  \n",
      "dtypes: float64(4), int64(5), object(3)\n",
      "memory usage: 123.8+ KB\n",
      "  card  reports       age  income     share  expenditure owner selfemp  \\\n",
      "0  yes        0  37.66667  4.5200  0.033270   124.983300   yes      no   \n",
      "1  yes        0  33.25000  2.4200  0.005217     9.854167    no      no   \n",
      "2  yes        0  33.66667  4.5000  0.004156    15.000000   yes      no   \n",
      "3  yes        0  30.50000  2.5400  0.065214   137.869200    no      no   \n",
      "4  yes        0  32.16667  9.7867  0.067051   546.503300   yes      no   \n",
      "\n",
      "   dependents  months  majorcards  active  \n",
      "0           3      54           1      12  \n",
      "1           3      34           1      13  \n",
      "2           4      58           1       5  \n",
      "3           0      25           1       7  \n",
      "4           2      64           1       5  \n"
     ]
    }
   ],
   "source": [
    "# START ANSWER\n",
    "# Get basic information about the dataset\n",
    "cc_data.info()\n",
    "\n",
    "# Get summary statistics for the numerical columns\n",
    "cc_data.describe()\n",
    "\n",
    "print(cc_data.head())\n",
    "# END ANSWER"
   ]
  },
  {
   "cell_type": "markdown",
   "id": "46e476a1",
   "metadata": {
    "cellIdentifier": "ejcpvtufcf5am56xb5ut6m"
   },
   "source": [
    "In this dataset we are interested in predicting whether an application will receive a credit card. This is indicated in\n",
    "the column 'card'. For more information on the other columns, see [here](https://www.kaggle.com/dansbecker/aer-credit-card-data/version/1).\n",
    "\n",
    "<div style=\"background-color:#c2eafa\">\n",
    "\n",
    "**Question 5.2** Explain why for this application it is useful to use a decision tree instead of a linear\n",
    "classifier such as an SVM, or even a non-linear model such as a neural network.\n",
    "\n",
    "\n",
    "\n"
   ]
  },
  {
   "cell_type": "markdown",
   "id": "dffc44a7",
   "metadata": {
    "cellIdentifier": "kbymnenv9xq0f2pa429vj"
   },
   "source": [
    "<div style=\"background-color:#f1be3e\">\n",
    "\n",
    "[//]: # (START ANSWER)\n",
    "## Decision Trees offer interpretability, handle non-linear relationships without complex transformations, and perform efficiently on small-to-medium datasets. These qualities make them well-suited for applications like credit card approval, where explainability, transparency, and efficient performance are essential.\n",
    "[//]: # (END ANSWER)"
   ]
  },
  {
   "cell_type": "markdown",
   "id": "eae5f5be",
   "metadata": {
    "cellIdentifier": "8zc0ilb6s69gn98zgqbunq"
   },
   "source": [
    "<div style=\"background-color:#c2eafa\">\n",
    "\n",
    "**Question 5.3** As a first step, we are going to preprocess the dataset so that all features are numeric which is required by Scikit.  \n",
    "**Hint:** Use the pandas function [get_dummies](https://pandas.pydata.org/docs/reference/api/pandas.get_dummies.html). Look at the usage examples at the bottom of the page."
   ]
  },
  {
   "cell_type": "code",
   "execution_count": 30,
   "id": "a411bdd8",
   "metadata": {
    "cellIdentifier": "tvdhl2nv3fejdkwxrqqzb"
   },
   "outputs": [
    {
     "name": "stdout",
     "output_type": "stream",
     "text": [
      "   reports       age  income     share  expenditure  dependents  months  \\\n",
      "0        0  37.66667  4.5200  0.033270   124.983300           3      54   \n",
      "1        0  33.25000  2.4200  0.005217     9.854167           3      34   \n",
      "2        0  33.66667  4.5000  0.004156    15.000000           4      58   \n",
      "3        0  30.50000  2.5400  0.065214   137.869200           0      25   \n",
      "4        0  32.16667  9.7867  0.067051   546.503300           2      64   \n",
      "\n",
      "   majorcards  active  card_yes  owner_yes  selfemp_yes  \n",
      "0           1      12      True       True        False  \n",
      "1           1      13      True      False        False  \n",
      "2           1       5      True       True        False  \n",
      "3           1       7      True      False        False  \n",
      "4           1       5      True       True        False  \n"
     ]
    }
   ],
   "source": [
    "# START ANSWER\n",
    "\n",
    "# Preprocess the dataset: Convert categorical features to numeric\n",
    "cc_data_dummies = pd.get_dummies(cc_data, drop_first=True)\n",
    "\n",
    "# Display the first few rows of the processed dataset\n",
    "print(cc_data_dummies.head())\n",
    "\n",
    "# END ANSWER"
   ]
  },
  {
   "cell_type": "markdown",
   "id": "1f7c5ceb",
   "metadata": {
    "cellIdentifier": "8cloegcb763wgxc0b8rzpd"
   },
   "source": [
    "<div style=\"background-color:#c2eafa\">\n",
    "\n",
    "**Question 5.4**  Note that each dummy variable only has two levels, they are all either 'yes' or 'no'. If we use get_dummies naively, we will get a column: `card_yes` and `card_no`. But one column is already enough! If `card_yes` is 1, we  already know that `card_no` must be 0. Look one more time at the documentation to fix the issue.  \n",
    "**Note:** Make sure that afterward the dataframe has the following columns: `reports`, `age`, `income`, `share`, `expenditure`,\n",
    "`dependents`, `months`, `majorcards`, `active`, `card_yes`, `owner_yes`, `selfemp_yes`."
   ]
  },
  {
   "cell_type": "code",
   "execution_count": 31,
   "id": "aa0f78c4",
   "metadata": {
    "cellIdentifier": "nx0b5b6juxnjhgrhor2ac"
   },
   "outputs": [],
   "source": [
    "# START ANSWER\n",
    "# Separate features and target variable - no need, it's already done!\n",
    "#X = cc_data_dummies.drop(columns=['card_yes'])  # All columns except the target\n",
    "#y = cc_data_dummies['card_yes']  # Target variable\n",
    "# END ANSWER"
   ]
  },
  {
   "cell_type": "code",
   "execution_count": 34,
   "id": "5d1787e6",
   "metadata": {
    "cellIdentifier": "2a10lkgvq4qyde5jkeg98i"
   },
   "outputs": [],
   "source": [
    "# Code that verifies the columns are indeed correct here using\n",
    "assert (list(cc_data_dummies.columns) == ['reports', 'age', 'income', 'share', 'expenditure', 'dependents',\n",
    "       'months', 'majorcards', 'active', 'card_yes', 'owner_yes',\n",
    "       'selfemp_yes']) , \"Columns names are not correct.\""
   ]
  },
  {
   "cell_type": "markdown",
   "id": "e7c594b9",
   "metadata": {
    "cellIdentifier": "dta2uv7xmai4howe57271h"
   },
   "source": [
    "Now we store the class label in y, and we store the other features in `X`. We also split the dataset in a training and test set"
   ]
  },
  {
   "cell_type": "code",
   "execution_count": 35,
   "id": "f717e665",
   "metadata": {
    "cellIdentifier": "npr3hpg8e3qympitef6on"
   },
   "outputs": [],
   "source": [
    "y = cc_data_dummies[\"card_yes\"].to_numpy()\n",
    "cc_data_without_y = cc_data_dummies.drop(\"card_yes\", axis=1)\n",
    "X = cc_data_without_y.to_numpy()\n",
    "X_train, X_test, y_train, y_test = train_test_split(X, y, test_size=0.75, random_state=42) "
   ]
  },
  {
   "cell_type": "markdown",
   "id": "b29e74a8",
   "metadata": {
    "cellIdentifier": "w3f6ohj9puks57hklinuv"
   },
   "source": [
    "<div style=\"background-color:#c2eafa\">\n",
    "\n",
    "**Question 5.5** Train a decision tree model using the default hyper-parameters and compute the accuracy on the training and the test set."
   ]
  },
  {
   "cell_type": "code",
   "execution_count": 41,
   "id": "f6df98c5",
   "metadata": {
    "cellIdentifier": "z3vj01jk68hp7tj6t7bwq"
   },
   "outputs": [
    {
     "name": "stdout",
     "output_type": "stream",
     "text": [
      "Training Accuracy: 1.0000\n",
      "Test Accuracy: 0.9657\n"
     ]
    }
   ],
   "source": [
    "# START ANSWER\n",
    "from sklearn.tree import DecisionTreeClassifier\n",
    "from sklearn.metrics import accuracy_score\n",
    "\n",
    "# Initialize the Decision Tree Classifier\n",
    "dt_model = DecisionTreeClassifier(random_state=42)\n",
    "\n",
    "# Fit the model on the training data\n",
    "dt_model.fit(X_train, y_train)\n",
    "\n",
    "# Make predictions on the training and test sets\n",
    "y_train_pred = dt_model.predict(X_train)\n",
    "y_test_pred = dt_model.predict(X_test)\n",
    "\n",
    "# Compute the accuracy\n",
    "train_accuracy = accuracy_score(y_train, y_train_pred)\n",
    "test_accuracy = accuracy_score(y_test, y_test_pred)\n",
    "\n",
    "# Print the accuracy results\n",
    "print(f\"Training Accuracy: {train_accuracy:.4f}\")\n",
    "print(f\"Test Accuracy: {test_accuracy:.4f}\")\n",
    "\n",
    "# END ANSWER"
   ]
  },
  {
   "cell_type": "markdown",
   "id": "75726f52",
   "metadata": {
    "cellIdentifier": "qmzg2ttyg6rstfyu7va9e"
   },
   "source": [
    "<div style=\"background-color:#c2eafa\">\n",
    "\n",
    "**Question 5.6** Given the value of the training accuracy, what concern may we have about\n",
    "this decision tree?\n",
    "\n",
    "\n",
    "\n"
   ]
  },
  {
   "cell_type": "markdown",
   "id": "6bdf11c5",
   "metadata": {
    "cellIdentifier": "ier5liqfrmgaby4azsis8"
   },
   "source": [
    "<div style=\"background-color:#f1be3e\">\n",
    "\n",
    "[//]: # (START ANSWER)\n",
    "# It seems like it's overfitting. Probably there is something that makes it so easy to guess the result.\n",
    "\n",
    "[//]: # (END ANSWER)"
   ]
  },
  {
   "cell_type": "markdown",
   "id": "521c46c5",
   "metadata": {
    "cellIdentifier": "pxcnb93zonrgeq08qd7hul"
   },
   "source": [
    "The following piece of code plots the decision tree."
   ]
  },
  {
   "cell_type": "code",
   "execution_count": 42,
   "id": "cd07796a",
   "metadata": {
    "cellIdentifier": "p38cn0wspwhbqo8zvekddj"
   },
   "outputs": [
    {
     "data": {
      "image/png": "[encoded data removed]",
      "text/plain": [
       "<Figure size 1600x1600 with 1 Axes>"
      ]
     },
     "metadata": {
      "needs_background": "light"
     },
     "output_type": "display_data"
    }
   ],
   "source": [
    "plt.figure(figsize=(20,20),dpi=80)\n",
    "tree.plot_tree(dt_model,feature_names=cc_data_without_y.columns,filled=True)\n",
    "plt.show()"
   ]
  },
  {
   "cell_type": "markdown",
   "id": "7336568b",
   "metadata": {
    "cellIdentifier": "hk4n3vzl34p83lj3rn65wy"
   },
   "source": [
    "<div style=\"background-color:#c2eafa\">\n",
    "\n",
    "\n",
    "**Question 5.7** How many leaf nodes does this Tree have? What is the height of the tree? Which color is which class?\n",
    "\n",
    "\n",
    "\n",
    "\n",
    "\n",
    "\n",
    "\n",
    "\n"
   ]
  },
  {
   "cell_type": "markdown",
   "id": "6b9dcd1b",
   "metadata": {
    "cellIdentifier": "knmntq9igdrfwdlthel5"
   },
   "source": [
    "<div style=\"background-color:#f1be3e\">\n",
    "\n",
    "[//]: # (START ANSWER)\n",
    "# In this tree, there are 7 leaf nodes. The height of the tree is 5. Blue nodes represent one class (let's call it class 1). Orange nodes represent the other class (let's call it class 2)\n",
    "\n",
    "[//]: # (END ANSWER)"
   ]
  },
  {
   "cell_type": "markdown",
   "id": "776e2184",
   "metadata": {
    "cellIdentifier": "huasajf96ly601qpvl2oj"
   },
   "source": [
    "<div style=\"background-color:#c2eafa\">\n",
    "\n",
    "**Question 5.8** In each node some information is displayed. What does `samples`, `value` and `gini` mean?\n"
   ]
  },
  {
   "cell_type": "markdown",
   "id": "2bd58f9c",
   "metadata": {
    "cellIdentifier": "c87ut6xq4mjg7z1keu1vic"
   },
   "source": [
    "<div style=\"background-color:#f1be3e\">\n",
    "\n",
    "[//]: # (START ANSWER)\n",
    "    # samples: The number of data points (instances) that reach that node.\n",
    "    # value: A list showing the distribution of classes at that node. For example, [67, 262] means 67 samples of one class and 262 of the other class are present at that node. \n",
    "    #gini: The Gini impurity, a measure of node purity. It ranges from 0 to 1 where 0 means the node is pure (all samples belong to the same class) and higher values indicate more mix of classes.\n",
    "\n",
    "[//]: # (END ANSWER)\n",
    "   \n"
   ]
  },
  {
   "cell_type": "markdown",
   "id": "b354c466",
   "metadata": {
    "cellIdentifier": "cd0yh7pivuop934uwtzeq"
   },
   "source": [
    "<div style=\"background-color:#c2eafa\">\n",
    "\n",
    "**Question 5.9** Given the Tree above, do you think a credit card company is allowed to use this decision tree by law? Do you think this tree treats people in a fair way? Explain your answer.  \n",
    "**Hint:** To understand the decisions of the tree, consider the meaning of the variables which are given [here](https://www.kaggle.com/dansbecker/aer-credit-card-data/version/1)"
   ]
  },
  {
   "cell_type": "markdown",
   "id": "02f50872",
   "metadata": {
    "cellIdentifier": "honfg5bwncdd7jcjfck56n"
   },
   "source": [
    "<div style=\"background-color:#f1be3e\">\n",
    "\n",
    "[//]: # (START ANSWER)\n",
    "This decision tree likely raises significant legal and ethical concerns. It may not be lawful to use in many scenarios due to the explicit use of age and the heavy reliance on income. From a fairness perspective, it seems to oversimplify complex financial decisions and could lead to unfair treatment of certain groups.\n",
    "A more fair approach would likely involve:\n",
    "\n",
    "Using a wider range of relevant financial factors\n",
    "Regularly auditing the model for fairness and adjusting as necessary\n",
    "\n",
    "It's crucial for financial institutions to balance effective risk assessment with fair and ethical practices, often requiring more sophisticated and carefully designed models than the one shown here.\n",
    "\n",
    "[//]: # (END ANSWER)\n"
   ]
  },
  {
   "cell_type": "markdown",
   "id": "464a67a4",
   "metadata": {
    "cellIdentifier": "xvqi30ukgqshp91fhcs9c"
   },
   "source": [
    "<div style=\"background-color:#c2eafa\">\n",
    "\n",
    "**Question 5.10:** Retrain the decision tree, but now limit it's depth to 3 (see also the documentation of DecisionTreeClassifier). Again, compute the training accuracy, the test accuracy, and plot the tree. Be sure to pass the `random_state=42` to the decision tree."
   ]
  },
  {
   "cell_type": "code",
   "execution_count": 47,
   "id": "b98a5fe8",
   "metadata": {
    "cellIdentifier": "q43s99dmb30g8ha4adcqsg"
   },
   "outputs": [
    {
     "name": "stdout",
     "output_type": "stream",
     "text": [
      "Training Accuracy (max_depth=3): 0.9970\n",
      "Test Accuracy (max_depth=3): 0.9667\n"
     ]
    },
    {
     "data": {
      "image/png": "[encoded data removed]",
      "text/plain": [
       "<Figure size 1600x1600 with 1 Axes>"
      ]
     },
     "metadata": {
      "needs_background": "light"
     },
     "output_type": "display_data"
    }
   ],
   "source": [
    "# START ANSWER\n",
    "# Initialize the Decision Tree Classifier with max_depth of 3\n",
    "dt_model_limited = DecisionTreeClassifier(max_depth=3, random_state=42)\n",
    "\n",
    "# Fit the model on the training data\n",
    "dt_model_limited.fit(X_train, y_train)\n",
    "\n",
    "# Make predictions on the training and test sets\n",
    "y_train_pred_limited = dt_model_limited.predict(X_train)\n",
    "y_test_pred_limited = dt_model_limited.predict(X_test)\n",
    "\n",
    "# Compute the accuracy\n",
    "train_accuracy_limited = accuracy_score(y_train, y_train_pred_limited)\n",
    "test_accuracy_limited = accuracy_score(y_test, y_test_pred_limited)\n",
    "\n",
    "# Print the accuracy results\n",
    "print(f\"Training Accuracy (max_depth=3): {train_accuracy_limited:.4f}\")\n",
    "print(f\"Test Accuracy (max_depth=3): {test_accuracy_limited:.4f}\")\n",
    "\n",
    "# Plot the decision tree\n",
    "plt.figure(figsize=(20, 20), dpi=80)\n",
    "tree.plot_tree(dt_model_limited, feature_names=cc_data_without_y.columns, filled=True)\n",
    "plt.show()\n",
    "\n",
    "# END ANSWER"
   ]
  },
  {
   "cell_type": "markdown",
   "id": "7f657bdc",
   "metadata": {
    "cellIdentifier": "supcyo8catipyrtxidrmc"
   },
   "source": [
    "When looking at this decision tree, we can see that there is a split on age <= 43.9. Note that this split doesn't seem to improve the predictions of the decision tree because everything is still classified as orange.\n",
    "\n",
    "<div style=\"background-color:#c2eafa\">\n",
    "\n",
    "**Question 5.11**  Explain why this split is made by the decision tree.\n",
    "\n",
    "\n",
    "\n",
    "\n"
   ]
  },
  {
   "cell_type": "code",
   "execution_count": null,
   "id": "585a90c7-8776-4a57-b72a-e72726175aa8",
   "metadata": {},
   "outputs": [],
   "source": [
    "# The split on age <= 43.9 may not seem beneficial for classification, but it reflects the decision tree’s attempt to segment the data based on observed patterns, even if those patterns don’t lead to a clear improvement in prediction for that specific split. The decision tree prioritizes minimizing impurity, and this split is part of its process of forming a decision structure, regardless of the outcome at that particular node."
   ]
  },
  {
   "cell_type": "markdown",
   "id": "b2557d35",
   "metadata": {
    "cellIdentifier": "ie0uztwk0umo6tr2m1w3c"
   },
   "source": [
    "<div style=\"background-color:#f1be3e\">\n",
    "\n",
    "[//]: # (START ANSWER)\n",
    "[//]: # (END ANSWER)\n",
    "    \n"
   ]
  },
  {
   "cell_type": "markdown",
   "id": "95ddb327",
   "metadata": {
    "cellIdentifier": "lxbdlbvetzkfg2tkze72tv"
   },
   "source": [
    "Ideally, the credit card company would automate all credit card applications. However, in some cases, it may still be best to involve a human in the decision."
   ]
  },
  {
   "cell_type": "markdown",
   "id": "cfb93efc",
   "metadata": {
    "cellIdentifier": "oow72jy00g0rtk5f4s2csm"
   },
   "source": [
    "<div style=\"background-color:#c2eafa\">\n",
    "\n",
    "**Question 5.12**  Explain for which leaf nodes you would involve a human, and for which leaf nodes you would use an automated decision.\n"
   ]
  },
  {
   "cell_type": "markdown",
   "id": "034f2e48",
   "metadata": {
    "cellIdentifier": "lenyp5n9san0rsf6n65lr7"
   },
   "source": [
    "<div style=\"background-color:#f1be3e\">\n",
    "\n",
    "[//]: # (START ANSWER)\n",
    "A hybrid approach can maximize efficiency while maintaining oversight for high-stakes decisions. Automated processing can handle straightforward cases effectively, while human involvement can ensure careful consideration in ambiguous or high-risk situations, ultimately leading to better outcomes for both the applicants and the credit card company.\n",
    "    \n",
    "For example: up to a certain limit the money request can be approved automatically if the certain measurements are in place. However, above that limit a manuel check would be necessary.\n",
    "[//]: # (END ANSWER)"
   ]
  },
  {
   "cell_type": "markdown",
   "id": "9fda53f6",
   "metadata": {
    "cellIdentifier": "g2r0ncr2ber02j9zgtx2b"
   },
   "source": [
    "**Exercise 6**\n",
    "\n",
    "<div style=\"background-color:#c2eafa\">\n",
    "\n",
    "\n",
    "**Question 6.1** To determine the best hyperparameter setting for max_depth, it is useful to make a plot that explores the hyperparameter. Using a for-loop, try all settings for max_depth from 1 to 10. For each value, train a decision tree and compute the training and test accuracy. Finally, plot the training and test accuracy against the max_depth. "
   ]
  },
  {
   "cell_type": "code",
   "execution_count": null,
   "id": "e3f35e6b",
   "metadata": {
    "cellIdentifier": "y87gmo7ftj2mzbpi570n6"
   },
   "outputs": [],
   "source": [
    "# START ANSWER\n",
    "# END ANSWER"
   ]
  },
  {
   "cell_type": "markdown",
   "id": "253971d8",
   "metadata": {
    "cellIdentifier": "qnobw5ixxxqcmneiu84h5f"
   },
   "source": [
    "<div style=\"background-color:#c2eafa\">\n",
    "\n",
    "**Question 6.2**  From the plot, what seems to be the best setting for `max_depth`?\n",
    "\n",
    "\n",
    "\n"
   ]
  },
  {
   "cell_type": "markdown",
   "id": "fa574fa9",
   "metadata": {
    "cellIdentifier": "4mr65cn26aa0viksjg44qkn"
   },
   "source": [
    "<div style=\"background-color:#f1be3e\">\n",
    "\n",
    "[//]: # (START ANSWER)\n",
    "_Write your answer here._\n",
    "\n",
    "[//]: # (END ANSWER)"
   ]
  },
  {
   "cell_type": "markdown",
   "id": "b088485a",
   "metadata": {
    "cellIdentifier": "wcgcrsfqugi20aq6bn49n"
   },
   "source": [
    "Because the test errors are exactly the same, it is hard to judge which decision tree is superior. If we use cross validation, we can say something more reliable whether one tree is better than the other, because the standard deviations over the different folds tell us how reliable the estimate of the test error is. \n",
    "\n",
    "<div style=\"background-color:#c2eafa\">\n",
    "\n",
    "**Question 6.3** Use cross validation to recreate the plot above. Consider using [GridSearchCV](https://scikit-learn.org/stable/modules/generated/sklearn.model_selection.GridSearchCV.html) which is built into Scikit. You may make use of the default 5 fold cross validation. Store the results of the cross validation in `cv`."
   ]
  },
  {
   "cell_type": "code",
   "execution_count": null,
   "id": "c5672414",
   "metadata": {
    "cellIdentifier": "bjfsjo0g3rpulskgfbhrr"
   },
   "outputs": [],
   "source": [
    "from sklearn.model_selection import GridSearchCV\n",
    "\n",
    "# START ANSWER\n",
    "# END ANSWER"
   ]
  },
  {
   "cell_type": "markdown",
   "id": "0e5daf12",
   "metadata": {
    "cellIdentifier": "ypetvh7uo5vqg56fanj3e"
   },
   "source": [
    "The following code makes a dataframe from all the cross validation results. Itis useful to have a first look at them."
   ]
  },
  {
   "cell_type": "code",
   "execution_count": null,
   "id": "b84f7526",
   "metadata": {
    "cellIdentifier": "sl5rkp0sgyh72xugwcjn17"
   },
   "outputs": [],
   "source": [
    "pd.DataFrame(cv.cv_results_)"
   ]
  },
  {
   "cell_type": "markdown",
   "id": "d1005dce",
   "metadata": {
    "cellIdentifier": "sucza2stn6ooxwb4rcgfak"
   },
   "source": [
    "We are also going to display the cross validation results using `pyplot.errorbar`. \n",
    "\n",
    "<div style=\"background-color:#c2eafa\">\n",
    "\n",
    "**Question 6.4** Now make an error bar plot of the cross validation results. The x-axis should display the `max_depth` which ranges from 1 to 10. The y axis should display the `mean_test_accuracy`. The standard deviation should display the\n",
    "standard deviation of the test accuracy. Note that this is called the `score` in our dataframe."
   ]
  },
  {
   "cell_type": "code",
   "execution_count": null,
   "id": "d613b5f1",
   "metadata": {
    "cellIdentifier": "hnhdmcpykdajzlxu4nwdb"
   },
   "outputs": [],
   "source": [
    "# START ANSWER\n",
    "# END ANSWER"
   ]
  },
  {
   "cell_type": "markdown",
   "id": "747ae750",
   "metadata": {
    "cellIdentifier": "gbfeibszq37u80l6z6ajc"
   },
   "source": [
    "<div style=\"background-color:#c2eafa\">\n",
    "\n",
    "**Question 6.5** Can we determine which setting of `max_depth` is best from the cross validation results? Why (not)?\n",
    "\n",
    "\n",
    " \n",
    "\n",
    "\n"
   ]
  },
  {
   "cell_type": "markdown",
   "id": "e02e5e97",
   "metadata": {
    "cellIdentifier": "0xez647etucbiunsx3ub9ts"
   },
   "source": [
    "<div style=\"background-color:#f1be3e\">\n",
    "\n",
    "[//]: # (START ANSWER)\n",
    "_Write your answer here._\n",
    "\n",
    "[//]: # (END ANSWER)"
   ]
  },
  {
   "cell_type": "markdown",
   "id": "3104dd8d",
   "metadata": {
    "cellIdentifier": "vfwieiydbnku25d6t1n0y"
   },
   "source": [
    "<div style=\"background-color:#c2eafa\">\n",
    "\n",
    "**Question 6.6** What setting of the max_depth would you settle for? Why?\n"
   ]
  },
  {
   "cell_type": "markdown",
   "id": "2957fcaf",
   "metadata": {
    "cellIdentifier": "flhersnymaqfx5qyywdesm"
   },
   "source": [
    "<div style=\"background-color:#f1be3e\">\n",
    "\n",
    "[//]: # (START ANSWER)\n",
    "_Write your answer here._\n",
    "\n",
    "[//]: # (END ANSWER)\n"
   ]
  },
  {
   "cell_type": "markdown",
   "id": "481ed943",
   "metadata": {
    "cellIdentifier": "ozf2wd0fxgm5whp22sh2ju"
   },
   "source": [
    "<div style=\"background-color:#c2eafa\">\n",
    "\n",
    "**Question 6.7** Have a look at the hyperparameters `min_samples_split`, `min_samples_leaf`, and `max_leaf_nodes`. Explain how these hyperparameters regularize the decision tree."
   ]
  },
  {
   "cell_type": "markdown",
   "id": "537ba5dd",
   "metadata": {
    "cellIdentifier": "g1lnu3ubqij0t9nu8ygu8ef"
   },
   "source": [
    "<div style=\"background-color:#f1be3e\">\n",
    "\n",
    "[//]: # (START ANSWER)\n",
    "[//]: # (END ANSWER)"
   ]
  }
 ],
 "metadata": {
  "jupytext": {
   "formats": "ipynb,md"
  },
  "kernelspec": {
   "display_name": "Python 3 [3.10]",
   "language": "python",
   "name": "python3"
  },
  "language_info": {
   "codemirror_mode": {
    "name": "ipython",
    "version": 3
   },
   "file_extension": ".py",
   "mimetype": "text/x-python",
   "name": "python",
   "nbconvert_exporter": "python",
   "pygments_lexer": "ipython3",
   "version": "3.10.2"
  }
 },
 "nbformat": 4,
 "nbformat_minor": 5
}
