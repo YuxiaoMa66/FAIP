{
 "cells": [
  {
   "cell_type": "markdown",
   "id": "75e2194a",
   "metadata": {
    "cellIdentifier": "48zknveuii9816j3779fc2",
    "deletable": false,
    "editable": false,
    "nbgrader": {
     "grade": false,
     "locked": true,
     "solution": false
    }
   },
   "source": [
    "# Topic IV: Shrinkage and Variable Selection"
   ]
  },
  {
   "cell_type": "markdown",
   "id": "a7921bda",
   "metadata": {
    "cellIdentifier": "17wm26twgzwz5vxt7by8i",
    "deletable": false,
    "editable": false,
    "nbgrader": {
     "grade": false,
     "locked": true,
     "solution": false
    }
   },
   "source": [
    "**Information:**  \n",
    "We are using the book 'G. James et al. -  An Introduction to Statistical Learning (with Applications in Python)'. You can find a copy of it for free [here](https://www.statlearning.com/).\n",
    "\n",
    "In this exercise, we will predict the number of applications received using the other variables in the `College` data set."
   ]
  },
  {
   "cell_type": "markdown",
   "id": "884d9683",
   "metadata": {
    "cellIdentifier": "u5f6clul7arokp77bc0h8",
    "deletable": false,
    "editable": false,
    "nbgrader": {
     "grade": false,
     "locked": true,
     "solution": false
    }
   },
   "source": [
    "## Import modules, packages and libraries"
   ]
  },
  {
   "cell_type": "markdown",
   "id": "7f39bf19",
   "metadata": {
    "cellIdentifier": "mmn7hbq203tf9o7vlae8hk",
    "deletable": false,
    "editable": false,
    "nbgrader": {
     "grade": false,
     "locked": true,
     "solution": false
    }
   },
   "source": [
    "First, we import some useful modules, packages and libraries. These are needed for carrying out the computations and for plotting the results."
   ]
  },
  {
   "cell_type": "code",
   "execution_count": 1,
   "id": "dae6eec3",
   "metadata": {
    "cellIdentifier": "boo7pjyakb5x9dr9y4to1m"
   },
   "outputs": [],
   "source": [
    "import numpy as np\n",
    "import pandas as pd\n",
    "import matplotlib.pyplot as plt\n",
    "%matplotlib inline \n",
    "\n",
    "# sci-kit learn specifics\n",
    "# We will use the sklearn package to obtain ridge regression and lasso models.\n",
    "from sklearn.preprocessing import StandardScaler\n",
    "from sklearn.model_selection import train_test_split, GridSearchCV\n",
    "from sklearn.linear_model import Ridge, Lasso\n",
    "from sklearn.metrics import mean_squared_error"
   ]
  },
  {
   "cell_type": "markdown",
   "id": "349ff73a",
   "metadata": {
    "cellIdentifier": "lcodcebqj6s9gbw9dimkg",
    "deletable": false,
    "editable": false,
    "nbgrader": {
     "grade": false,
     "locked": true,
     "solution": false
    }
   },
   "source": [
    "## Load the `College` data set"
   ]
  },
  {
   "cell_type": "code",
   "execution_count": 2,
   "id": "3cbcc67b",
   "metadata": {
    "cellIdentifier": "wcpwrdzz0ynenhc8r7g4"
   },
   "outputs": [
    {
     "name": "stdout",
     "output_type": "stream",
     "text": [
      "<class 'pandas.core.frame.DataFrame'>\n",
      "Index: 78 entries, Abilene Christian University to Wofford College\n",
      "Data columns (total 18 columns):\n",
      " #   Column       Non-Null Count  Dtype  \n",
      "---  ------       --------------  -----  \n",
      " 0   Private      78 non-null     object \n",
      " 1   Apps         78 non-null     int64  \n",
      " 2   Accept       78 non-null     int64  \n",
      " 3   Enroll       78 non-null     int64  \n",
      " 4   Top10perc    78 non-null     int64  \n",
      " 5   Top25perc    78 non-null     int64  \n",
      " 6   F.Undergrad  78 non-null     int64  \n",
      " 7   P.Undergrad  78 non-null     int64  \n",
      " 8   Outstate     78 non-null     int64  \n",
      " 9   Room.Board   78 non-null     int64  \n",
      " 10  Books        78 non-null     int64  \n",
      " 11  Personal     78 non-null     int64  \n",
      " 12  PhD          78 non-null     int64  \n",
      " 13  Terminal     78 non-null     int64  \n",
      " 14  S.F.Ratio    78 non-null     float64\n",
      " 15  perc.alumni  78 non-null     int64  \n",
      " 16  Expend       78 non-null     int64  \n",
      " 17  Grad.Rate    78 non-null     int64  \n",
      "dtypes: float64(1), int64(16), object(1)\n",
      "memory usage: 11.6+ KB\n"
     ]
    },
    {
     "data": {
      "text/html": [
       "<div>\n",
       "<style scoped>\n",
       "    .dataframe tbody tr th:only-of-type {\n",
       "        vertical-align: middle;\n",
       "    }\n",
       "\n",
       "    .dataframe tbody tr th {\n",
       "        vertical-align: top;\n",
       "    }\n",
       "\n",
       "    .dataframe thead th {\n",
       "        text-align: right;\n",
       "    }\n",
       "</style>\n",
       "<table border=\"1\" class=\"dataframe\">\n",
       "  <thead>\n",
       "    <tr style=\"text-align: right;\">\n",
       "      <th></th>\n",
       "      <th>Private</th>\n",
       "      <th>Apps</th>\n",
       "      <th>Accept</th>\n",
       "      <th>Enroll</th>\n",
       "      <th>Top10perc</th>\n",
       "      <th>Top25perc</th>\n",
       "      <th>F.Undergrad</th>\n",
       "      <th>P.Undergrad</th>\n",
       "      <th>Outstate</th>\n",
       "      <th>Room.Board</th>\n",
       "      <th>Books</th>\n",
       "      <th>Personal</th>\n",
       "      <th>PhD</th>\n",
       "      <th>Terminal</th>\n",
       "      <th>S.F.Ratio</th>\n",
       "      <th>perc.alumni</th>\n",
       "      <th>Expend</th>\n",
       "      <th>Grad.Rate</th>\n",
       "    </tr>\n",
       "  </thead>\n",
       "  <tbody>\n",
       "    <tr>\n",
       "      <th>Abilene Christian University</th>\n",
       "      <td>Yes</td>\n",
       "      <td>1660</td>\n",
       "      <td>1232</td>\n",
       "      <td>721</td>\n",
       "      <td>23</td>\n",
       "      <td>52</td>\n",
       "      <td>2885</td>\n",
       "      <td>537</td>\n",
       "      <td>7440</td>\n",
       "      <td>3300</td>\n",
       "      <td>450</td>\n",
       "      <td>2200</td>\n",
       "      <td>70</td>\n",
       "      <td>78</td>\n",
       "      <td>18.1</td>\n",
       "      <td>12</td>\n",
       "      <td>7041</td>\n",
       "      <td>60</td>\n",
       "    </tr>\n",
       "    <tr>\n",
       "      <th>Alfred University</th>\n",
       "      <td>Yes</td>\n",
       "      <td>1732</td>\n",
       "      <td>1425</td>\n",
       "      <td>472</td>\n",
       "      <td>37</td>\n",
       "      <td>75</td>\n",
       "      <td>1830</td>\n",
       "      <td>110</td>\n",
       "      <td>16548</td>\n",
       "      <td>5406</td>\n",
       "      <td>500</td>\n",
       "      <td>600</td>\n",
       "      <td>82</td>\n",
       "      <td>88</td>\n",
       "      <td>11.3</td>\n",
       "      <td>31</td>\n",
       "      <td>10932</td>\n",
       "      <td>73</td>\n",
       "    </tr>\n",
       "    <tr>\n",
       "      <th>Antioch University</th>\n",
       "      <td>Yes</td>\n",
       "      <td>713</td>\n",
       "      <td>661</td>\n",
       "      <td>252</td>\n",
       "      <td>25</td>\n",
       "      <td>44</td>\n",
       "      <td>712</td>\n",
       "      <td>23</td>\n",
       "      <td>15476</td>\n",
       "      <td>3336</td>\n",
       "      <td>400</td>\n",
       "      <td>1100</td>\n",
       "      <td>69</td>\n",
       "      <td>82</td>\n",
       "      <td>11.3</td>\n",
       "      <td>35</td>\n",
       "      <td>42926</td>\n",
       "      <td>48</td>\n",
       "    </tr>\n",
       "    <tr>\n",
       "      <th>Augustana College</th>\n",
       "      <td>Yes</td>\n",
       "      <td>761</td>\n",
       "      <td>725</td>\n",
       "      <td>306</td>\n",
       "      <td>21</td>\n",
       "      <td>58</td>\n",
       "      <td>1337</td>\n",
       "      <td>300</td>\n",
       "      <td>10990</td>\n",
       "      <td>3244</td>\n",
       "      <td>600</td>\n",
       "      <td>1021</td>\n",
       "      <td>66</td>\n",
       "      <td>70</td>\n",
       "      <td>10.4</td>\n",
       "      <td>30</td>\n",
       "      <td>6871</td>\n",
       "      <td>69</td>\n",
       "    </tr>\n",
       "    <tr>\n",
       "      <th>Beaver College</th>\n",
       "      <td>Yes</td>\n",
       "      <td>1163</td>\n",
       "      <td>850</td>\n",
       "      <td>348</td>\n",
       "      <td>23</td>\n",
       "      <td>56</td>\n",
       "      <td>878</td>\n",
       "      <td>519</td>\n",
       "      <td>12850</td>\n",
       "      <td>5400</td>\n",
       "      <td>400</td>\n",
       "      <td>800</td>\n",
       "      <td>78</td>\n",
       "      <td>89</td>\n",
       "      <td>12.2</td>\n",
       "      <td>30</td>\n",
       "      <td>8954</td>\n",
       "      <td>73</td>\n",
       "    </tr>\n",
       "  </tbody>\n",
       "</table>\n",
       "</div>"
      ],
      "text/plain": [
       "                             Private  Apps  Accept  Enroll  Top10perc  \\\n",
       "Abilene Christian University     Yes  1660    1232     721         23   \n",
       "Alfred University                Yes  1732    1425     472         37   \n",
       "Antioch University               Yes   713     661     252         25   \n",
       "Augustana College                Yes   761     725     306         21   \n",
       "Beaver College                   Yes  1163     850     348         23   \n",
       "\n",
       "                              Top25perc  F.Undergrad  P.Undergrad  Outstate  \\\n",
       "Abilene Christian University         52         2885          537      7440   \n",
       "Alfred University                    75         1830          110     16548   \n",
       "Antioch University                   44          712           23     15476   \n",
       "Augustana College                    58         1337          300     10990   \n",
       "Beaver College                       56          878          519     12850   \n",
       "\n",
       "                              Room.Board  Books  Personal  PhD  Terminal  \\\n",
       "Abilene Christian University        3300    450      2200   70        78   \n",
       "Alfred University                   5406    500       600   82        88   \n",
       "Antioch University                  3336    400      1100   69        82   \n",
       "Augustana College                   3244    600      1021   66        70   \n",
       "Beaver College                      5400    400       800   78        89   \n",
       "\n",
       "                              S.F.Ratio  perc.alumni  Expend  Grad.Rate  \n",
       "Abilene Christian University       18.1           12    7041         60  \n",
       "Alfred University                  11.3           31   10932         73  \n",
       "Antioch University                 11.3           35   42926         48  \n",
       "Augustana College                  10.4           30    6871         69  \n",
       "Beaver College                     12.2           30    8954         73  "
      ]
     },
     "execution_count": 2,
     "metadata": {},
     "output_type": "execute_result"
    }
   ],
   "source": [
    "college = pd.read_csv('College10.csv', index_col = 0)\n",
    "\n",
    "# Display information about the data set\n",
    "college.info()\n",
    "\n",
    "# Return summary statistics for each column\n",
    "college.describe()\n",
    "\n",
    "# Return first five rows of the data set\n",
    "college.head()"
   ]
  },
  {
   "cell_type": "code",
   "execution_count": 3,
   "id": "26e118fc-d995-4124-a753-964d66d185e0",
   "metadata": {
    "cellIdentifier": "asrmcde9s5vptks19gpcza"
   },
   "outputs": [],
   "source": [
    "### PREPROCESSING HERE\n",
    "# make the column \"Private\" in to a binary variable\n",
    "college['Private'] = college['Private'].apply(lambda x: 1 if x == 'Yes' else 0)\n"
   ]
  },
  {
   "cell_type": "markdown",
   "id": "0a76e562",
   "metadata": {
    "cellIdentifier": "zwrv25yvbg1rcij4drtdm"
   },
   "source": [
    "**(a) Normalize the data and split it into a training set and a test set.**"
   ]
  },
  {
   "cell_type": "code",
   "execution_count": 4,
   "id": "3c6ccfbf",
   "metadata": {
    "cellIdentifier": "68fqks3nsvpxmipiajrp"
   },
   "outputs": [],
   "source": [
    "### YOUR CODE HERE\n",
    "# normalize the data\n",
    "scaler = StandardScaler()\n",
    "X = college.drop('Apps', axis = 1)\n",
    "X = scaler.fit_transform(X)\n",
    "y = college['Apps']\n",
    "\n",
    "# split the data\n",
    "X_train, X_test, y_train, y_test = train_test_split(X, y, test_size = 0.2, random_state = 42)\n"
   ]
  },
  {
   "cell_type": "markdown",
   "id": "9b98ff19",
   "metadata": {
    "cellIdentifier": "2k74i0maybclpg4ztjpyr"
   },
   "source": [
    "**(b) Fit a linear model using least squares on the training set, and report the test error obtained.**"
   ]
  },
  {
   "cell_type": "code",
   "execution_count": 5,
   "id": "ede2b1e4",
   "metadata": {
    "cellIdentifier": "xmyecvwkjjvk4tx8hxall"
   },
   "outputs": [
    {
     "name": "stdout",
     "output_type": "stream",
     "text": [
      "OLS MSE: 2916275.3351350143\n"
     ]
    }
   ],
   "source": [
    "### YOUR CODE HERE\n",
    "# linear regression using ols\n",
    "from sklearn.linear_model import LinearRegression\n",
    "lm = LinearRegression()\n",
    "lm.fit(X_train, y_train)\n",
    "y_pred = lm.predict(X_test)\n",
    "print('OLS MSE:', mean_squared_error(y_test, y_pred))\n"
   ]
  },
  {
   "cell_type": "markdown",
   "id": "367e021b",
   "metadata": {
    "cellIdentifier": "tz2g8bwz2y7x960afth6u"
   },
   "source": [
    "**(c) Fit a ridge regression model on the training set, with $ \\lambda $ chosen by cross-validation. Report the test error obtained.**"
   ]
  },
  {
   "cell_type": "code",
   "execution_count": 6,
   "id": "ee55179e",
   "metadata": {
    "cellIdentifier": "qob5m44t0gyoc2jnoky8"
   },
   "outputs": [
    {
     "name": "stdout",
     "output_type": "stream",
     "text": [
      "Ridge MSE: 1123150.419091357\n"
     ]
    }
   ],
   "source": [
    "### YOUR CODE HERE\n",
    "# ridge regression with lambda chosen by cross validation\n",
    "from sklearn.linear_model import Ridge\n",
    "ridge = Ridge()\n",
    "parameters = {'alpha': np.logspace(-5, 5, 100)}\n",
    "# ridSearchCV is used to systematically traverse multiple parameter combinations and determine the best parameters through cross-validation. 5-fold cross-validation is used.\n",
    "ridge_cv = GridSearchCV(ridge, parameters, cv = 5)\n",
    "ridge_cv.fit(X_train, y_train)\n",
    "y_pred = ridge_cv.predict(X_test)\n",
    "print('Ridge MSE:', mean_squared_error(y_test, y_pred))\n"
   ]
  },
  {
   "cell_type": "markdown",
   "id": "4a2ba056-369b-4c27-9759-f3ebb0c96cd8",
   "metadata": {
    "cellIdentifier": "q8b83pgck8ioep5zvlgyj"
   },
   "source": [
    "**(d) Fit a lasso model on the training set, with $ \\lambda $ chosen by cross-validation. Report the test error obtained, along with the number of non-zero coefficient estimates.**"
   ]
  },
  {
   "cell_type": "code",
   "execution_count": 8,
   "id": "66600c64-e03a-47af-8bb7-6317486836df",
   "metadata": {
    "cellIdentifier": "0pzprezz2p7r8gxdqrzt53"
   },
   "outputs": [
    {
     "name": "stdout",
     "output_type": "stream",
     "text": [
      "Lasso MSE: 1725606.852975984\n"
     ]
    }
   ],
   "source": [
    "### YOUR CODE HERE\n",
    "# lasso regression with lambda chosen by cross validation\n",
    "from sklearn.linear_model import Lasso\n",
    "lasso = Lasso()\n",
    "parameters = {'alpha': np.logspace(-5, 5, 100)}\n",
    "# ridSearchCV is used to systematically traverse multiple parameter combinations and determine the best parameters through cross-validation. 5-fold cross-validation is used.\n",
    "lasso_cv = GridSearchCV(lasso, parameters, cv = 5)\n",
    "lasso_cv.fit(X_train, y_train)\n",
    "y_pred = lasso_cv.predict(X_test)\n",
    "print('Lasso MSE:', mean_squared_error(y_test, y_pred))"
   ]
  },
  {
   "cell_type": "markdown",
   "id": "911c02c3",
   "metadata": {
    "cellIdentifier": "vff3jv3lnvrquq4l9fkg"
   },
   "source": [
    "**(g) Comment on the results obtained. How accurately can we predict the number of college applications received?**"
   ]
  },
  {
   "cell_type": "code",
   "execution_count": 9,
   "id": "f67aae1d",
   "metadata": {
    "cellIdentifier": "9wh9wb7vyxlmjodda84nhc"
   },
   "outputs": [
    {
     "name": "stdout",
     "output_type": "stream",
     "text": [
      "OLS R^2: 0.5856596801300409\n",
      "Ridge R^2: 0.8404243596954996\n",
      "Lasso R^2: 0.7548281923802778\n"
     ]
    }
   ],
   "source": [
    "### YOUR CODE HERE\n",
    "# compute the accuracy of the model, the R^2 value which equals 1 - (MSE of the model / MSE of the baseline model)\n",
    "print('OLS R^2:', lm.score(X_test, y_test))\n",
    "print('Ridge R^2:', ridge_cv.score(X_test, y_test))\n",
    "print('Lasso R^2:', lasso_cv.score(X_test, y_test))\n"
   ]
  },
  {
   "cell_type": "markdown",
   "id": "8f5ff4d6-66e9-45f5-8461-fee4bafd7696",
   "metadata": {
    "cellIdentifier": "hq0ino1fpto9m9ma0ge0xu"
   },
   "source": [
    "\\### YOUR COMMENTS HERE"
   ]
  }
 ],
 "metadata": {
  "kernel_id": "52408fb4-3b21-4335-bec2-8043d0c6bf5f",
  "kernelspec": {
   "display_name": "Python 3 [3.10]",
   "language": "python",
   "name": "python3"
  },
  "language_info": {
   "codemirror_mode": {
    "name": "ipython",
    "version": 3
   },
   "file_extension": ".py",
   "mimetype": "text/x-python",
   "name": "python",
   "nbconvert_exporter": "python",
   "pygments_lexer": "ipython3",
   "version": "3.11.9"
  }
 },
 "nbformat": 4,
 "nbformat_minor": 5
}
